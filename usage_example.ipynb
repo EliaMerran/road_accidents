{
 "cells": [
  {
   "cell_type": "markdown",
   "source": [
    "# Usage Example\n",
    "1. Load Accidents and Clusters Data\n",
    "2. Train Models\n",
    "3. Load Trained Models and Configuration"
   ],
   "metadata": {
    "collapsed": false
   },
   "id": "4b1e3016f5f91ae5"
  },
  {
   "cell_type": "code",
   "execution_count": 16,
   "outputs": [],
   "source": [
    "import utilities\n",
    "import graphs_templates\n",
    "import model_training\n",
    "import pandas as pd\n",
    "import xgboost as xgb\n",
    "from sklearn.metrics import roc_curve\n",
    "import json\n"
   ],
   "metadata": {
    "collapsed": false,
    "ExecuteTime": {
     "end_time": "2024-05-16T08:55:59.548716900Z",
     "start_time": "2024-05-16T08:55:59.448489500Z"
    }
   },
   "id": "initial_id"
  },
  {
   "cell_type": "markdown",
   "source": [
    "## 1. Load Accidents and Clusters Data"
   ],
   "metadata": {
    "collapsed": false
   },
   "id": "8044893e062a2282"
  },
  {
   "cell_type": "code",
   "execution_count": 17,
   "outputs": [],
   "source": [
    "config = utilities.load_config()\n",
    "data = utilities.load_data(config)\n",
    "clusters_data = pd.read_csv(config[\"CLUSTERS_DATA_PATH\"])"
   ],
   "metadata": {
    "collapsed": false,
    "ExecuteTime": {
     "end_time": "2024-05-16T08:56:05.591966200Z",
     "start_time": "2024-05-16T08:55:59.468438Z"
    }
   },
   "id": "5a0e27aecfdb1ded"
  },
  {
   "cell_type": "code",
   "execution_count": 18,
   "outputs": [
    {
     "data": {
      "application/vnd.plotly.v1+json": {
       "data": [
        {
         "hovertemplate": "HUMRAT_TEUNA=1<br>Year=%{x}<br>count=%{y}<extra></extra>",
         "legendgroup": "1",
         "line": {
          "color": "#636efa",
          "dash": "solid"
         },
         "marker": {
          "symbol": "circle"
         },
         "mode": "lines+markers",
         "name": "1",
         "orientation": "v",
         "showlegend": true,
         "x": [
          2008,
          2009,
          2010,
          2011,
          2012,
          2013,
          2014,
          2015,
          2016,
          2017,
          2018,
          2019
         ],
         "xaxis": "x",
         "y": [
          239,
          218,
          229,
          247,
          201,
          213,
          213,
          259,
          269,
          267,
          230,
          248
         ],
         "yaxis": "y",
         "type": "scatter"
        },
        {
         "hovertemplate": "HUMRAT_TEUNA=2<br>Year=%{x}<br>count=%{y}<extra></extra>",
         "legendgroup": "2",
         "line": {
          "color": "#EF553B",
          "dash": "solid"
         },
         "marker": {
          "symbol": "circle"
         },
         "mode": "lines+markers",
         "name": "2",
         "orientation": "v",
         "showlegend": true,
         "x": [
          2008,
          2009,
          2010,
          2011,
          2012,
          2013,
          2014,
          2015,
          2016,
          2017,
          2018,
          2019
         ],
         "xaxis": "x",
         "y": [
          1077,
          965,
          914,
          732,
          949,
          1093,
          1098,
          1241,
          1350,
          1431,
          1306,
          1454
         ],
         "yaxis": "y",
         "type": "scatter"
        },
        {
         "hovertemplate": "HUMRAT_TEUNA=3<br>Year=%{x}<br>count=%{y}<extra></extra>",
         "legendgroup": "3",
         "line": {
          "color": "#00cc96",
          "dash": "solid"
         },
         "marker": {
          "symbol": "circle"
         },
         "mode": "lines+markers",
         "name": "3",
         "orientation": "v",
         "showlegend": true,
         "x": [
          2008,
          2009,
          2010,
          2011,
          2012,
          2013,
          2014,
          2015,
          2016,
          2017,
          2018,
          2019
         ],
         "xaxis": "x",
         "y": [
          9738,
          9379,
          8757,
          8281,
          7844,
          7889,
          7142,
          8042,
          7792,
          8649,
          8153,
          8034
         ],
         "yaxis": "y",
         "type": "scatter"
        },
        {
         "hovertemplate": "HUMRAT_TEUNA=4<br>Year=%{x}<br>count=%{y}<extra></extra>",
         "legendgroup": "4",
         "line": {
          "color": "#ab63fa",
          "dash": "solid"
         },
         "marker": {
          "symbol": "circle"
         },
         "mode": "lines+markers",
         "name": "4",
         "orientation": "v",
         "showlegend": true,
         "x": [
          2008,
          2009,
          2010,
          2011,
          2012,
          2013,
          2014,
          2015,
          2016,
          2017,
          2018,
          2019
         ],
         "xaxis": "x",
         "y": [
          6769,
          6563,
          8076,
          13022,
          13964,
          12614,
          12578,
          14461,
          15288,
          15461,
          14887,
          16209
         ],
         "yaxis": "y",
         "type": "scatter"
        }
       ],
       "layout": {
        "template": {
         "data": {
          "histogram2dcontour": [
           {
            "type": "histogram2dcontour",
            "colorbar": {
             "outlinewidth": 0,
             "ticks": ""
            },
            "colorscale": [
             [
              0.0,
              "#0d0887"
             ],
             [
              0.1111111111111111,
              "#46039f"
             ],
             [
              0.2222222222222222,
              "#7201a8"
             ],
             [
              0.3333333333333333,
              "#9c179e"
             ],
             [
              0.4444444444444444,
              "#bd3786"
             ],
             [
              0.5555555555555556,
              "#d8576b"
             ],
             [
              0.6666666666666666,
              "#ed7953"
             ],
             [
              0.7777777777777778,
              "#fb9f3a"
             ],
             [
              0.8888888888888888,
              "#fdca26"
             ],
             [
              1.0,
              "#f0f921"
             ]
            ]
           }
          ],
          "choropleth": [
           {
            "type": "choropleth",
            "colorbar": {
             "outlinewidth": 0,
             "ticks": ""
            }
           }
          ],
          "histogram2d": [
           {
            "type": "histogram2d",
            "colorbar": {
             "outlinewidth": 0,
             "ticks": ""
            },
            "colorscale": [
             [
              0.0,
              "#0d0887"
             ],
             [
              0.1111111111111111,
              "#46039f"
             ],
             [
              0.2222222222222222,
              "#7201a8"
             ],
             [
              0.3333333333333333,
              "#9c179e"
             ],
             [
              0.4444444444444444,
              "#bd3786"
             ],
             [
              0.5555555555555556,
              "#d8576b"
             ],
             [
              0.6666666666666666,
              "#ed7953"
             ],
             [
              0.7777777777777778,
              "#fb9f3a"
             ],
             [
              0.8888888888888888,
              "#fdca26"
             ],
             [
              1.0,
              "#f0f921"
             ]
            ]
           }
          ],
          "heatmap": [
           {
            "type": "heatmap",
            "colorbar": {
             "outlinewidth": 0,
             "ticks": ""
            },
            "colorscale": [
             [
              0.0,
              "#0d0887"
             ],
             [
              0.1111111111111111,
              "#46039f"
             ],
             [
              0.2222222222222222,
              "#7201a8"
             ],
             [
              0.3333333333333333,
              "#9c179e"
             ],
             [
              0.4444444444444444,
              "#bd3786"
             ],
             [
              0.5555555555555556,
              "#d8576b"
             ],
             [
              0.6666666666666666,
              "#ed7953"
             ],
             [
              0.7777777777777778,
              "#fb9f3a"
             ],
             [
              0.8888888888888888,
              "#fdca26"
             ],
             [
              1.0,
              "#f0f921"
             ]
            ]
           }
          ],
          "heatmapgl": [
           {
            "type": "heatmapgl",
            "colorbar": {
             "outlinewidth": 0,
             "ticks": ""
            },
            "colorscale": [
             [
              0.0,
              "#0d0887"
             ],
             [
              0.1111111111111111,
              "#46039f"
             ],
             [
              0.2222222222222222,
              "#7201a8"
             ],
             [
              0.3333333333333333,
              "#9c179e"
             ],
             [
              0.4444444444444444,
              "#bd3786"
             ],
             [
              0.5555555555555556,
              "#d8576b"
             ],
             [
              0.6666666666666666,
              "#ed7953"
             ],
             [
              0.7777777777777778,
              "#fb9f3a"
             ],
             [
              0.8888888888888888,
              "#fdca26"
             ],
             [
              1.0,
              "#f0f921"
             ]
            ]
           }
          ],
          "contourcarpet": [
           {
            "type": "contourcarpet",
            "colorbar": {
             "outlinewidth": 0,
             "ticks": ""
            }
           }
          ],
          "contour": [
           {
            "type": "contour",
            "colorbar": {
             "outlinewidth": 0,
             "ticks": ""
            },
            "colorscale": [
             [
              0.0,
              "#0d0887"
             ],
             [
              0.1111111111111111,
              "#46039f"
             ],
             [
              0.2222222222222222,
              "#7201a8"
             ],
             [
              0.3333333333333333,
              "#9c179e"
             ],
             [
              0.4444444444444444,
              "#bd3786"
             ],
             [
              0.5555555555555556,
              "#d8576b"
             ],
             [
              0.6666666666666666,
              "#ed7953"
             ],
             [
              0.7777777777777778,
              "#fb9f3a"
             ],
             [
              0.8888888888888888,
              "#fdca26"
             ],
             [
              1.0,
              "#f0f921"
             ]
            ]
           }
          ],
          "surface": [
           {
            "type": "surface",
            "colorbar": {
             "outlinewidth": 0,
             "ticks": ""
            },
            "colorscale": [
             [
              0.0,
              "#0d0887"
             ],
             [
              0.1111111111111111,
              "#46039f"
             ],
             [
              0.2222222222222222,
              "#7201a8"
             ],
             [
              0.3333333333333333,
              "#9c179e"
             ],
             [
              0.4444444444444444,
              "#bd3786"
             ],
             [
              0.5555555555555556,
              "#d8576b"
             ],
             [
              0.6666666666666666,
              "#ed7953"
             ],
             [
              0.7777777777777778,
              "#fb9f3a"
             ],
             [
              0.8888888888888888,
              "#fdca26"
             ],
             [
              1.0,
              "#f0f921"
             ]
            ]
           }
          ],
          "mesh3d": [
           {
            "type": "mesh3d",
            "colorbar": {
             "outlinewidth": 0,
             "ticks": ""
            }
           }
          ],
          "scatter": [
           {
            "fillpattern": {
             "fillmode": "overlay",
             "size": 10,
             "solidity": 0.2
            },
            "type": "scatter"
           }
          ],
          "parcoords": [
           {
            "type": "parcoords",
            "line": {
             "colorbar": {
              "outlinewidth": 0,
              "ticks": ""
             }
            }
           }
          ],
          "scatterpolargl": [
           {
            "type": "scatterpolargl",
            "marker": {
             "colorbar": {
              "outlinewidth": 0,
              "ticks": ""
             }
            }
           }
          ],
          "bar": [
           {
            "error_x": {
             "color": "#2a3f5f"
            },
            "error_y": {
             "color": "#2a3f5f"
            },
            "marker": {
             "line": {
              "color": "#E5ECF6",
              "width": 0.5
             },
             "pattern": {
              "fillmode": "overlay",
              "size": 10,
              "solidity": 0.2
             }
            },
            "type": "bar"
           }
          ],
          "scattergeo": [
           {
            "type": "scattergeo",
            "marker": {
             "colorbar": {
              "outlinewidth": 0,
              "ticks": ""
             }
            }
           }
          ],
          "scatterpolar": [
           {
            "type": "scatterpolar",
            "marker": {
             "colorbar": {
              "outlinewidth": 0,
              "ticks": ""
             }
            }
           }
          ],
          "histogram": [
           {
            "marker": {
             "pattern": {
              "fillmode": "overlay",
              "size": 10,
              "solidity": 0.2
             }
            },
            "type": "histogram"
           }
          ],
          "scattergl": [
           {
            "type": "scattergl",
            "marker": {
             "colorbar": {
              "outlinewidth": 0,
              "ticks": ""
             }
            }
           }
          ],
          "scatter3d": [
           {
            "type": "scatter3d",
            "line": {
             "colorbar": {
              "outlinewidth": 0,
              "ticks": ""
             }
            },
            "marker": {
             "colorbar": {
              "outlinewidth": 0,
              "ticks": ""
             }
            }
           }
          ],
          "scattermapbox": [
           {
            "type": "scattermapbox",
            "marker": {
             "colorbar": {
              "outlinewidth": 0,
              "ticks": ""
             }
            }
           }
          ],
          "scatterternary": [
           {
            "type": "scatterternary",
            "marker": {
             "colorbar": {
              "outlinewidth": 0,
              "ticks": ""
             }
            }
           }
          ],
          "scattercarpet": [
           {
            "type": "scattercarpet",
            "marker": {
             "colorbar": {
              "outlinewidth": 0,
              "ticks": ""
             }
            }
           }
          ],
          "carpet": [
           {
            "aaxis": {
             "endlinecolor": "#2a3f5f",
             "gridcolor": "white",
             "linecolor": "white",
             "minorgridcolor": "white",
             "startlinecolor": "#2a3f5f"
            },
            "baxis": {
             "endlinecolor": "#2a3f5f",
             "gridcolor": "white",
             "linecolor": "white",
             "minorgridcolor": "white",
             "startlinecolor": "#2a3f5f"
            },
            "type": "carpet"
           }
          ],
          "table": [
           {
            "cells": {
             "fill": {
              "color": "#EBF0F8"
             },
             "line": {
              "color": "white"
             }
            },
            "header": {
             "fill": {
              "color": "#C8D4E3"
             },
             "line": {
              "color": "white"
             }
            },
            "type": "table"
           }
          ],
          "barpolar": [
           {
            "marker": {
             "line": {
              "color": "#E5ECF6",
              "width": 0.5
             },
             "pattern": {
              "fillmode": "overlay",
              "size": 10,
              "solidity": 0.2
             }
            },
            "type": "barpolar"
           }
          ],
          "pie": [
           {
            "automargin": true,
            "type": "pie"
           }
          ]
         },
         "layout": {
          "autotypenumbers": "strict",
          "colorway": [
           "#636efa",
           "#EF553B",
           "#00cc96",
           "#ab63fa",
           "#FFA15A",
           "#19d3f3",
           "#FF6692",
           "#B6E880",
           "#FF97FF",
           "#FECB52"
          ],
          "font": {
           "color": "#2a3f5f"
          },
          "hovermode": "closest",
          "hoverlabel": {
           "align": "left"
          },
          "paper_bgcolor": "white",
          "plot_bgcolor": "#E5ECF6",
          "polar": {
           "bgcolor": "#E5ECF6",
           "angularaxis": {
            "gridcolor": "white",
            "linecolor": "white",
            "ticks": ""
           },
           "radialaxis": {
            "gridcolor": "white",
            "linecolor": "white",
            "ticks": ""
           }
          },
          "ternary": {
           "bgcolor": "#E5ECF6",
           "aaxis": {
            "gridcolor": "white",
            "linecolor": "white",
            "ticks": ""
           },
           "baxis": {
            "gridcolor": "white",
            "linecolor": "white",
            "ticks": ""
           },
           "caxis": {
            "gridcolor": "white",
            "linecolor": "white",
            "ticks": ""
           }
          },
          "coloraxis": {
           "colorbar": {
            "outlinewidth": 0,
            "ticks": ""
           }
          },
          "colorscale": {
           "sequential": [
            [
             0.0,
             "#0d0887"
            ],
            [
             0.1111111111111111,
             "#46039f"
            ],
            [
             0.2222222222222222,
             "#7201a8"
            ],
            [
             0.3333333333333333,
             "#9c179e"
            ],
            [
             0.4444444444444444,
             "#bd3786"
            ],
            [
             0.5555555555555556,
             "#d8576b"
            ],
            [
             0.6666666666666666,
             "#ed7953"
            ],
            [
             0.7777777777777778,
             "#fb9f3a"
            ],
            [
             0.8888888888888888,
             "#fdca26"
            ],
            [
             1.0,
             "#f0f921"
            ]
           ],
           "sequentialminus": [
            [
             0.0,
             "#0d0887"
            ],
            [
             0.1111111111111111,
             "#46039f"
            ],
            [
             0.2222222222222222,
             "#7201a8"
            ],
            [
             0.3333333333333333,
             "#9c179e"
            ],
            [
             0.4444444444444444,
             "#bd3786"
            ],
            [
             0.5555555555555556,
             "#d8576b"
            ],
            [
             0.6666666666666666,
             "#ed7953"
            ],
            [
             0.7777777777777778,
             "#fb9f3a"
            ],
            [
             0.8888888888888888,
             "#fdca26"
            ],
            [
             1.0,
             "#f0f921"
            ]
           ],
           "diverging": [
            [
             0,
             "#8e0152"
            ],
            [
             0.1,
             "#c51b7d"
            ],
            [
             0.2,
             "#de77ae"
            ],
            [
             0.3,
             "#f1b6da"
            ],
            [
             0.4,
             "#fde0ef"
            ],
            [
             0.5,
             "#f7f7f7"
            ],
            [
             0.6,
             "#e6f5d0"
            ],
            [
             0.7,
             "#b8e186"
            ],
            [
             0.8,
             "#7fbc41"
            ],
            [
             0.9,
             "#4d9221"
            ],
            [
             1,
             "#276419"
            ]
           ]
          },
          "xaxis": {
           "gridcolor": "white",
           "linecolor": "white",
           "ticks": "",
           "title": {
            "standoff": 15
           },
           "zerolinecolor": "white",
           "automargin": true,
           "zerolinewidth": 2
          },
          "yaxis": {
           "gridcolor": "white",
           "linecolor": "white",
           "ticks": "",
           "title": {
            "standoff": 15
           },
           "zerolinecolor": "white",
           "automargin": true,
           "zerolinewidth": 2
          },
          "scene": {
           "xaxis": {
            "backgroundcolor": "#E5ECF6",
            "gridcolor": "white",
            "linecolor": "white",
            "showbackground": true,
            "ticks": "",
            "zerolinecolor": "white",
            "gridwidth": 2
           },
           "yaxis": {
            "backgroundcolor": "#E5ECF6",
            "gridcolor": "white",
            "linecolor": "white",
            "showbackground": true,
            "ticks": "",
            "zerolinecolor": "white",
            "gridwidth": 2
           },
           "zaxis": {
            "backgroundcolor": "#E5ECF6",
            "gridcolor": "white",
            "linecolor": "white",
            "showbackground": true,
            "ticks": "",
            "zerolinecolor": "white",
            "gridwidth": 2
           }
          },
          "shapedefaults": {
           "line": {
            "color": "#2a3f5f"
           }
          },
          "annotationdefaults": {
           "arrowcolor": "#2a3f5f",
           "arrowhead": 0,
           "arrowwidth": 1
          },
          "geo": {
           "bgcolor": "white",
           "landcolor": "#E5ECF6",
           "subunitcolor": "white",
           "showland": true,
           "showlakes": true,
           "lakecolor": "white"
          },
          "title": {
           "x": 0.05
          },
          "mapbox": {
           "style": "light"
          }
         }
        },
        "xaxis": {
         "anchor": "y",
         "domain": [
          0.0,
          1.0
         ],
         "title": {
          "text": "Year"
         }
        },
        "yaxis": {
         "anchor": "x",
         "domain": [
          0.0,
          1.0
         ],
         "title": {
          "text": "count"
         }
        },
        "legend": {
         "title": {
          "text": "HUMRAT_TEUNA"
         },
         "tracegroupgap": 0
        },
        "title": {
         "text": "Accidents by Severity per Year ISRAEL"
        }
       },
       "config": {
        "plotlyServerURL": "https://plot.ly"
       }
      },
      "text/html": "<div>                            <div id=\"f673449d-76e9-47c3-b5c5-051145353fed\" class=\"plotly-graph-div\" style=\"height:525px; width:100%;\"></div>            <script type=\"text/javascript\">                require([\"plotly\"], function(Plotly) {                    window.PLOTLYENV=window.PLOTLYENV || {};                                    if (document.getElementById(\"f673449d-76e9-47c3-b5c5-051145353fed\")) {                    Plotly.newPlot(                        \"f673449d-76e9-47c3-b5c5-051145353fed\",                        [{\"hovertemplate\":\"HUMRAT_TEUNA=1\\u003cbr\\u003eYear=%{x}\\u003cbr\\u003ecount=%{y}\\u003cextra\\u003e\\u003c\\u002fextra\\u003e\",\"legendgroup\":\"1\",\"line\":{\"color\":\"#636efa\",\"dash\":\"solid\"},\"marker\":{\"symbol\":\"circle\"},\"mode\":\"lines+markers\",\"name\":\"1\",\"orientation\":\"v\",\"showlegend\":true,\"x\":[2008,2009,2010,2011,2012,2013,2014,2015,2016,2017,2018,2019],\"xaxis\":\"x\",\"y\":[239,218,229,247,201,213,213,259,269,267,230,248],\"yaxis\":\"y\",\"type\":\"scatter\"},{\"hovertemplate\":\"HUMRAT_TEUNA=2\\u003cbr\\u003eYear=%{x}\\u003cbr\\u003ecount=%{y}\\u003cextra\\u003e\\u003c\\u002fextra\\u003e\",\"legendgroup\":\"2\",\"line\":{\"color\":\"#EF553B\",\"dash\":\"solid\"},\"marker\":{\"symbol\":\"circle\"},\"mode\":\"lines+markers\",\"name\":\"2\",\"orientation\":\"v\",\"showlegend\":true,\"x\":[2008,2009,2010,2011,2012,2013,2014,2015,2016,2017,2018,2019],\"xaxis\":\"x\",\"y\":[1077,965,914,732,949,1093,1098,1241,1350,1431,1306,1454],\"yaxis\":\"y\",\"type\":\"scatter\"},{\"hovertemplate\":\"HUMRAT_TEUNA=3\\u003cbr\\u003eYear=%{x}\\u003cbr\\u003ecount=%{y}\\u003cextra\\u003e\\u003c\\u002fextra\\u003e\",\"legendgroup\":\"3\",\"line\":{\"color\":\"#00cc96\",\"dash\":\"solid\"},\"marker\":{\"symbol\":\"circle\"},\"mode\":\"lines+markers\",\"name\":\"3\",\"orientation\":\"v\",\"showlegend\":true,\"x\":[2008,2009,2010,2011,2012,2013,2014,2015,2016,2017,2018,2019],\"xaxis\":\"x\",\"y\":[9738,9379,8757,8281,7844,7889,7142,8042,7792,8649,8153,8034],\"yaxis\":\"y\",\"type\":\"scatter\"},{\"hovertemplate\":\"HUMRAT_TEUNA=4\\u003cbr\\u003eYear=%{x}\\u003cbr\\u003ecount=%{y}\\u003cextra\\u003e\\u003c\\u002fextra\\u003e\",\"legendgroup\":\"4\",\"line\":{\"color\":\"#ab63fa\",\"dash\":\"solid\"},\"marker\":{\"symbol\":\"circle\"},\"mode\":\"lines+markers\",\"name\":\"4\",\"orientation\":\"v\",\"showlegend\":true,\"x\":[2008,2009,2010,2011,2012,2013,2014,2015,2016,2017,2018,2019],\"xaxis\":\"x\",\"y\":[6769,6563,8076,13022,13964,12614,12578,14461,15288,15461,14887,16209],\"yaxis\":\"y\",\"type\":\"scatter\"}],                        {\"template\":{\"data\":{\"histogram2dcontour\":[{\"type\":\"histogram2dcontour\",\"colorbar\":{\"outlinewidth\":0,\"ticks\":\"\"},\"colorscale\":[[0.0,\"#0d0887\"],[0.1111111111111111,\"#46039f\"],[0.2222222222222222,\"#7201a8\"],[0.3333333333333333,\"#9c179e\"],[0.4444444444444444,\"#bd3786\"],[0.5555555555555556,\"#d8576b\"],[0.6666666666666666,\"#ed7953\"],[0.7777777777777778,\"#fb9f3a\"],[0.8888888888888888,\"#fdca26\"],[1.0,\"#f0f921\"]]}],\"choropleth\":[{\"type\":\"choropleth\",\"colorbar\":{\"outlinewidth\":0,\"ticks\":\"\"}}],\"histogram2d\":[{\"type\":\"histogram2d\",\"colorbar\":{\"outlinewidth\":0,\"ticks\":\"\"},\"colorscale\":[[0.0,\"#0d0887\"],[0.1111111111111111,\"#46039f\"],[0.2222222222222222,\"#7201a8\"],[0.3333333333333333,\"#9c179e\"],[0.4444444444444444,\"#bd3786\"],[0.5555555555555556,\"#d8576b\"],[0.6666666666666666,\"#ed7953\"],[0.7777777777777778,\"#fb9f3a\"],[0.8888888888888888,\"#fdca26\"],[1.0,\"#f0f921\"]]}],\"heatmap\":[{\"type\":\"heatmap\",\"colorbar\":{\"outlinewidth\":0,\"ticks\":\"\"},\"colorscale\":[[0.0,\"#0d0887\"],[0.1111111111111111,\"#46039f\"],[0.2222222222222222,\"#7201a8\"],[0.3333333333333333,\"#9c179e\"],[0.4444444444444444,\"#bd3786\"],[0.5555555555555556,\"#d8576b\"],[0.6666666666666666,\"#ed7953\"],[0.7777777777777778,\"#fb9f3a\"],[0.8888888888888888,\"#fdca26\"],[1.0,\"#f0f921\"]]}],\"heatmapgl\":[{\"type\":\"heatmapgl\",\"colorbar\":{\"outlinewidth\":0,\"ticks\":\"\"},\"colorscale\":[[0.0,\"#0d0887\"],[0.1111111111111111,\"#46039f\"],[0.2222222222222222,\"#7201a8\"],[0.3333333333333333,\"#9c179e\"],[0.4444444444444444,\"#bd3786\"],[0.5555555555555556,\"#d8576b\"],[0.6666666666666666,\"#ed7953\"],[0.7777777777777778,\"#fb9f3a\"],[0.8888888888888888,\"#fdca26\"],[1.0,\"#f0f921\"]]}],\"contourcarpet\":[{\"type\":\"contourcarpet\",\"colorbar\":{\"outlinewidth\":0,\"ticks\":\"\"}}],\"contour\":[{\"type\":\"contour\",\"colorbar\":{\"outlinewidth\":0,\"ticks\":\"\"},\"colorscale\":[[0.0,\"#0d0887\"],[0.1111111111111111,\"#46039f\"],[0.2222222222222222,\"#7201a8\"],[0.3333333333333333,\"#9c179e\"],[0.4444444444444444,\"#bd3786\"],[0.5555555555555556,\"#d8576b\"],[0.6666666666666666,\"#ed7953\"],[0.7777777777777778,\"#fb9f3a\"],[0.8888888888888888,\"#fdca26\"],[1.0,\"#f0f921\"]]}],\"surface\":[{\"type\":\"surface\",\"colorbar\":{\"outlinewidth\":0,\"ticks\":\"\"},\"colorscale\":[[0.0,\"#0d0887\"],[0.1111111111111111,\"#46039f\"],[0.2222222222222222,\"#7201a8\"],[0.3333333333333333,\"#9c179e\"],[0.4444444444444444,\"#bd3786\"],[0.5555555555555556,\"#d8576b\"],[0.6666666666666666,\"#ed7953\"],[0.7777777777777778,\"#fb9f3a\"],[0.8888888888888888,\"#fdca26\"],[1.0,\"#f0f921\"]]}],\"mesh3d\":[{\"type\":\"mesh3d\",\"colorbar\":{\"outlinewidth\":0,\"ticks\":\"\"}}],\"scatter\":[{\"fillpattern\":{\"fillmode\":\"overlay\",\"size\":10,\"solidity\":0.2},\"type\":\"scatter\"}],\"parcoords\":[{\"type\":\"parcoords\",\"line\":{\"colorbar\":{\"outlinewidth\":0,\"ticks\":\"\"}}}],\"scatterpolargl\":[{\"type\":\"scatterpolargl\",\"marker\":{\"colorbar\":{\"outlinewidth\":0,\"ticks\":\"\"}}}],\"bar\":[{\"error_x\":{\"color\":\"#2a3f5f\"},\"error_y\":{\"color\":\"#2a3f5f\"},\"marker\":{\"line\":{\"color\":\"#E5ECF6\",\"width\":0.5},\"pattern\":{\"fillmode\":\"overlay\",\"size\":10,\"solidity\":0.2}},\"type\":\"bar\"}],\"scattergeo\":[{\"type\":\"scattergeo\",\"marker\":{\"colorbar\":{\"outlinewidth\":0,\"ticks\":\"\"}}}],\"scatterpolar\":[{\"type\":\"scatterpolar\",\"marker\":{\"colorbar\":{\"outlinewidth\":0,\"ticks\":\"\"}}}],\"histogram\":[{\"marker\":{\"pattern\":{\"fillmode\":\"overlay\",\"size\":10,\"solidity\":0.2}},\"type\":\"histogram\"}],\"scattergl\":[{\"type\":\"scattergl\",\"marker\":{\"colorbar\":{\"outlinewidth\":0,\"ticks\":\"\"}}}],\"scatter3d\":[{\"type\":\"scatter3d\",\"line\":{\"colorbar\":{\"outlinewidth\":0,\"ticks\":\"\"}},\"marker\":{\"colorbar\":{\"outlinewidth\":0,\"ticks\":\"\"}}}],\"scattermapbox\":[{\"type\":\"scattermapbox\",\"marker\":{\"colorbar\":{\"outlinewidth\":0,\"ticks\":\"\"}}}],\"scatterternary\":[{\"type\":\"scatterternary\",\"marker\":{\"colorbar\":{\"outlinewidth\":0,\"ticks\":\"\"}}}],\"scattercarpet\":[{\"type\":\"scattercarpet\",\"marker\":{\"colorbar\":{\"outlinewidth\":0,\"ticks\":\"\"}}}],\"carpet\":[{\"aaxis\":{\"endlinecolor\":\"#2a3f5f\",\"gridcolor\":\"white\",\"linecolor\":\"white\",\"minorgridcolor\":\"white\",\"startlinecolor\":\"#2a3f5f\"},\"baxis\":{\"endlinecolor\":\"#2a3f5f\",\"gridcolor\":\"white\",\"linecolor\":\"white\",\"minorgridcolor\":\"white\",\"startlinecolor\":\"#2a3f5f\"},\"type\":\"carpet\"}],\"table\":[{\"cells\":{\"fill\":{\"color\":\"#EBF0F8\"},\"line\":{\"color\":\"white\"}},\"header\":{\"fill\":{\"color\":\"#C8D4E3\"},\"line\":{\"color\":\"white\"}},\"type\":\"table\"}],\"barpolar\":[{\"marker\":{\"line\":{\"color\":\"#E5ECF6\",\"width\":0.5},\"pattern\":{\"fillmode\":\"overlay\",\"size\":10,\"solidity\":0.2}},\"type\":\"barpolar\"}],\"pie\":[{\"automargin\":true,\"type\":\"pie\"}]},\"layout\":{\"autotypenumbers\":\"strict\",\"colorway\":[\"#636efa\",\"#EF553B\",\"#00cc96\",\"#ab63fa\",\"#FFA15A\",\"#19d3f3\",\"#FF6692\",\"#B6E880\",\"#FF97FF\",\"#FECB52\"],\"font\":{\"color\":\"#2a3f5f\"},\"hovermode\":\"closest\",\"hoverlabel\":{\"align\":\"left\"},\"paper_bgcolor\":\"white\",\"plot_bgcolor\":\"#E5ECF6\",\"polar\":{\"bgcolor\":\"#E5ECF6\",\"angularaxis\":{\"gridcolor\":\"white\",\"linecolor\":\"white\",\"ticks\":\"\"},\"radialaxis\":{\"gridcolor\":\"white\",\"linecolor\":\"white\",\"ticks\":\"\"}},\"ternary\":{\"bgcolor\":\"#E5ECF6\",\"aaxis\":{\"gridcolor\":\"white\",\"linecolor\":\"white\",\"ticks\":\"\"},\"baxis\":{\"gridcolor\":\"white\",\"linecolor\":\"white\",\"ticks\":\"\"},\"caxis\":{\"gridcolor\":\"white\",\"linecolor\":\"white\",\"ticks\":\"\"}},\"coloraxis\":{\"colorbar\":{\"outlinewidth\":0,\"ticks\":\"\"}},\"colorscale\":{\"sequential\":[[0.0,\"#0d0887\"],[0.1111111111111111,\"#46039f\"],[0.2222222222222222,\"#7201a8\"],[0.3333333333333333,\"#9c179e\"],[0.4444444444444444,\"#bd3786\"],[0.5555555555555556,\"#d8576b\"],[0.6666666666666666,\"#ed7953\"],[0.7777777777777778,\"#fb9f3a\"],[0.8888888888888888,\"#fdca26\"],[1.0,\"#f0f921\"]],\"sequentialminus\":[[0.0,\"#0d0887\"],[0.1111111111111111,\"#46039f\"],[0.2222222222222222,\"#7201a8\"],[0.3333333333333333,\"#9c179e\"],[0.4444444444444444,\"#bd3786\"],[0.5555555555555556,\"#d8576b\"],[0.6666666666666666,\"#ed7953\"],[0.7777777777777778,\"#fb9f3a\"],[0.8888888888888888,\"#fdca26\"],[1.0,\"#f0f921\"]],\"diverging\":[[0,\"#8e0152\"],[0.1,\"#c51b7d\"],[0.2,\"#de77ae\"],[0.3,\"#f1b6da\"],[0.4,\"#fde0ef\"],[0.5,\"#f7f7f7\"],[0.6,\"#e6f5d0\"],[0.7,\"#b8e186\"],[0.8,\"#7fbc41\"],[0.9,\"#4d9221\"],[1,\"#276419\"]]},\"xaxis\":{\"gridcolor\":\"white\",\"linecolor\":\"white\",\"ticks\":\"\",\"title\":{\"standoff\":15},\"zerolinecolor\":\"white\",\"automargin\":true,\"zerolinewidth\":2},\"yaxis\":{\"gridcolor\":\"white\",\"linecolor\":\"white\",\"ticks\":\"\",\"title\":{\"standoff\":15},\"zerolinecolor\":\"white\",\"automargin\":true,\"zerolinewidth\":2},\"scene\":{\"xaxis\":{\"backgroundcolor\":\"#E5ECF6\",\"gridcolor\":\"white\",\"linecolor\":\"white\",\"showbackground\":true,\"ticks\":\"\",\"zerolinecolor\":\"white\",\"gridwidth\":2},\"yaxis\":{\"backgroundcolor\":\"#E5ECF6\",\"gridcolor\":\"white\",\"linecolor\":\"white\",\"showbackground\":true,\"ticks\":\"\",\"zerolinecolor\":\"white\",\"gridwidth\":2},\"zaxis\":{\"backgroundcolor\":\"#E5ECF6\",\"gridcolor\":\"white\",\"linecolor\":\"white\",\"showbackground\":true,\"ticks\":\"\",\"zerolinecolor\":\"white\",\"gridwidth\":2}},\"shapedefaults\":{\"line\":{\"color\":\"#2a3f5f\"}},\"annotationdefaults\":{\"arrowcolor\":\"#2a3f5f\",\"arrowhead\":0,\"arrowwidth\":1},\"geo\":{\"bgcolor\":\"white\",\"landcolor\":\"#E5ECF6\",\"subunitcolor\":\"white\",\"showland\":true,\"showlakes\":true,\"lakecolor\":\"white\"},\"title\":{\"x\":0.05},\"mapbox\":{\"style\":\"light\"}}},\"xaxis\":{\"anchor\":\"y\",\"domain\":[0.0,1.0],\"title\":{\"text\":\"Year\"}},\"yaxis\":{\"anchor\":\"x\",\"domain\":[0.0,1.0],\"title\":{\"text\":\"count\"}},\"legend\":{\"title\":{\"text\":\"HUMRAT_TEUNA\"},\"tracegroupgap\":0},\"title\":{\"text\":\"Accidents by Severity per Year ISRAEL\"}},                        {\"responsive\": true}                    ).then(function(){\n                            \nvar gd = document.getElementById('f673449d-76e9-47c3-b5c5-051145353fed');\nvar x = new MutationObserver(function (mutations, observer) {{\n        var display = window.getComputedStyle(gd).display;\n        if (!display || display === 'none') {{\n            console.log([gd, 'removed!']);\n            Plotly.purge(gd);\n            observer.disconnect();\n        }}\n}});\n\n// Listen for the removal of the full notebook cells\nvar notebookContainer = gd.closest('#notebook-container');\nif (notebookContainer) {{\n    x.observe(notebookContainer, {childList: true});\n}}\n\n// Listen for the clearing of the current output cell\nvar outputEl = gd.closest('.output');\nif (outputEl) {{\n    x.observe(outputEl, {childList: true});\n}}\n\n                        })                };                });            </script>        </div>"
     },
     "metadata": {},
     "output_type": "display_data"
    }
   ],
   "source": [
    "fig = graphs_templates.plot_accidents_by_attr_per_year(df=data, attribute=config[\"SEVERE_FEATURE\"], attribute_year_name=config[\"YEAR_FEATURE\"],\n",
    "                                                     title=f'Accidents by Severity per Year {config[\"COUNTRY\"]}',\n",
    "                                                     show=True)"
   ],
   "metadata": {
    "collapsed": false,
    "ExecuteTime": {
     "end_time": "2024-05-16T08:56:05.734062100Z",
     "start_time": "2024-05-16T08:56:05.597297300Z"
    }
   },
   "id": "56e0644054e8b3a2"
  },
  {
   "cell_type": "markdown",
   "source": [
    "## 2. Train Models"
   ],
   "metadata": {
    "collapsed": false
   },
   "id": "b0652488ef4ada0"
  },
  {
   "cell_type": "code",
   "execution_count": 19,
   "outputs": [
    {
     "name": "stdout",
     "output_type": "stream",
     "text": [
      "1 2008\n",
      "2 2009\n",
      "3 2010\n",
      "4 2011\n",
      "5 2012\n",
      "6 2013\n"
     ]
    },
    {
     "data": {
      "text/plain": "XGBClassifier(base_score=None, booster=None, callbacks=None,\n              colsample_bylevel=None, colsample_bynode=None,\n              colsample_bytree=None, device=None, early_stopping_rounds=None,\n              enable_categorical=True, eval_metric=None, feature_types=None,\n              gamma=None, grow_policy=None, importance_type=None,\n              interaction_constraints=None, learning_rate=None, max_bin=None,\n              max_cat_threshold=None, max_cat_to_onehot=None,\n              max_delta_step=None, max_depth=2, max_leaves=None,\n              min_child_weight=None, missing=nan, monotone_constraints=None,\n              multi_strategy=None, n_estimators=10, n_jobs=None,\n              num_parallel_tree=None, random_state=42, ...)",
      "text/html": "<style>#sk-container-id-1 {color: black;}#sk-container-id-1 pre{padding: 0;}#sk-container-id-1 div.sk-toggleable {background-color: white;}#sk-container-id-1 label.sk-toggleable__label {cursor: pointer;display: block;width: 100%;margin-bottom: 0;padding: 0.3em;box-sizing: border-box;text-align: center;}#sk-container-id-1 label.sk-toggleable__label-arrow:before {content: \"▸\";float: left;margin-right: 0.25em;color: #696969;}#sk-container-id-1 label.sk-toggleable__label-arrow:hover:before {color: black;}#sk-container-id-1 div.sk-estimator:hover label.sk-toggleable__label-arrow:before {color: black;}#sk-container-id-1 div.sk-toggleable__content {max-height: 0;max-width: 0;overflow: hidden;text-align: left;background-color: #f0f8ff;}#sk-container-id-1 div.sk-toggleable__content pre {margin: 0.2em;color: black;border-radius: 0.25em;background-color: #f0f8ff;}#sk-container-id-1 input.sk-toggleable__control:checked~div.sk-toggleable__content {max-height: 200px;max-width: 100%;overflow: auto;}#sk-container-id-1 input.sk-toggleable__control:checked~label.sk-toggleable__label-arrow:before {content: \"▾\";}#sk-container-id-1 div.sk-estimator input.sk-toggleable__control:checked~label.sk-toggleable__label {background-color: #d4ebff;}#sk-container-id-1 div.sk-label input.sk-toggleable__control:checked~label.sk-toggleable__label {background-color: #d4ebff;}#sk-container-id-1 input.sk-hidden--visually {border: 0;clip: rect(1px 1px 1px 1px);clip: rect(1px, 1px, 1px, 1px);height: 1px;margin: -1px;overflow: hidden;padding: 0;position: absolute;width: 1px;}#sk-container-id-1 div.sk-estimator {font-family: monospace;background-color: #f0f8ff;border: 1px dotted black;border-radius: 0.25em;box-sizing: border-box;margin-bottom: 0.5em;}#sk-container-id-1 div.sk-estimator:hover {background-color: #d4ebff;}#sk-container-id-1 div.sk-parallel-item::after {content: \"\";width: 100%;border-bottom: 1px solid gray;flex-grow: 1;}#sk-container-id-1 div.sk-label:hover label.sk-toggleable__label {background-color: #d4ebff;}#sk-container-id-1 div.sk-serial::before {content: \"\";position: absolute;border-left: 1px solid gray;box-sizing: border-box;top: 0;bottom: 0;left: 50%;z-index: 0;}#sk-container-id-1 div.sk-serial {display: flex;flex-direction: column;align-items: center;background-color: white;padding-right: 0.2em;padding-left: 0.2em;position: relative;}#sk-container-id-1 div.sk-item {position: relative;z-index: 1;}#sk-container-id-1 div.sk-parallel {display: flex;align-items: stretch;justify-content: center;background-color: white;position: relative;}#sk-container-id-1 div.sk-item::before, #sk-container-id-1 div.sk-parallel-item::before {content: \"\";position: absolute;border-left: 1px solid gray;box-sizing: border-box;top: 0;bottom: 0;left: 50%;z-index: -1;}#sk-container-id-1 div.sk-parallel-item {display: flex;flex-direction: column;z-index: 1;position: relative;background-color: white;}#sk-container-id-1 div.sk-parallel-item:first-child::after {align-self: flex-end;width: 50%;}#sk-container-id-1 div.sk-parallel-item:last-child::after {align-self: flex-start;width: 50%;}#sk-container-id-1 div.sk-parallel-item:only-child::after {width: 0;}#sk-container-id-1 div.sk-dashed-wrapped {border: 1px dashed gray;margin: 0 0.4em 0.5em 0.4em;box-sizing: border-box;padding-bottom: 0.4em;background-color: white;}#sk-container-id-1 div.sk-label label {font-family: monospace;font-weight: bold;display: inline-block;line-height: 1.2em;}#sk-container-id-1 div.sk-label-container {text-align: center;}#sk-container-id-1 div.sk-container {/* jupyter's `normalize.less` sets `[hidden] { display: none; }` but bootstrap.min.css set `[hidden] { display: none !important; }` so we also need the `!important` here to be able to override the default hidden behavior on the sphinx rendered scikit-learn.org. See: https://github.com/scikit-learn/scikit-learn/issues/21755 */display: inline-block !important;position: relative;}#sk-container-id-1 div.sk-text-repr-fallback {display: none;}</style><div id=\"sk-container-id-1\" class=\"sk-top-container\"><div class=\"sk-text-repr-fallback\"><pre>XGBClassifier(base_score=None, booster=None, callbacks=None,\n              colsample_bylevel=None, colsample_bynode=None,\n              colsample_bytree=None, device=None, early_stopping_rounds=None,\n              enable_categorical=True, eval_metric=None, feature_types=None,\n              gamma=None, grow_policy=None, importance_type=None,\n              interaction_constraints=None, learning_rate=None, max_bin=None,\n              max_cat_threshold=None, max_cat_to_onehot=None,\n              max_delta_step=None, max_depth=2, max_leaves=None,\n              min_child_weight=None, missing=nan, monotone_constraints=None,\n              multi_strategy=None, n_estimators=10, n_jobs=None,\n              num_parallel_tree=None, random_state=42, ...)</pre><b>In a Jupyter environment, please rerun this cell to show the HTML representation or trust the notebook. <br />On GitHub, the HTML representation is unable to render, please try loading this page with nbviewer.org.</b></div><div class=\"sk-container\" hidden><div class=\"sk-item\"><div class=\"sk-estimator sk-toggleable\"><input class=\"sk-toggleable__control sk-hidden--visually\" id=\"sk-estimator-id-1\" type=\"checkbox\" checked><label for=\"sk-estimator-id-1\" class=\"sk-toggleable__label sk-toggleable__label-arrow\">XGBClassifier</label><div class=\"sk-toggleable__content\"><pre>XGBClassifier(base_score=None, booster=None, callbacks=None,\n              colsample_bylevel=None, colsample_bynode=None,\n              colsample_bytree=None, device=None, early_stopping_rounds=None,\n              enable_categorical=True, eval_metric=None, feature_types=None,\n              gamma=None, grow_policy=None, importance_type=None,\n              interaction_constraints=None, learning_rate=None, max_bin=None,\n              max_cat_threshold=None, max_cat_to_onehot=None,\n              max_delta_step=None, max_depth=2, max_leaves=None,\n              min_child_weight=None, missing=nan, monotone_constraints=None,\n              multi_strategy=None, n_estimators=10, n_jobs=None,\n              num_parallel_tree=None, random_state=42, ...)</pre></div></div></div></div></div>"
     },
     "execution_count": 19,
     "metadata": {},
     "output_type": "execute_result"
    }
   ],
   "source": [
    "model_training.train_model(data, config, save_path=\"models/example_israel_model.json\")"
   ],
   "metadata": {
    "collapsed": false,
    "ExecuteTime": {
     "end_time": "2024-05-16T08:56:58.898135600Z",
     "start_time": "2024-05-16T08:56:05.729500200Z"
    }
   },
   "id": "ec5d77fb5937f808"
  },
  {
   "cell_type": "markdown",
   "source": [
    "## 3. Load Trained Models and Configuration"
   ],
   "metadata": {
    "collapsed": false
   },
   "id": "874bb150045f1c30"
  },
  {
   "cell_type": "code",
   "execution_count": 20,
   "outputs": [
    {
     "data": {
      "application/vnd.plotly.v1+json": {
       "data": [
        {
         "hovertemplate": "Metric=tp<br>top=%{x}<br>Count=%{y}<extra></extra>",
         "legendgroup": "tp",
         "line": {
          "color": "#636efa",
          "dash": "solid"
         },
         "marker": {
          "symbol": "circle"
         },
         "mode": "lines",
         "name": "tp",
         "orientation": "v",
         "showlegend": true,
         "x": [
          10,
          11,
          12,
          13,
          14,
          15,
          16,
          17,
          18,
          19,
          20,
          21,
          22,
          23,
          24,
          25,
          26,
          27,
          28,
          29,
          30,
          31,
          32,
          33,
          34,
          35,
          36,
          37,
          38,
          39,
          40,
          41,
          42,
          43,
          44,
          45,
          46,
          47,
          48,
          49,
          50,
          51,
          52,
          53,
          54,
          55,
          56,
          57,
          58,
          59,
          60,
          61,
          62,
          63,
          64,
          65,
          66,
          67,
          68,
          69,
          70,
          71,
          72,
          73,
          74,
          75,
          76,
          77,
          78,
          79,
          80,
          81,
          82,
          83,
          84,
          85,
          86,
          87,
          88,
          89,
          90,
          91,
          92,
          93,
          94,
          95,
          96,
          97,
          98,
          99
         ],
         "xaxis": "x",
         "y": [
          8,
          8,
          9,
          10,
          10,
          11,
          12,
          13,
          14,
          15,
          15,
          16,
          16,
          17,
          17,
          18,
          19,
          20,
          21,
          21,
          22,
          22,
          23,
          24,
          24,
          25,
          26,
          27,
          27,
          28,
          29,
          30,
          31,
          32,
          32,
          32,
          32,
          32,
          32,
          33,
          34,
          35,
          36,
          36,
          36,
          37,
          38,
          38,
          39,
          40,
          41,
          42,
          42,
          43,
          43,
          43,
          44,
          45,
          46,
          46,
          46,
          46,
          47,
          47,
          48,
          48,
          48,
          49,
          49,
          50,
          50,
          51,
          51,
          52,
          53,
          53,
          54,
          55,
          56,
          56,
          57,
          58,
          59,
          60,
          61,
          62,
          63,
          64,
          65,
          66
         ],
         "yaxis": "y",
         "type": "scatter"
        },
        {
         "hovertemplate": "Metric=fp<br>top=%{x}<br>Count=%{y}<extra></extra>",
         "legendgroup": "fp",
         "line": {
          "color": "#EF553B",
          "dash": "solid"
         },
         "marker": {
          "symbol": "circle"
         },
         "mode": "lines",
         "name": "fp",
         "orientation": "v",
         "showlegend": true,
         "x": [
          10,
          11,
          12,
          13,
          14,
          15,
          16,
          17,
          18,
          19,
          20,
          21,
          22,
          23,
          24,
          25,
          26,
          27,
          28,
          29,
          30,
          31,
          32,
          33,
          34,
          35,
          36,
          37,
          38,
          39,
          40,
          41,
          42,
          43,
          44,
          45,
          46,
          47,
          48,
          49,
          50,
          51,
          52,
          53,
          54,
          55,
          56,
          57,
          58,
          59,
          60,
          61,
          62,
          63,
          64,
          65,
          66,
          67,
          68,
          69,
          70,
          71,
          72,
          73,
          74,
          75,
          76,
          77,
          78,
          79,
          80,
          81,
          82,
          83,
          84,
          85,
          86,
          87,
          88,
          89,
          90,
          91,
          92,
          93,
          94,
          95,
          96,
          97,
          98,
          99
         ],
         "xaxis": "x",
         "y": [
          2,
          3,
          3,
          3,
          4,
          4,
          4,
          4,
          4,
          4,
          5,
          5,
          6,
          6,
          7,
          7,
          7,
          7,
          7,
          8,
          8,
          9,
          9,
          9,
          10,
          10,
          10,
          10,
          11,
          11,
          11,
          11,
          11,
          11,
          12,
          13,
          14,
          15,
          16,
          16,
          16,
          16,
          16,
          17,
          18,
          18,
          18,
          19,
          19,
          19,
          19,
          19,
          20,
          20,
          21,
          22,
          22,
          22,
          22,
          23,
          24,
          25,
          25,
          26,
          26,
          27,
          28,
          28,
          29,
          29,
          30,
          30,
          31,
          31,
          31,
          32,
          32,
          32,
          32,
          33,
          33,
          33,
          33,
          33,
          33,
          33,
          33,
          33,
          33,
          33
         ],
         "yaxis": "y",
         "type": "scatter"
        },
        {
         "hovertemplate": "Metric=tn<br>top=%{x}<br>Count=%{y}<extra></extra>",
         "legendgroup": "tn",
         "line": {
          "color": "#00cc96",
          "dash": "solid"
         },
         "marker": {
          "symbol": "circle"
         },
         "mode": "lines",
         "name": "tn",
         "orientation": "v",
         "showlegend": true,
         "x": [
          10,
          11,
          12,
          13,
          14,
          15,
          16,
          17,
          18,
          19,
          20,
          21,
          22,
          23,
          24,
          25,
          26,
          27,
          28,
          29,
          30,
          31,
          32,
          33,
          34,
          35,
          36,
          37,
          38,
          39,
          40,
          41,
          42,
          43,
          44,
          45,
          46,
          47,
          48,
          49,
          50,
          51,
          52,
          53,
          54,
          55,
          56,
          57,
          58,
          59,
          60,
          61,
          62,
          63,
          64,
          65,
          66,
          67,
          68,
          69,
          70,
          71,
          72,
          73,
          74,
          75,
          76,
          77,
          78,
          79,
          80,
          81,
          82,
          83,
          84,
          85,
          86,
          87,
          88,
          89,
          90,
          91,
          92,
          93,
          94,
          95,
          96,
          97,
          98,
          99
         ],
         "xaxis": "x",
         "y": [
          0,
          0,
          0,
          0,
          0,
          0,
          0,
          0,
          0,
          0,
          0,
          0,
          0,
          0,
          0,
          0,
          0,
          0,
          0,
          0,
          0,
          0,
          0,
          0,
          0,
          0,
          0,
          0,
          0,
          0,
          0,
          0,
          0,
          0,
          0,
          0,
          0,
          0,
          0,
          0,
          0,
          0,
          0,
          0,
          0,
          0,
          0,
          0,
          0,
          0,
          0,
          0,
          0,
          0,
          0,
          0,
          0,
          0,
          0,
          0,
          0,
          0,
          0,
          0,
          0,
          0,
          0,
          0,
          0,
          0,
          0,
          0,
          0,
          0,
          0,
          0,
          0,
          0,
          0,
          0,
          0,
          0,
          0,
          0,
          0,
          0,
          0,
          0,
          0,
          0
         ],
         "yaxis": "y",
         "type": "scatter"
        },
        {
         "hovertemplate": "Metric=fn<br>top=%{x}<br>Count=%{y}<extra></extra>",
         "legendgroup": "fn",
         "line": {
          "color": "#ab63fa",
          "dash": "solid"
         },
         "marker": {
          "symbol": "circle"
         },
         "mode": "lines",
         "name": "fn",
         "orientation": "v",
         "showlegend": true,
         "x": [
          10,
          11,
          12,
          13,
          14,
          15,
          16,
          17,
          18,
          19,
          20,
          21,
          22,
          23,
          24,
          25,
          26,
          27,
          28,
          29,
          30,
          31,
          32,
          33,
          34,
          35,
          36,
          37,
          38,
          39,
          40,
          41,
          42,
          43,
          44,
          45,
          46,
          47,
          48,
          49,
          50,
          51,
          52,
          53,
          54,
          55,
          56,
          57,
          58,
          59,
          60,
          61,
          62,
          63,
          64,
          65,
          66,
          67,
          68,
          69,
          70,
          71,
          72,
          73,
          74,
          75,
          76,
          77,
          78,
          79,
          80,
          81,
          82,
          83,
          84,
          85,
          86,
          87,
          88,
          89,
          90,
          91,
          92,
          93,
          94,
          95,
          96,
          97,
          98,
          99
         ],
         "xaxis": "x",
         "y": [
          0,
          0,
          0,
          0,
          0,
          0,
          0,
          0,
          0,
          0,
          0,
          0,
          0,
          0,
          0,
          0,
          0,
          0,
          0,
          0,
          0,
          0,
          0,
          0,
          0,
          0,
          0,
          0,
          0,
          0,
          0,
          0,
          0,
          0,
          0,
          0,
          0,
          0,
          0,
          0,
          0,
          0,
          0,
          0,
          0,
          0,
          0,
          0,
          0,
          0,
          0,
          0,
          0,
          0,
          0,
          0,
          0,
          0,
          0,
          0,
          0,
          0,
          0,
          0,
          0,
          0,
          0,
          0,
          0,
          0,
          0,
          0,
          0,
          0,
          0,
          0,
          0,
          0,
          0,
          0,
          0,
          0,
          0,
          0,
          0,
          0,
          0,
          0,
          0,
          0
         ],
         "yaxis": "y",
         "type": "scatter"
        }
       ],
       "layout": {
        "template": {
         "data": {
          "histogram2dcontour": [
           {
            "type": "histogram2dcontour",
            "colorbar": {
             "outlinewidth": 0,
             "ticks": ""
            },
            "colorscale": [
             [
              0.0,
              "#0d0887"
             ],
             [
              0.1111111111111111,
              "#46039f"
             ],
             [
              0.2222222222222222,
              "#7201a8"
             ],
             [
              0.3333333333333333,
              "#9c179e"
             ],
             [
              0.4444444444444444,
              "#bd3786"
             ],
             [
              0.5555555555555556,
              "#d8576b"
             ],
             [
              0.6666666666666666,
              "#ed7953"
             ],
             [
              0.7777777777777778,
              "#fb9f3a"
             ],
             [
              0.8888888888888888,
              "#fdca26"
             ],
             [
              1.0,
              "#f0f921"
             ]
            ]
           }
          ],
          "choropleth": [
           {
            "type": "choropleth",
            "colorbar": {
             "outlinewidth": 0,
             "ticks": ""
            }
           }
          ],
          "histogram2d": [
           {
            "type": "histogram2d",
            "colorbar": {
             "outlinewidth": 0,
             "ticks": ""
            },
            "colorscale": [
             [
              0.0,
              "#0d0887"
             ],
             [
              0.1111111111111111,
              "#46039f"
             ],
             [
              0.2222222222222222,
              "#7201a8"
             ],
             [
              0.3333333333333333,
              "#9c179e"
             ],
             [
              0.4444444444444444,
              "#bd3786"
             ],
             [
              0.5555555555555556,
              "#d8576b"
             ],
             [
              0.6666666666666666,
              "#ed7953"
             ],
             [
              0.7777777777777778,
              "#fb9f3a"
             ],
             [
              0.8888888888888888,
              "#fdca26"
             ],
             [
              1.0,
              "#f0f921"
             ]
            ]
           }
          ],
          "heatmap": [
           {
            "type": "heatmap",
            "colorbar": {
             "outlinewidth": 0,
             "ticks": ""
            },
            "colorscale": [
             [
              0.0,
              "#0d0887"
             ],
             [
              0.1111111111111111,
              "#46039f"
             ],
             [
              0.2222222222222222,
              "#7201a8"
             ],
             [
              0.3333333333333333,
              "#9c179e"
             ],
             [
              0.4444444444444444,
              "#bd3786"
             ],
             [
              0.5555555555555556,
              "#d8576b"
             ],
             [
              0.6666666666666666,
              "#ed7953"
             ],
             [
              0.7777777777777778,
              "#fb9f3a"
             ],
             [
              0.8888888888888888,
              "#fdca26"
             ],
             [
              1.0,
              "#f0f921"
             ]
            ]
           }
          ],
          "heatmapgl": [
           {
            "type": "heatmapgl",
            "colorbar": {
             "outlinewidth": 0,
             "ticks": ""
            },
            "colorscale": [
             [
              0.0,
              "#0d0887"
             ],
             [
              0.1111111111111111,
              "#46039f"
             ],
             [
              0.2222222222222222,
              "#7201a8"
             ],
             [
              0.3333333333333333,
              "#9c179e"
             ],
             [
              0.4444444444444444,
              "#bd3786"
             ],
             [
              0.5555555555555556,
              "#d8576b"
             ],
             [
              0.6666666666666666,
              "#ed7953"
             ],
             [
              0.7777777777777778,
              "#fb9f3a"
             ],
             [
              0.8888888888888888,
              "#fdca26"
             ],
             [
              1.0,
              "#f0f921"
             ]
            ]
           }
          ],
          "contourcarpet": [
           {
            "type": "contourcarpet",
            "colorbar": {
             "outlinewidth": 0,
             "ticks": ""
            }
           }
          ],
          "contour": [
           {
            "type": "contour",
            "colorbar": {
             "outlinewidth": 0,
             "ticks": ""
            },
            "colorscale": [
             [
              0.0,
              "#0d0887"
             ],
             [
              0.1111111111111111,
              "#46039f"
             ],
             [
              0.2222222222222222,
              "#7201a8"
             ],
             [
              0.3333333333333333,
              "#9c179e"
             ],
             [
              0.4444444444444444,
              "#bd3786"
             ],
             [
              0.5555555555555556,
              "#d8576b"
             ],
             [
              0.6666666666666666,
              "#ed7953"
             ],
             [
              0.7777777777777778,
              "#fb9f3a"
             ],
             [
              0.8888888888888888,
              "#fdca26"
             ],
             [
              1.0,
              "#f0f921"
             ]
            ]
           }
          ],
          "surface": [
           {
            "type": "surface",
            "colorbar": {
             "outlinewidth": 0,
             "ticks": ""
            },
            "colorscale": [
             [
              0.0,
              "#0d0887"
             ],
             [
              0.1111111111111111,
              "#46039f"
             ],
             [
              0.2222222222222222,
              "#7201a8"
             ],
             [
              0.3333333333333333,
              "#9c179e"
             ],
             [
              0.4444444444444444,
              "#bd3786"
             ],
             [
              0.5555555555555556,
              "#d8576b"
             ],
             [
              0.6666666666666666,
              "#ed7953"
             ],
             [
              0.7777777777777778,
              "#fb9f3a"
             ],
             [
              0.8888888888888888,
              "#fdca26"
             ],
             [
              1.0,
              "#f0f921"
             ]
            ]
           }
          ],
          "mesh3d": [
           {
            "type": "mesh3d",
            "colorbar": {
             "outlinewidth": 0,
             "ticks": ""
            }
           }
          ],
          "scatter": [
           {
            "fillpattern": {
             "fillmode": "overlay",
             "size": 10,
             "solidity": 0.2
            },
            "type": "scatter"
           }
          ],
          "parcoords": [
           {
            "type": "parcoords",
            "line": {
             "colorbar": {
              "outlinewidth": 0,
              "ticks": ""
             }
            }
           }
          ],
          "scatterpolargl": [
           {
            "type": "scatterpolargl",
            "marker": {
             "colorbar": {
              "outlinewidth": 0,
              "ticks": ""
             }
            }
           }
          ],
          "bar": [
           {
            "error_x": {
             "color": "#2a3f5f"
            },
            "error_y": {
             "color": "#2a3f5f"
            },
            "marker": {
             "line": {
              "color": "#E5ECF6",
              "width": 0.5
             },
             "pattern": {
              "fillmode": "overlay",
              "size": 10,
              "solidity": 0.2
             }
            },
            "type": "bar"
           }
          ],
          "scattergeo": [
           {
            "type": "scattergeo",
            "marker": {
             "colorbar": {
              "outlinewidth": 0,
              "ticks": ""
             }
            }
           }
          ],
          "scatterpolar": [
           {
            "type": "scatterpolar",
            "marker": {
             "colorbar": {
              "outlinewidth": 0,
              "ticks": ""
             }
            }
           }
          ],
          "histogram": [
           {
            "marker": {
             "pattern": {
              "fillmode": "overlay",
              "size": 10,
              "solidity": 0.2
             }
            },
            "type": "histogram"
           }
          ],
          "scattergl": [
           {
            "type": "scattergl",
            "marker": {
             "colorbar": {
              "outlinewidth": 0,
              "ticks": ""
             }
            }
           }
          ],
          "scatter3d": [
           {
            "type": "scatter3d",
            "line": {
             "colorbar": {
              "outlinewidth": 0,
              "ticks": ""
             }
            },
            "marker": {
             "colorbar": {
              "outlinewidth": 0,
              "ticks": ""
             }
            }
           }
          ],
          "scattermapbox": [
           {
            "type": "scattermapbox",
            "marker": {
             "colorbar": {
              "outlinewidth": 0,
              "ticks": ""
             }
            }
           }
          ],
          "scatterternary": [
           {
            "type": "scatterternary",
            "marker": {
             "colorbar": {
              "outlinewidth": 0,
              "ticks": ""
             }
            }
           }
          ],
          "scattercarpet": [
           {
            "type": "scattercarpet",
            "marker": {
             "colorbar": {
              "outlinewidth": 0,
              "ticks": ""
             }
            }
           }
          ],
          "carpet": [
           {
            "aaxis": {
             "endlinecolor": "#2a3f5f",
             "gridcolor": "white",
             "linecolor": "white",
             "minorgridcolor": "white",
             "startlinecolor": "#2a3f5f"
            },
            "baxis": {
             "endlinecolor": "#2a3f5f",
             "gridcolor": "white",
             "linecolor": "white",
             "minorgridcolor": "white",
             "startlinecolor": "#2a3f5f"
            },
            "type": "carpet"
           }
          ],
          "table": [
           {
            "cells": {
             "fill": {
              "color": "#EBF0F8"
             },
             "line": {
              "color": "white"
             }
            },
            "header": {
             "fill": {
              "color": "#C8D4E3"
             },
             "line": {
              "color": "white"
             }
            },
            "type": "table"
           }
          ],
          "barpolar": [
           {
            "marker": {
             "line": {
              "color": "#E5ECF6",
              "width": 0.5
             },
             "pattern": {
              "fillmode": "overlay",
              "size": 10,
              "solidity": 0.2
             }
            },
            "type": "barpolar"
           }
          ],
          "pie": [
           {
            "automargin": true,
            "type": "pie"
           }
          ]
         },
         "layout": {
          "autotypenumbers": "strict",
          "colorway": [
           "#636efa",
           "#EF553B",
           "#00cc96",
           "#ab63fa",
           "#FFA15A",
           "#19d3f3",
           "#FF6692",
           "#B6E880",
           "#FF97FF",
           "#FECB52"
          ],
          "font": {
           "color": "#2a3f5f"
          },
          "hovermode": "closest",
          "hoverlabel": {
           "align": "left"
          },
          "paper_bgcolor": "white",
          "plot_bgcolor": "#E5ECF6",
          "polar": {
           "bgcolor": "#E5ECF6",
           "angularaxis": {
            "gridcolor": "white",
            "linecolor": "white",
            "ticks": ""
           },
           "radialaxis": {
            "gridcolor": "white",
            "linecolor": "white",
            "ticks": ""
           }
          },
          "ternary": {
           "bgcolor": "#E5ECF6",
           "aaxis": {
            "gridcolor": "white",
            "linecolor": "white",
            "ticks": ""
           },
           "baxis": {
            "gridcolor": "white",
            "linecolor": "white",
            "ticks": ""
           },
           "caxis": {
            "gridcolor": "white",
            "linecolor": "white",
            "ticks": ""
           }
          },
          "coloraxis": {
           "colorbar": {
            "outlinewidth": 0,
            "ticks": ""
           }
          },
          "colorscale": {
           "sequential": [
            [
             0.0,
             "#0d0887"
            ],
            [
             0.1111111111111111,
             "#46039f"
            ],
            [
             0.2222222222222222,
             "#7201a8"
            ],
            [
             0.3333333333333333,
             "#9c179e"
            ],
            [
             0.4444444444444444,
             "#bd3786"
            ],
            [
             0.5555555555555556,
             "#d8576b"
            ],
            [
             0.6666666666666666,
             "#ed7953"
            ],
            [
             0.7777777777777778,
             "#fb9f3a"
            ],
            [
             0.8888888888888888,
             "#fdca26"
            ],
            [
             1.0,
             "#f0f921"
            ]
           ],
           "sequentialminus": [
            [
             0.0,
             "#0d0887"
            ],
            [
             0.1111111111111111,
             "#46039f"
            ],
            [
             0.2222222222222222,
             "#7201a8"
            ],
            [
             0.3333333333333333,
             "#9c179e"
            ],
            [
             0.4444444444444444,
             "#bd3786"
            ],
            [
             0.5555555555555556,
             "#d8576b"
            ],
            [
             0.6666666666666666,
             "#ed7953"
            ],
            [
             0.7777777777777778,
             "#fb9f3a"
            ],
            [
             0.8888888888888888,
             "#fdca26"
            ],
            [
             1.0,
             "#f0f921"
            ]
           ],
           "diverging": [
            [
             0,
             "#8e0152"
            ],
            [
             0.1,
             "#c51b7d"
            ],
            [
             0.2,
             "#de77ae"
            ],
            [
             0.3,
             "#f1b6da"
            ],
            [
             0.4,
             "#fde0ef"
            ],
            [
             0.5,
             "#f7f7f7"
            ],
            [
             0.6,
             "#e6f5d0"
            ],
            [
             0.7,
             "#b8e186"
            ],
            [
             0.8,
             "#7fbc41"
            ],
            [
             0.9,
             "#4d9221"
            ],
            [
             1,
             "#276419"
            ]
           ]
          },
          "xaxis": {
           "gridcolor": "white",
           "linecolor": "white",
           "ticks": "",
           "title": {
            "standoff": 15
           },
           "zerolinecolor": "white",
           "automargin": true,
           "zerolinewidth": 2
          },
          "yaxis": {
           "gridcolor": "white",
           "linecolor": "white",
           "ticks": "",
           "title": {
            "standoff": 15
           },
           "zerolinecolor": "white",
           "automargin": true,
           "zerolinewidth": 2
          },
          "scene": {
           "xaxis": {
            "backgroundcolor": "#E5ECF6",
            "gridcolor": "white",
            "linecolor": "white",
            "showbackground": true,
            "ticks": "",
            "zerolinecolor": "white",
            "gridwidth": 2
           },
           "yaxis": {
            "backgroundcolor": "#E5ECF6",
            "gridcolor": "white",
            "linecolor": "white",
            "showbackground": true,
            "ticks": "",
            "zerolinecolor": "white",
            "gridwidth": 2
           },
           "zaxis": {
            "backgroundcolor": "#E5ECF6",
            "gridcolor": "white",
            "linecolor": "white",
            "showbackground": true,
            "ticks": "",
            "zerolinecolor": "white",
            "gridwidth": 2
           }
          },
          "shapedefaults": {
           "line": {
            "color": "#2a3f5f"
           }
          },
          "annotationdefaults": {
           "arrowcolor": "#2a3f5f",
           "arrowhead": 0,
           "arrowwidth": 1
          },
          "geo": {
           "bgcolor": "white",
           "landcolor": "#E5ECF6",
           "subunitcolor": "white",
           "showland": true,
           "showlakes": true,
           "lakecolor": "white"
          },
          "title": {
           "x": 0.05
          },
          "mapbox": {
           "style": "light"
          }
         }
        },
        "xaxis": {
         "anchor": "y",
         "domain": [
          0.0,
          1.0
         ],
         "title": {
          "text": "top"
         }
        },
        "yaxis": {
         "anchor": "x",
         "domain": [
          0.0,
          1.0
         ],
         "title": {
          "text": "Count"
         }
        },
        "legend": {
         "title": {
          "text": "Metric"
         },
         "tracegroupgap": 0
        },
        "title": {
         "text": "Top Predictions ISRAEL"
        },
        "height": 500,
        "width": 800
       },
       "config": {
        "plotlyServerURL": "https://plot.ly"
       }
      },
      "text/html": "<div>                            <div id=\"77979284-9e83-498d-b72f-4f7cb7bfc2e9\" class=\"plotly-graph-div\" style=\"height:500px; width:800px;\"></div>            <script type=\"text/javascript\">                require([\"plotly\"], function(Plotly) {                    window.PLOTLYENV=window.PLOTLYENV || {};                                    if (document.getElementById(\"77979284-9e83-498d-b72f-4f7cb7bfc2e9\")) {                    Plotly.newPlot(                        \"77979284-9e83-498d-b72f-4f7cb7bfc2e9\",                        [{\"hovertemplate\":\"Metric=tp\\u003cbr\\u003etop=%{x}\\u003cbr\\u003eCount=%{y}\\u003cextra\\u003e\\u003c\\u002fextra\\u003e\",\"legendgroup\":\"tp\",\"line\":{\"color\":\"#636efa\",\"dash\":\"solid\"},\"marker\":{\"symbol\":\"circle\"},\"mode\":\"lines\",\"name\":\"tp\",\"orientation\":\"v\",\"showlegend\":true,\"x\":[10,11,12,13,14,15,16,17,18,19,20,21,22,23,24,25,26,27,28,29,30,31,32,33,34,35,36,37,38,39,40,41,42,43,44,45,46,47,48,49,50,51,52,53,54,55,56,57,58,59,60,61,62,63,64,65,66,67,68,69,70,71,72,73,74,75,76,77,78,79,80,81,82,83,84,85,86,87,88,89,90,91,92,93,94,95,96,97,98,99],\"xaxis\":\"x\",\"y\":[8,8,9,10,10,11,12,13,14,15,15,16,16,17,17,18,19,20,21,21,22,22,23,24,24,25,26,27,27,28,29,30,31,32,32,32,32,32,32,33,34,35,36,36,36,37,38,38,39,40,41,42,42,43,43,43,44,45,46,46,46,46,47,47,48,48,48,49,49,50,50,51,51,52,53,53,54,55,56,56,57,58,59,60,61,62,63,64,65,66],\"yaxis\":\"y\",\"type\":\"scatter\"},{\"hovertemplate\":\"Metric=fp\\u003cbr\\u003etop=%{x}\\u003cbr\\u003eCount=%{y}\\u003cextra\\u003e\\u003c\\u002fextra\\u003e\",\"legendgroup\":\"fp\",\"line\":{\"color\":\"#EF553B\",\"dash\":\"solid\"},\"marker\":{\"symbol\":\"circle\"},\"mode\":\"lines\",\"name\":\"fp\",\"orientation\":\"v\",\"showlegend\":true,\"x\":[10,11,12,13,14,15,16,17,18,19,20,21,22,23,24,25,26,27,28,29,30,31,32,33,34,35,36,37,38,39,40,41,42,43,44,45,46,47,48,49,50,51,52,53,54,55,56,57,58,59,60,61,62,63,64,65,66,67,68,69,70,71,72,73,74,75,76,77,78,79,80,81,82,83,84,85,86,87,88,89,90,91,92,93,94,95,96,97,98,99],\"xaxis\":\"x\",\"y\":[2,3,3,3,4,4,4,4,4,4,5,5,6,6,7,7,7,7,7,8,8,9,9,9,10,10,10,10,11,11,11,11,11,11,12,13,14,15,16,16,16,16,16,17,18,18,18,19,19,19,19,19,20,20,21,22,22,22,22,23,24,25,25,26,26,27,28,28,29,29,30,30,31,31,31,32,32,32,32,33,33,33,33,33,33,33,33,33,33,33],\"yaxis\":\"y\",\"type\":\"scatter\"},{\"hovertemplate\":\"Metric=tn\\u003cbr\\u003etop=%{x}\\u003cbr\\u003eCount=%{y}\\u003cextra\\u003e\\u003c\\u002fextra\\u003e\",\"legendgroup\":\"tn\",\"line\":{\"color\":\"#00cc96\",\"dash\":\"solid\"},\"marker\":{\"symbol\":\"circle\"},\"mode\":\"lines\",\"name\":\"tn\",\"orientation\":\"v\",\"showlegend\":true,\"x\":[10,11,12,13,14,15,16,17,18,19,20,21,22,23,24,25,26,27,28,29,30,31,32,33,34,35,36,37,38,39,40,41,42,43,44,45,46,47,48,49,50,51,52,53,54,55,56,57,58,59,60,61,62,63,64,65,66,67,68,69,70,71,72,73,74,75,76,77,78,79,80,81,82,83,84,85,86,87,88,89,90,91,92,93,94,95,96,97,98,99],\"xaxis\":\"x\",\"y\":[0,0,0,0,0,0,0,0,0,0,0,0,0,0,0,0,0,0,0,0,0,0,0,0,0,0,0,0,0,0,0,0,0,0,0,0,0,0,0,0,0,0,0,0,0,0,0,0,0,0,0,0,0,0,0,0,0,0,0,0,0,0,0,0,0,0,0,0,0,0,0,0,0,0,0,0,0,0,0,0,0,0,0,0,0,0,0,0,0,0],\"yaxis\":\"y\",\"type\":\"scatter\"},{\"hovertemplate\":\"Metric=fn\\u003cbr\\u003etop=%{x}\\u003cbr\\u003eCount=%{y}\\u003cextra\\u003e\\u003c\\u002fextra\\u003e\",\"legendgroup\":\"fn\",\"line\":{\"color\":\"#ab63fa\",\"dash\":\"solid\"},\"marker\":{\"symbol\":\"circle\"},\"mode\":\"lines\",\"name\":\"fn\",\"orientation\":\"v\",\"showlegend\":true,\"x\":[10,11,12,13,14,15,16,17,18,19,20,21,22,23,24,25,26,27,28,29,30,31,32,33,34,35,36,37,38,39,40,41,42,43,44,45,46,47,48,49,50,51,52,53,54,55,56,57,58,59,60,61,62,63,64,65,66,67,68,69,70,71,72,73,74,75,76,77,78,79,80,81,82,83,84,85,86,87,88,89,90,91,92,93,94,95,96,97,98,99],\"xaxis\":\"x\",\"y\":[0,0,0,0,0,0,0,0,0,0,0,0,0,0,0,0,0,0,0,0,0,0,0,0,0,0,0,0,0,0,0,0,0,0,0,0,0,0,0,0,0,0,0,0,0,0,0,0,0,0,0,0,0,0,0,0,0,0,0,0,0,0,0,0,0,0,0,0,0,0,0,0,0,0,0,0,0,0,0,0,0,0,0,0,0,0,0,0,0,0],\"yaxis\":\"y\",\"type\":\"scatter\"}],                        {\"template\":{\"data\":{\"histogram2dcontour\":[{\"type\":\"histogram2dcontour\",\"colorbar\":{\"outlinewidth\":0,\"ticks\":\"\"},\"colorscale\":[[0.0,\"#0d0887\"],[0.1111111111111111,\"#46039f\"],[0.2222222222222222,\"#7201a8\"],[0.3333333333333333,\"#9c179e\"],[0.4444444444444444,\"#bd3786\"],[0.5555555555555556,\"#d8576b\"],[0.6666666666666666,\"#ed7953\"],[0.7777777777777778,\"#fb9f3a\"],[0.8888888888888888,\"#fdca26\"],[1.0,\"#f0f921\"]]}],\"choropleth\":[{\"type\":\"choropleth\",\"colorbar\":{\"outlinewidth\":0,\"ticks\":\"\"}}],\"histogram2d\":[{\"type\":\"histogram2d\",\"colorbar\":{\"outlinewidth\":0,\"ticks\":\"\"},\"colorscale\":[[0.0,\"#0d0887\"],[0.1111111111111111,\"#46039f\"],[0.2222222222222222,\"#7201a8\"],[0.3333333333333333,\"#9c179e\"],[0.4444444444444444,\"#bd3786\"],[0.5555555555555556,\"#d8576b\"],[0.6666666666666666,\"#ed7953\"],[0.7777777777777778,\"#fb9f3a\"],[0.8888888888888888,\"#fdca26\"],[1.0,\"#f0f921\"]]}],\"heatmap\":[{\"type\":\"heatmap\",\"colorbar\":{\"outlinewidth\":0,\"ticks\":\"\"},\"colorscale\":[[0.0,\"#0d0887\"],[0.1111111111111111,\"#46039f\"],[0.2222222222222222,\"#7201a8\"],[0.3333333333333333,\"#9c179e\"],[0.4444444444444444,\"#bd3786\"],[0.5555555555555556,\"#d8576b\"],[0.6666666666666666,\"#ed7953\"],[0.7777777777777778,\"#fb9f3a\"],[0.8888888888888888,\"#fdca26\"],[1.0,\"#f0f921\"]]}],\"heatmapgl\":[{\"type\":\"heatmapgl\",\"colorbar\":{\"outlinewidth\":0,\"ticks\":\"\"},\"colorscale\":[[0.0,\"#0d0887\"],[0.1111111111111111,\"#46039f\"],[0.2222222222222222,\"#7201a8\"],[0.3333333333333333,\"#9c179e\"],[0.4444444444444444,\"#bd3786\"],[0.5555555555555556,\"#d8576b\"],[0.6666666666666666,\"#ed7953\"],[0.7777777777777778,\"#fb9f3a\"],[0.8888888888888888,\"#fdca26\"],[1.0,\"#f0f921\"]]}],\"contourcarpet\":[{\"type\":\"contourcarpet\",\"colorbar\":{\"outlinewidth\":0,\"ticks\":\"\"}}],\"contour\":[{\"type\":\"contour\",\"colorbar\":{\"outlinewidth\":0,\"ticks\":\"\"},\"colorscale\":[[0.0,\"#0d0887\"],[0.1111111111111111,\"#46039f\"],[0.2222222222222222,\"#7201a8\"],[0.3333333333333333,\"#9c179e\"],[0.4444444444444444,\"#bd3786\"],[0.5555555555555556,\"#d8576b\"],[0.6666666666666666,\"#ed7953\"],[0.7777777777777778,\"#fb9f3a\"],[0.8888888888888888,\"#fdca26\"],[1.0,\"#f0f921\"]]}],\"surface\":[{\"type\":\"surface\",\"colorbar\":{\"outlinewidth\":0,\"ticks\":\"\"},\"colorscale\":[[0.0,\"#0d0887\"],[0.1111111111111111,\"#46039f\"],[0.2222222222222222,\"#7201a8\"],[0.3333333333333333,\"#9c179e\"],[0.4444444444444444,\"#bd3786\"],[0.5555555555555556,\"#d8576b\"],[0.6666666666666666,\"#ed7953\"],[0.7777777777777778,\"#fb9f3a\"],[0.8888888888888888,\"#fdca26\"],[1.0,\"#f0f921\"]]}],\"mesh3d\":[{\"type\":\"mesh3d\",\"colorbar\":{\"outlinewidth\":0,\"ticks\":\"\"}}],\"scatter\":[{\"fillpattern\":{\"fillmode\":\"overlay\",\"size\":10,\"solidity\":0.2},\"type\":\"scatter\"}],\"parcoords\":[{\"type\":\"parcoords\",\"line\":{\"colorbar\":{\"outlinewidth\":0,\"ticks\":\"\"}}}],\"scatterpolargl\":[{\"type\":\"scatterpolargl\",\"marker\":{\"colorbar\":{\"outlinewidth\":0,\"ticks\":\"\"}}}],\"bar\":[{\"error_x\":{\"color\":\"#2a3f5f\"},\"error_y\":{\"color\":\"#2a3f5f\"},\"marker\":{\"line\":{\"color\":\"#E5ECF6\",\"width\":0.5},\"pattern\":{\"fillmode\":\"overlay\",\"size\":10,\"solidity\":0.2}},\"type\":\"bar\"}],\"scattergeo\":[{\"type\":\"scattergeo\",\"marker\":{\"colorbar\":{\"outlinewidth\":0,\"ticks\":\"\"}}}],\"scatterpolar\":[{\"type\":\"scatterpolar\",\"marker\":{\"colorbar\":{\"outlinewidth\":0,\"ticks\":\"\"}}}],\"histogram\":[{\"marker\":{\"pattern\":{\"fillmode\":\"overlay\",\"size\":10,\"solidity\":0.2}},\"type\":\"histogram\"}],\"scattergl\":[{\"type\":\"scattergl\",\"marker\":{\"colorbar\":{\"outlinewidth\":0,\"ticks\":\"\"}}}],\"scatter3d\":[{\"type\":\"scatter3d\",\"line\":{\"colorbar\":{\"outlinewidth\":0,\"ticks\":\"\"}},\"marker\":{\"colorbar\":{\"outlinewidth\":0,\"ticks\":\"\"}}}],\"scattermapbox\":[{\"type\":\"scattermapbox\",\"marker\":{\"colorbar\":{\"outlinewidth\":0,\"ticks\":\"\"}}}],\"scatterternary\":[{\"type\":\"scatterternary\",\"marker\":{\"colorbar\":{\"outlinewidth\":0,\"ticks\":\"\"}}}],\"scattercarpet\":[{\"type\":\"scattercarpet\",\"marker\":{\"colorbar\":{\"outlinewidth\":0,\"ticks\":\"\"}}}],\"carpet\":[{\"aaxis\":{\"endlinecolor\":\"#2a3f5f\",\"gridcolor\":\"white\",\"linecolor\":\"white\",\"minorgridcolor\":\"white\",\"startlinecolor\":\"#2a3f5f\"},\"baxis\":{\"endlinecolor\":\"#2a3f5f\",\"gridcolor\":\"white\",\"linecolor\":\"white\",\"minorgridcolor\":\"white\",\"startlinecolor\":\"#2a3f5f\"},\"type\":\"carpet\"}],\"table\":[{\"cells\":{\"fill\":{\"color\":\"#EBF0F8\"},\"line\":{\"color\":\"white\"}},\"header\":{\"fill\":{\"color\":\"#C8D4E3\"},\"line\":{\"color\":\"white\"}},\"type\":\"table\"}],\"barpolar\":[{\"marker\":{\"line\":{\"color\":\"#E5ECF6\",\"width\":0.5},\"pattern\":{\"fillmode\":\"overlay\",\"size\":10,\"solidity\":0.2}},\"type\":\"barpolar\"}],\"pie\":[{\"automargin\":true,\"type\":\"pie\"}]},\"layout\":{\"autotypenumbers\":\"strict\",\"colorway\":[\"#636efa\",\"#EF553B\",\"#00cc96\",\"#ab63fa\",\"#FFA15A\",\"#19d3f3\",\"#FF6692\",\"#B6E880\",\"#FF97FF\",\"#FECB52\"],\"font\":{\"color\":\"#2a3f5f\"},\"hovermode\":\"closest\",\"hoverlabel\":{\"align\":\"left\"},\"paper_bgcolor\":\"white\",\"plot_bgcolor\":\"#E5ECF6\",\"polar\":{\"bgcolor\":\"#E5ECF6\",\"angularaxis\":{\"gridcolor\":\"white\",\"linecolor\":\"white\",\"ticks\":\"\"},\"radialaxis\":{\"gridcolor\":\"white\",\"linecolor\":\"white\",\"ticks\":\"\"}},\"ternary\":{\"bgcolor\":\"#E5ECF6\",\"aaxis\":{\"gridcolor\":\"white\",\"linecolor\":\"white\",\"ticks\":\"\"},\"baxis\":{\"gridcolor\":\"white\",\"linecolor\":\"white\",\"ticks\":\"\"},\"caxis\":{\"gridcolor\":\"white\",\"linecolor\":\"white\",\"ticks\":\"\"}},\"coloraxis\":{\"colorbar\":{\"outlinewidth\":0,\"ticks\":\"\"}},\"colorscale\":{\"sequential\":[[0.0,\"#0d0887\"],[0.1111111111111111,\"#46039f\"],[0.2222222222222222,\"#7201a8\"],[0.3333333333333333,\"#9c179e\"],[0.4444444444444444,\"#bd3786\"],[0.5555555555555556,\"#d8576b\"],[0.6666666666666666,\"#ed7953\"],[0.7777777777777778,\"#fb9f3a\"],[0.8888888888888888,\"#fdca26\"],[1.0,\"#f0f921\"]],\"sequentialminus\":[[0.0,\"#0d0887\"],[0.1111111111111111,\"#46039f\"],[0.2222222222222222,\"#7201a8\"],[0.3333333333333333,\"#9c179e\"],[0.4444444444444444,\"#bd3786\"],[0.5555555555555556,\"#d8576b\"],[0.6666666666666666,\"#ed7953\"],[0.7777777777777778,\"#fb9f3a\"],[0.8888888888888888,\"#fdca26\"],[1.0,\"#f0f921\"]],\"diverging\":[[0,\"#8e0152\"],[0.1,\"#c51b7d\"],[0.2,\"#de77ae\"],[0.3,\"#f1b6da\"],[0.4,\"#fde0ef\"],[0.5,\"#f7f7f7\"],[0.6,\"#e6f5d0\"],[0.7,\"#b8e186\"],[0.8,\"#7fbc41\"],[0.9,\"#4d9221\"],[1,\"#276419\"]]},\"xaxis\":{\"gridcolor\":\"white\",\"linecolor\":\"white\",\"ticks\":\"\",\"title\":{\"standoff\":15},\"zerolinecolor\":\"white\",\"automargin\":true,\"zerolinewidth\":2},\"yaxis\":{\"gridcolor\":\"white\",\"linecolor\":\"white\",\"ticks\":\"\",\"title\":{\"standoff\":15},\"zerolinecolor\":\"white\",\"automargin\":true,\"zerolinewidth\":2},\"scene\":{\"xaxis\":{\"backgroundcolor\":\"#E5ECF6\",\"gridcolor\":\"white\",\"linecolor\":\"white\",\"showbackground\":true,\"ticks\":\"\",\"zerolinecolor\":\"white\",\"gridwidth\":2},\"yaxis\":{\"backgroundcolor\":\"#E5ECF6\",\"gridcolor\":\"white\",\"linecolor\":\"white\",\"showbackground\":true,\"ticks\":\"\",\"zerolinecolor\":\"white\",\"gridwidth\":2},\"zaxis\":{\"backgroundcolor\":\"#E5ECF6\",\"gridcolor\":\"white\",\"linecolor\":\"white\",\"showbackground\":true,\"ticks\":\"\",\"zerolinecolor\":\"white\",\"gridwidth\":2}},\"shapedefaults\":{\"line\":{\"color\":\"#2a3f5f\"}},\"annotationdefaults\":{\"arrowcolor\":\"#2a3f5f\",\"arrowhead\":0,\"arrowwidth\":1},\"geo\":{\"bgcolor\":\"white\",\"landcolor\":\"#E5ECF6\",\"subunitcolor\":\"white\",\"showland\":true,\"showlakes\":true,\"lakecolor\":\"white\"},\"title\":{\"x\":0.05},\"mapbox\":{\"style\":\"light\"}}},\"xaxis\":{\"anchor\":\"y\",\"domain\":[0.0,1.0],\"title\":{\"text\":\"top\"}},\"yaxis\":{\"anchor\":\"x\",\"domain\":[0.0,1.0],\"title\":{\"text\":\"Count\"}},\"legend\":{\"title\":{\"text\":\"Metric\"},\"tracegroupgap\":0},\"title\":{\"text\":\"Top Predictions ISRAEL\"},\"height\":500,\"width\":800},                        {\"responsive\": true}                    ).then(function(){\n                            \nvar gd = document.getElementById('77979284-9e83-498d-b72f-4f7cb7bfc2e9');\nvar x = new MutationObserver(function (mutations, observer) {{\n        var display = window.getComputedStyle(gd).display;\n        if (!display || display === 'none') {{\n            console.log([gd, 'removed!']);\n            Plotly.purge(gd);\n            observer.disconnect();\n        }}\n}});\n\n// Listen for the removal of the full notebook cells\nvar notebookContainer = gd.closest('#notebook-container');\nif (notebookContainer) {{\n    x.observe(notebookContainer, {childList: true});\n}}\n\n// Listen for the clearing of the current output cell\nvar outputEl = gd.closest('.output');\nif (outputEl) {{\n    x.observe(outputEl, {childList: true});\n}}\n\n                        })                };                });            </script>        </div>"
     },
     "metadata": {},
     "output_type": "display_data"
    },
    {
     "data": {
      "application/vnd.plotly.v1+json": {
       "data": [
        {
         "customdata": [
          [
           null
          ],
          [
           0.6034677028656006
          ],
          [
           0.5844514966011047
          ],
          [
           0.5608874559402466
          ],
          [
           0.5501880049705505
          ],
          [
           0.5499866008758545
          ],
          [
           0.5427360534667969
          ],
          [
           0.5413810610771179
          ],
          [
           0.523108959197998
          ],
          [
           0.5156747102737427
          ],
          [
           0.5123304724693298
          ],
          [
           0.511138379573822
          ],
          [
           0.5065645575523376
          ],
          [
           0.5063611268997192
          ],
          [
           0.5030566453933716
          ],
          [
           0.500119686126709
          ],
          [
           0.49732938408851624
          ],
          [
           0.4959647059440613
          ],
          [
           0.4892878234386444
          ],
          [
           0.4882166087627411
          ],
          [
           0.4868527948856354
          ],
          [
           0.483347624540329
          ],
          [
           0.48177725076675415
          ],
          [
           0.4804145097732544
          ],
          [
           0.47762906551361084
          ],
          [
           0.4762471616268158
          ],
          [
           0.46212664246559143
          ],
          [
           0.457807332277298
          ],
          [
           0.4576471447944641
          ],
          [
           0.4531436562538147
          ],
          [
           0.4518846273422241
          ],
          [
           0.4514153301715851
          ],
          [
           0.4486527740955353
          ],
          [
           0.4486125707626343
          ],
          [
           0.4484112560749054
          ],
          [
           0.44695115089416504
          ],
          [
           0.4458819031715393
          ],
          [
           0.44570839405059814
          ],
          [
           0.44550731778144836
          ],
          [
           0.44224417209625244
          ],
          [
           0.44090715050697327
          ],
          [
           0.4381486475467682
          ],
          [
           0.43682539463043213
          ],
          [
           0.4366009533405304
          ],
          [
           0.4351332187652588
          ],
          [
           0.4319399297237396
          ],
          [
           0.4291943907737732
          ],
          [
           0.42787760496139526
          ],
          [
           0.4278261363506317
          ],
          [
           0.4276542663574219
          ],
          [
           0.4263187348842621
          ],
          [
           0.42335280776023865
          ],
          [
           0.42289918661117554
          ],
          [
           0.42156749963760376
          ],
          [
           0.4188196063041687
          ],
          [
           0.4186215400695801
          ],
          [
           0.4173092246055603
          ],
          [
           0.41692444682121277
          ],
          [
           0.4140269458293915
          ],
          [
           0.4127032458782196
          ],
          [
           0.41230443120002747
          ],
          [
           0.4112442433834076
          ],
          [
           0.40864089131355286
          ],
          [
           0.4068509042263031
          ],
          [
           0.4039250612258911
          ],
          [
           0.40377897024154663
          ],
          [
           0.3997560739517212
          ],
          [
           0.3983966112136841
          ],
          [
           0.39822831749916077
          ],
          [
           0.3979284167289734
          ],
          [
           0.39517831802368164
          ],
          [
           0.3940385580062866
          ],
          [
           0.39343076944351196
          ],
          [
           0.3925413191318512
          ],
          [
           0.39237385988235474
          ],
          [
           0.3917897641658783
          ],
          [
           0.38926541805267334
          ],
          [
           0.3892267048358917
          ],
          [
           0.3890332877635956
          ],
          [
           0.38774529099464417
          ],
          [
           0.3846118152141571
          ],
          [
           0.3839605748653412
          ],
          [
           0.38267025351524353
          ],
          [
           0.37919533252716064
          ],
          [
           0.37912604212760925
          ],
          [
           0.3760194480419159
          ],
          [
           0.37508103251457214
          ],
          [
           0.37444427609443665
          ],
          [
           0.3732670545578003
          ],
          [
           0.373166561126709
          ],
          [
           0.3708149194717407
          ],
          [
           0.37065112590789795
          ],
          [
           0.37015002965927124
          ],
          [
           0.366574764251709
          ],
          [
           0.36612436175346375
          ],
          [
           0.36548590660095215
          ],
          [
           0.36509671807289124
          ],
          [
           0.36466601490974426
          ],
          [
           0.36340227723121643
          ],
          [
           0.363284170627594
          ],
          [
           0.36063268780708313
          ],
          [
           0.3599177300930023
          ],
          [
           0.3577049672603607
          ],
          [
           0.356261283159256
          ],
          [
           0.3555339276790619
          ],
          [
           0.35501039028167725
          ],
          [
           0.35479438304901123
          ],
          [
           0.3546336591243744
          ],
          [
           0.3532062768936157
          ],
          [
           0.35101011395454407
          ],
          [
           0.3480047285556793
          ],
          [
           0.3470783233642578
          ],
          [
           0.3470470607280731
          ],
          [
           0.3467348515987396
          ],
          [
           0.3465974032878876
          ],
          [
           0.3464817702770233
          ],
          [
           0.34265610575675964
          ],
          [
           0.3419429659843445
          ],
          [
           0.33872371912002563
          ],
          [
           0.3386804461479187
          ],
          [
           0.33852317929267883
          ],
          [
           0.3379746675491333
          ],
          [
           0.33750206232070923
          ],
          [
           0.3370220363140106
          ],
          [
           0.3368866443634033
          ],
          [
           0.33418047428131104
          ],
          [
           0.33256223797798157
          ],
          [
           0.3319076895713806
          ],
          [
           0.3315715789794922
          ],
          [
           0.33060574531555176
          ],
          [
           0.3294292986392975
          ],
          [
           0.3287908136844635
          ],
          [
           0.3286483883857727
          ],
          [
           0.3270827829837799
          ],
          [
           0.32611772418022156
          ],
          [
           0.3250700831413269
          ],
          [
           0.3249371349811554
          ],
          [
           0.3248097598552704
          ],
          [
           0.32354119420051575
          ],
          [
           0.32129043340682983
          ],
          [
           0.32065483927726746
          ],
          [
           0.32062697410583496
          ],
          [
           0.3197338283061981
          ],
          [
           0.3177543878555298
          ],
          [
           0.31751489639282227
          ],
          [
           0.3168655037879944
          ],
          [
           0.3162996172904968
          ],
          [
           0.31583666801452637
          ],
          [
           0.3146583139896393
          ],
          [
           0.3144521117210388
          ],
          [
           0.3119502067565918
          ],
          [
           0.31148940324783325
          ],
          [
           0.3096672296524048
          ],
          [
           0.30404216051101685
          ],
          [
           0.30372437834739685
          ],
          [
           0.3032701313495636
          ],
          [
           0.3023053705692291
          ],
          [
           0.30182594060897827
          ],
          [
           0.30090928077697754
          ],
          [
           0.3006768822669983
          ],
          [
           0.30004677176475525
          ],
          [
           0.3000331521034241
          ],
          [
           0.2994977533817291
          ],
          [
           0.299175888299942
          ],
          [
           0.29914698004722595
          ],
          [
           0.29904863238334656
          ],
          [
           0.2986968755722046
          ],
          [
           0.2985699474811554
          ],
          [
           0.29700854420661926
          ],
          [
           0.29682275652885437
          ],
          [
           0.296382874250412
          ],
          [
           0.2949836254119873
          ],
          [
           0.2941988706588745
          ],
          [
           0.29393717646598816
          ],
          [
           0.2934041917324066
          ],
          [
           0.29306668043136597
          ],
          [
           0.2917727828025818
          ],
          [
           0.2906460464000702
          ],
          [
           0.29007863998413086
          ],
          [
           0.28926974534988403
          ],
          [
           0.2885720133781433
          ],
          [
           0.2879880368709564
          ],
          [
           0.2876175045967102
          ],
          [
           0.2865334749221802
          ],
          [
           0.28609588742256165
          ],
          [
           0.285839706659317
          ],
          [
           0.285695344209671
          ],
          [
           0.28547191619873047
          ],
          [
           0.28518447279930115
          ],
          [
           0.28434330224990845
          ],
          [
           0.2824974060058594
          ],
          [
           0.282190203666687
          ],
          [
           0.28191429376602173
          ],
          [
           0.28081056475639343
          ],
          [
           0.2757483124732971
          ],
          [
           0.2754131853580475
          ],
          [
           0.27486398816108704
          ],
          [
           0.27459248900413513
          ],
          [
           0.2735064923763275
          ],
          [
           0.27221179008483887
          ],
          [
           0.269831120967865
          ],
          [
           0.2693833112716675
          ],
          [
           0.2667904496192932
          ],
          [
           0.2664417326450348
          ],
          [
           0.26622772216796875
          ],
          [
           0.2652233839035034
          ],
          [
           0.26483380794525146
          ],
          [
           0.2647140324115753
          ],
          [
           0.26202693581581116
          ],
          [
           0.26097017526626587
          ],
          [
           0.26075729727745056
          ],
          [
           0.260008305311203
          ],
          [
           0.25916630029678345
          ],
          [
           0.25901538133621216
          ],
          [
           0.2579960525035858
          ],
          [
           0.2578800618648529
          ],
          [
           0.2564863860607147
          ],
          [
           0.2552071213722229
          ],
          [
           0.2551339268684387
          ],
          [
           0.2541472315788269
          ],
          [
           0.2536221742630005
          ],
          [
           0.25345370173454285
          ],
          [
           0.25324395298957825
          ],
          [
           0.25276848673820496
          ],
          [
           0.25096431374549866
          ],
          [
           0.25084298849105835
          ],
          [
           0.24808050692081451
          ],
          [
           0.2472982555627823
          ],
          [
           0.24650095403194427
          ],
          [
           0.24617892503738403
          ],
          [
           0.246049702167511
          ],
          [
           0.24512457847595215
          ],
          [
           0.24408386647701263
          ],
          [
           0.24405387043952942
          ],
          [
           0.24398478865623474
          ],
          [
           0.2428789585828781
          ],
          [
           0.24281641840934753
          ],
          [
           0.24276751279830933
          ],
          [
           0.24189156293869019
          ],
          [
           0.24173840880393982
          ],
          [
           0.24123457074165344
          ],
          [
           0.24081546068191528
          ],
          [
           0.23998010158538818
          ],
          [
           0.23947571218013763
          ],
          [
           0.23898594081401825
          ],
          [
           0.23777616024017334
          ],
          [
           0.23738713562488556
          ],
          [
           0.23727741837501526
          ],
          [
           0.23723511397838593
          ],
          [
           0.23631636798381805
          ],
          [
           0.23624877631664276
          ],
          [
           0.23462411761283875
          ],
          [
           0.23310448229312897
          ],
          [
           0.23271191120147705
          ],
          [
           0.2325274497270584
          ],
          [
           0.23183883726596832
          ],
          [
           0.23070091009140015
          ],
          [
           0.22979983687400818
          ],
          [
           0.22973354160785675
          ],
          [
           0.2294197380542755
          ],
          [
           0.22926238179206848
          ],
          [
           0.22866284847259521
          ],
          [
           0.22615233063697815
          ],
          [
           0.22589288651943207
          ],
          [
           0.2255995273590088
          ],
          [
           0.2254936695098877
          ],
          [
           0.2240375131368637
          ],
          [
           0.2235250473022461
          ],
          [
           0.22326169908046722
          ],
          [
           0.22208935022354126
          ],
          [
           0.22170153260231018
          ],
          [
           0.2212662249803543
          ],
          [
           0.22116181254386902
          ],
          [
           0.22088202834129333
          ],
          [
           0.22024039924144745
          ],
          [
           0.22005723416805267
          ],
          [
           0.2193043977022171
          ],
          [
           0.2184334397315979
          ],
          [
           0.2177630513906479
          ],
          [
           0.21740107238292694
          ],
          [
           0.2172979861497879
          ],
          [
           0.21693290770053864
          ],
          [
           0.21670152246952057
          ],
          [
           0.21577639877796173
          ],
          [
           0.2143830507993698
          ],
          [
           0.21404293179512024
          ],
          [
           0.2131260633468628
          ],
          [
           0.21216504275798798
          ],
          [
           0.21191175282001495
          ],
          [
           0.21059978008270264
          ],
          [
           0.2097722440958023
          ],
          [
           0.2096504420042038
          ],
          [
           0.20931611955165863
          ],
          [
           0.20929500460624695
          ],
          [
           0.20875459909439087
          ],
          [
           0.20850905776023865
          ],
          [
           0.20839306712150574
          ],
          [
           0.2076096385717392
          ],
          [
           0.206996351480484
          ],
          [
           0.20588678121566772
          ],
          [
           0.2058255523443222
          ],
          [
           0.20534279942512512
          ],
          [
           0.20361469686031342
          ],
          [
           0.20332521200180054
          ],
          [
           0.20292671024799347
          ],
          [
           0.20258554816246033
          ],
          [
           0.20235881209373474
          ],
          [
           0.20183342695236206
          ],
          [
           0.20009663701057434
          ],
          [
           0.19999966025352478
          ],
          [
           0.1992824822664261
          ],
          [
           0.1985594779253006
          ],
          [
           0.1983768194913864
          ],
          [
           0.19751019775867462
          ],
          [
           0.19688241183757782
          ],
          [
           0.1967039853334427
          ],
          [
           0.19654323160648346
          ],
          [
           0.196205273270607
          ],
          [
           0.1955726444721222
          ],
          [
           0.1954030990600586
          ],
          [
           0.19437706470489502
          ],
          [
           0.1942298710346222
          ],
          [
           0.1941288858652115
          ],
          [
           0.1929570585489273
          ],
          [
           0.1918729692697525
          ],
          [
           0.19118107855319977
          ],
          [
           0.19090686738491058
          ],
          [
           0.19051890075206757
          ],
          [
           0.19025155901908875
          ],
          [
           0.19024567306041718
          ],
          [
           0.19014425575733185
          ],
          [
           0.1898711919784546
          ],
          [
           0.18981529772281647
          ],
          [
           0.18908502161502838
          ],
          [
           0.18903297185897827
          ],
          [
           0.18851341307163239
          ],
          [
           0.18848855793476105
          ],
          [
           0.1884530633687973
          ],
          [
           0.1882556527853012
          ],
          [
           0.1882002204656601
          ],
          [
           0.1875147819519043
          ],
          [
           0.1874629706144333
          ],
          [
           0.18742291629314423
          ],
          [
           0.18742245435714722
          ],
          [
           0.18669696152210236
          ],
          [
           0.18616917729377747
          ],
          [
           0.1861530840396881
          ],
          [
           0.18613366782665253
          ],
          [
           0.18483729660511017
          ],
          [
           0.18417465686798096
          ],
          [
           0.18346115946769714
          ],
          [
           0.18313981592655182
          ],
          [
           0.18287135660648346
          ],
          [
           0.1823246330022812
          ],
          [
           0.18208834528923035
          ],
          [
           0.18185202777385712
          ],
          [
           0.18104130029678345
          ],
          [
           0.18070827424526215
          ],
          [
           0.18069253861904144
          ],
          [
           0.1796823889017105
          ],
          [
           0.17902177572250366
          ],
          [
           0.17878325283527374
          ],
          [
           0.1787593960762024
          ],
          [
           0.1780363917350769
          ],
          [
           0.17781193554401398
          ],
          [
           0.17777514457702637
          ],
          [
           0.17752909660339355
          ],
          [
           0.17672115564346313
          ],
          [
           0.1764996200799942
          ],
          [
           0.17618857324123383
          ],
          [
           0.17574571073055267
          ],
          [
           0.17558719217777252
          ],
          [
           0.1755380630493164
          ],
          [
           0.17545035481452942
          ],
          [
           0.17452293634414673
          ],
          [
           0.17427806556224823
          ],
          [
           0.17331328988075256
          ],
          [
           0.1732727587223053
          ],
          [
           0.17318595945835114
          ],
          [
           0.17311681807041168
          ],
          [
           0.1726192682981491
          ],
          [
           0.17199258506298065
          ],
          [
           0.1719411015510559
          ],
          [
           0.17189276218414307
          ],
          [
           0.171635702252388
          ],
          [
           0.1703980416059494
          ],
          [
           0.17039760947227478
          ],
          [
           0.17031237483024597
          ],
          [
           0.169724240899086
          ],
          [
           0.16963887214660645
          ],
          [
           0.16957946121692657
          ],
          [
           0.1691492646932602
          ],
          [
           0.16912351548671722
          ],
          [
           0.16906088590621948
          ],
          [
           0.16822269558906555
          ],
          [
           0.16747403144836426
          ],
          [
           0.16724850237369537
          ],
          [
           0.16696366667747498
          ],
          [
           0.16686224937438965
          ],
          [
           0.16653931140899658
          ],
          [
           0.16609139740467072
          ],
          [
           0.16566844284534454
          ],
          [
           0.16558468341827393
          ],
          [
           0.16531124711036682
          ],
          [
           0.16513314843177795
          ],
          [
           0.16420893371105194
          ],
          [
           0.16417008638381958
          ],
          [
           0.1640869379043579
          ],
          [
           0.16323688626289368
          ],
          [
           0.1632193922996521
          ],
          [
           0.16320767998695374
          ],
          [
           0.16294392943382263
          ],
          [
           0.16291894018650055
          ],
          [
           0.16230379045009613
          ],
          [
           0.16209526360034943
          ],
          [
           0.1620335578918457
          ],
          [
           0.16175958514213562
          ],
          [
           0.16174517571926117
          ],
          [
           0.16155050694942474
          ],
          [
           0.1606331169605255
          ],
          [
           0.16052140295505524
          ],
          [
           0.16018971800804138
          ],
          [
           0.15998326241970062
          ],
          [
           0.15990182757377625
          ],
          [
           0.1592998206615448
          ],
          [
           0.15907429158687592
          ],
          [
           0.15904073417186737
          ],
          [
           0.15834546089172363
          ],
          [
           0.15831780433654785
          ],
          [
           0.15819613635540009
          ],
          [
           0.15803198516368866
          ],
          [
           0.15720410645008087
          ],
          [
           0.15610826015472412
          ],
          [
           0.15569300949573517
          ],
          [
           0.1556902825832367
          ],
          [
           0.1552131474018097
          ],
          [
           0.15454614162445068
          ],
          [
           0.15397286415100098
          ],
          [
           0.1539234071969986
          ],
          [
           0.1536702662706375
          ],
          [
           0.15355072915554047
          ],
          [
           0.1534469872713089
          ],
          [
           0.15331041812896729
          ],
          [
           0.15232905745506287
          ],
          [
           0.1517140418291092
          ],
          [
           0.15168313682079315
          ],
          [
           0.1516360640525818
          ],
          [
           0.15160918235778809
          ],
          [
           0.15145084261894226
          ],
          [
           0.1513729840517044
          ],
          [
           0.15087610483169556
          ],
          [
           0.15054957568645477
          ],
          [
           0.15049725770950317
          ],
          [
           0.15045273303985596
          ],
          [
           0.15017688274383545
          ],
          [
           0.14998450875282288
          ],
          [
           0.1493527740240097
          ],
          [
           0.14919376373291016
          ],
          [
           0.14880649745464325
          ],
          [
           0.14879365265369415
          ],
          [
           0.14821584522724152
          ],
          [
           0.1481393426656723
          ],
          [
           0.14786653220653534
          ],
          [
           0.14763899147510529
          ],
          [
           0.1466805785894394
          ],
          [
           0.14664515852928162
          ],
          [
           0.14656934142112732
          ],
          [
           0.1462152749300003
          ],
          [
           0.1458951234817505
          ],
          [
           0.14576756954193115
          ],
          [
           0.14570540189743042
          ],
          [
           0.1456056833267212
          ],
          [
           0.14493098855018616
          ],
          [
           0.14402291178703308
          ],
          [
           0.14374607801437378
          ],
          [
           0.14373299479484558
          ],
          [
           0.14351777732372284
          ],
          [
           0.1434209644794464
          ],
          [
           0.1431320160627365
          ],
          [
           0.1426869034767151
          ],
          [
           0.14238500595092773
          ],
          [
           0.14236263930797577
          ],
          [
           0.14131197333335876
          ],
          [
           0.14130941033363342
          ],
          [
           0.14105172455310822
          ],
          [
           0.14064836502075195
          ],
          [
           0.14048676192760468
          ],
          [
           0.14026527106761932
          ],
          [
           0.13960829377174377
          ],
          [
           0.1389225870370865
          ],
          [
           0.1384672075510025
          ],
          [
           0.13799065351486206
          ],
          [
           0.1373126059770584
          ],
          [
           0.13714314997196198
          ],
          [
           0.13708235323429108
          ],
          [
           0.13707035779953003
          ],
          [
           0.1366128772497177
          ],
          [
           0.13654141128063202
          ],
          [
           0.13622312247753143
          ],
          [
           0.13521063327789307
          ],
          [
           0.1350642740726471
          ],
          [
           0.13499349355697632
          ],
          [
           0.13436415791511536
          ],
          [
           0.1342450976371765
          ],
          [
           0.1337260901927948
          ],
          [
           0.13264964520931244
          ],
          [
           0.13200828433036804
          ],
          [
           0.13178573548793793
          ],
          [
           0.13134320080280304
          ],
          [
           0.1310524195432663
          ],
          [
           0.1310223788022995
          ],
          [
           0.13005365431308746
          ],
          [
           0.12984535098075867
          ],
          [
           0.12975482642650604
          ],
          [
           0.1296408772468567
          ],
          [
           0.12955859303474426
          ],
          [
           0.1290801614522934
          ],
          [
           0.12847690284252167
          ],
          [
           0.1278602033853531
          ],
          [
           0.1272071748971939
          ],
          [
           0.12699152529239655
          ],
          [
           0.12679727375507355
          ],
          [
           0.12638337910175323
          ],
          [
           0.12625190615653992
          ],
          [
           0.12511156499385834
          ],
          [
           0.12500035762786865
          ],
          [
           0.12407086789608002
          ],
          [
           0.124059297144413
          ],
          [
           0.12398862093687057
          ],
          [
           0.12392278760671616
          ],
          [
           0.12386702746152878
          ],
          [
           0.1234363242983818
          ],
          [
           0.1229989305138588
          ],
          [
           0.12284958362579346
          ],
          [
           0.12218590825796127
          ],
          [
           0.12201599031686783
          ],
          [
           0.12192022800445557
          ],
          [
           0.12174410372972488
          ],
          [
           0.12041876465082169
          ],
          [
           0.1195484846830368
          ],
          [
           0.11950749903917313
          ],
          [
           0.1193213015794754
          ],
          [
           0.11913871020078659
          ],
          [
           0.1187150776386261
          ],
          [
           0.11848075687885284
          ],
          [
           0.11743637174367905
          ],
          [
           0.11723291873931885
          ],
          [
           0.11710827052593231
          ],
          [
           0.11704561859369278
          ],
          [
           0.11634127795696259
          ],
          [
           0.11604181677103043
          ],
          [
           0.11532264202833176
          ],
          [
           0.1152934581041336
          ],
          [
           0.11497195810079575
          ],
          [
           0.1142273023724556
          ],
          [
           0.114034503698349
          ],
          [
           0.11382900923490524
          ],
          [
           0.11372629553079605
          ],
          [
           0.11346202343702316
          ],
          [
           0.11318601667881012
          ],
          [
           0.1128992810845375
          ],
          [
           0.11249294877052307
          ],
          [
           0.11247183382511139
          ],
          [
           0.1120355874300003
          ],
          [
           0.11200743913650513
          ],
          [
           0.11187191307544708
          ],
          [
           0.11149370670318604
          ],
          [
           0.11131007969379425
          ],
          [
           0.11092223972082138
          ],
          [
           0.10983209311962128
          ],
          [
           0.10981417447328568
          ],
          [
           0.10950620472431183
          ],
          [
           0.10854633152484894
          ],
          [
           0.10853603482246399
          ],
          [
           0.10787060856819153
          ],
          [
           0.10771385580301285
          ],
          [
           0.10756862163543701
          ],
          [
           0.10663203150033951
          ],
          [
           0.10611315071582794
          ],
          [
           0.10581250488758087
          ],
          [
           0.10558292269706726
          ],
          [
           0.10448584705591202
          ],
          [
           0.10442696511745453
          ],
          [
           0.10392569750547409
          ],
          [
           0.10355033725500107
          ],
          [
           0.10342387855052948
          ],
          [
           0.1028323546051979
          ],
          [
           0.10264470428228378
          ],
          [
           0.10218554735183716
          ],
          [
           0.10205762088298798
          ],
          [
           0.10185232758522034
          ],
          [
           0.10136149823665619
          ],
          [
           0.10051282495260239
          ],
          [
           0.09999130666255951
          ],
          [
           0.09982562065124512
          ],
          [
           0.09934931993484497
          ],
          [
           0.09871672093868256
          ],
          [
           0.09782377630472183
          ],
          [
           0.09755762666463852
          ],
          [
           0.09706458449363708
          ],
          [
           0.09659432619810104
          ],
          [
           0.09631848335266113
          ],
          [
           0.09597720950841904
          ],
          [
           0.09560517221689224
          ],
          [
           0.0952400490641594
          ],
          [
           0.09499390423297882
          ],
          [
           0.09486138820648193
          ],
          [
           0.09388761967420578
          ],
          [
           0.09361165016889572
          ],
          [
           0.09316480904817581
          ],
          [
           0.09315582364797592
          ],
          [
           0.09255875647068024
          ],
          [
           0.09191808849573135
          ],
          [
           0.09149393439292908
          ],
          [
           0.0910412147641182
          ],
          [
           0.09032867103815079
          ],
          [
           0.08965364098548889
          ],
          [
           0.08962187170982361
          ],
          [
           0.08830076456069946
          ],
          [
           0.08801690489053726
          ],
          [
           0.08757441490888596
          ],
          [
           0.08730342984199524
          ],
          [
           0.08693728595972061
          ],
          [
           0.08640838414430618
          ],
          [
           0.08570556342601776
          ],
          [
           0.085384801030159
          ],
          [
           0.08514657616615295
          ],
          [
           0.08482462912797928
          ],
          [
           0.08384055644273758
          ],
          [
           0.08381882309913635
          ],
          [
           0.0834222286939621
          ],
          [
           0.08296868950128555
          ],
          [
           0.08259172737598419
          ],
          [
           0.08221258223056793
          ],
          [
           0.08188902586698532
          ],
          [
           0.08062856644392014
          ],
          [
           0.08039597421884537
          ],
          [
           0.07986566424369812
          ],
          [
           0.07957755774259567
          ],
          [
           0.07905757427215576
          ],
          [
           0.07849454879760742
          ],
          [
           0.07797858119010925
          ],
          [
           0.07730481028556824
          ],
          [
           0.07675322890281677
          ],
          [
           0.07651524990797043
          ],
          [
           0.07562103122472763
          ],
          [
           0.07527125626802444
          ],
          [
           0.07497278600931168
          ],
          [
           0.07421959191560745
          ],
          [
           0.07359573245048523
          ],
          [
           0.07310671359300613
          ],
          [
           0.07236162573099136
          ],
          [
           0.07226737588644028
          ],
          [
           0.0709233209490776
          ],
          [
           0.07074592262506485
          ],
          [
           0.06798800826072693
          ],
          [
           0.06782189756631851
          ],
          [
           0.06534002721309662
          ],
          [
           0.06508411467075348
          ],
          [
           0.06486779451370239
          ],
          [
           0.06254164129495621
          ],
          [
           0.06216633692383766
          ],
          [
           0.059730563312768936
          ]
         ],
         "hovertemplate": "country=ISRAEL<br>FPR=%{x}<br>TPR=%{y}<br>thresholds=%{customdata[0]}<extra></extra>",
         "legendgroup": "ISRAEL",
         "line": {
          "color": "#636efa",
          "dash": "solid"
         },
         "marker": {
          "symbol": "circle"
         },
         "mode": "lines",
         "name": "ISRAEL",
         "orientation": "v",
         "showlegend": true,
         "x": [
          0.0,
          0.0,
          0.0,
          0.0010645375914836992,
          0.0011976047904191617,
          0.0011976047904191617,
          0.0026613439787092482,
          0.00332667997338656,
          0.0034597471723220225,
          0.00385894876912841,
          0.004258150365934797,
          0.004258150365934797,
          0.004524284763805722,
          0.004790419161676647,
          0.005189620758483034,
          0.005588822355289421,
          0.006919494344644045,
          0.007451763140385895,
          0.007584830339321357,
          0.007984031936127744,
          0.007984031936127744,
          0.008649367930805056,
          0.009181636726546906,
          0.00944777112441783,
          0.009713905522288756,
          0.00998003992015968,
          0.010246174318030606,
          0.010246174318030606,
          0.01051230871590153,
          0.010645375914836993,
          0.012242182302062542,
          0.012242182302062542,
          0.012375249500998005,
          0.01277445109780439,
          0.012907518296739853,
          0.013040585495675315,
          0.013040585495675315,
          0.013705921490352628,
          0.01383898868928809,
          0.014105123087159015,
          0.014238190286094477,
          0.01437125748502994,
          0.014504324683965402,
          0.015169660678642715,
          0.015169660678642715,
          0.015169660678642715,
          0.015302727877578177,
          0.01543579507651364,
          0.015968063872255488,
          0.01610113107119095,
          0.01610113107119095,
          0.016234198270126413,
          0.020758483033932136,
          0.021157684630738523,
          0.021290751829673986,
          0.02142381902860945,
          0.021689953426480373,
          0.021823020625415836,
          0.022488356620093148,
          0.022754491017964073,
          0.02315369261477046,
          0.023286759813705923,
          0.023552894211576848,
          0.02368596141051231,
          0.023952095808383235,
          0.02554890219560878,
          0.02594810379241517,
          0.02594810379241517,
          0.026214238190286093,
          0.026480372588157018,
          0.02714570858283433,
          0.02714570858283433,
          0.027411842980705255,
          0.027411842980705255,
          0.028875582168995342,
          0.029008649367930805,
          0.029008649367930805,
          0.029540918163672655,
          0.02980705256154358,
          0.030073186959414504,
          0.030738522954091817,
          0.03166999334664005,
          0.031936127744510975,
          0.033000665335994675,
          0.03379906852960745,
          0.0343313373253493,
          0.034464404524284765,
          0.035129740518962074,
          0.035395874916833,
          0.035528942115768465,
          0.03579507651363939,
          0.03592814371257485,
          0.036061210911510315,
          0.036593479707252165,
          0.03792415169660679,
          0.03805721889554225,
          0.038190286094477714,
          0.04218230206254158,
          0.0428476380572189,
          0.04311377245508982,
          0.043512974051896205,
          0.04364604125083167,
          0.043912175648702596,
          0.044577511643379905,
          0.04484364604125083,
          0.044976713240186296,
          0.044976713240186296,
          0.04537591483699268,
          0.04537591483699268,
          0.04590818363273453,
          0.04590818363273453,
          0.04644045242847638,
          0.046573519627411845,
          0.046573519627411845,
          0.047638057218895545,
          0.047638057218895545,
          0.047771124417831004,
          0.048835662009314704,
          0.049234863606121095,
          0.04963406520292748,
          0.05163007318695941,
          0.05189620758483034,
          0.05216234198270126,
          0.05216234198270126,
          0.05256154357950765,
          0.05282767797737858,
          0.052960745176314036,
          0.05335994677312043,
          0.053493013972055886,
          0.05389221556886228,
          0.05429141716566866,
          0.05429141716566866,
          0.0552228875582169,
          0.05535595475715236,
          0.056553559547571526,
          0.056686626746506985,
          0.057085828343313376,
          0.057218895542248835,
          0.06001330671989354,
          0.06014637391882901,
          0.06027944111776447,
          0.06147704590818363,
          0.06147704590818363,
          0.06280771789753825,
          0.06280771789753825,
          0.06307385229540918,
          0.06320691949434465,
          0.06533599467731205,
          0.0654690618762475,
          0.0654690618762475,
          0.06573519627411843,
          0.06719893546240852,
          0.06733200266134398,
          0.06733200266134398,
          0.06773120425815037,
          0.0679973386560213,
          0.06813040585495675,
          0.07119095143047238,
          0.07172322022621423,
          0.07198935462408516,
          0.07212242182302063,
          0.07318695941450433,
          0.07332002661343978,
          0.07332002661343978,
          0.07358616101131071,
          0.07491683300066533,
          0.07518296739853626,
          0.07598137059214903,
          0.07664670658682635,
          0.07664670658682635,
          0.07677977378576181,
          0.07677977378576181,
          0.07797737857618098,
          0.07797737857618098,
          0.07811044577511643,
          0.07837658017298736,
          0.07877578176979375,
          0.07877578176979375,
          0.07904191616766468,
          0.08023952095808383,
          0.08023952095808383,
          0.0803725881570193,
          0.08063872255489021,
          0.08090485695276114,
          0.08090485695276114,
          0.08117099135063206,
          0.08130405854956753,
          0.08157019294743846,
          0.08157019294743846,
          0.08157019294743846,
          0.0825016633399867,
          0.08263473053892216,
          0.08649367930805056,
          0.08715901530272788,
          0.08782435129740519,
          0.08782435129740519,
          0.09101796407185629,
          0.09221556886227544,
          0.09261477045908184,
          0.09554224883566201,
          0.09580838323353294,
          0.09620758483033932,
          0.09780439121756487,
          0.09807052561543579,
          0.09940119760479042,
          0.09940119760479042,
          0.10099800399201597,
          0.10126413838988689,
          0.10166333998669327,
          0.10232867598137059,
          0.10272787757817697,
          0.10286094477711244,
          0.10312707917498337,
          0.10472388556220892,
          0.10472388556220892,
          0.10499001996007984,
          0.10525615435795077,
          0.10578842315369262,
          0.10592149035262807,
          0.10645375914836992,
          0.10671989354624085,
          0.10711909514304724,
          0.10738522954091817,
          0.10805056553559547,
          0.1083166999334664,
          0.1089820359281437,
          0.10924817032601464,
          0.10924817032601464,
          0.11337325349301397,
          0.11350632069194944,
          0.11377245508982035,
          0.11403858948769129,
          0.11417165668662675,
          0.1147039254823686,
          0.11497005988023952,
          0.11497005988023952,
          0.11590153027278775,
          0.11603459747172322,
          0.11656686626746507,
          0.11669993346640053,
          0.11709913506320692,
          0.11723220226214238,
          0.12188955422488357,
          0.12188955422488357,
          0.12228875582168995,
          0.12255489021956088,
          0.12268795741849634,
          0.12455089820359282,
          0.127478376580173,
          0.1288090485695276,
          0.12907518296739853,
          0.13040585495675316,
          0.13080505655355953,
          0.130938123752495,
          0.130938123752495,
          0.13107119095143047,
          0.13213572854291417,
          0.1324018629407851,
          0.13266799733865603,
          0.1330671989354624,
          0.1351962741184298,
          0.13546240851630073,
          0.13572854291417166,
          0.13745841650033266,
          0.13852295409181636,
          0.14025282767797737,
          0.14038589487691283,
          0.1405189620758483,
          0.1405189620758483,
          0.14131736526946106,
          0.141583499667332,
          0.14184963406520293,
          0.14238190286094476,
          0.1426480372588157,
          0.14916833000665336,
          0.14916833000665336,
          0.14983366600133066,
          0.1500998003992016,
          0.1526280771789754,
          0.15276114437791086,
          0.1532934131736527,
          0.1575515635395875,
          0.15888223552894212,
          0.1590153027278776,
          0.1592814371257485,
          0.15981370592149036,
          0.15994677312042582,
          0.1614105123087159,
          0.16167664670658682,
          0.16207584830339322,
          0.16300731869594146,
          0.16420492348636062,
          0.1643379906852961,
          0.17045908183632735,
          0.17072521623419826,
          0.17152361942781105,
          0.17285429141716566,
          0.17298735861610112,
          0.17591483699268132,
          0.17897538256819695,
          0.18203592814371258,
          0.18216899534264805,
          0.18243512974051895,
          0.18349966733200265,
          0.18349966733200265,
          0.18416500332667998,
          0.1844311377245509,
          0.18496340652029275,
          0.18522954091816368,
          0.1854956753160346,
          0.18895542248835662,
          0.18908848968729208,
          0.19001996007984032,
          0.19055222887558218,
          0.19148369926813041,
          0.19148369926813041,
          0.19401197604790418,
          0.19401197604790418,
          0.19414504324683965,
          0.19441117764471058,
          0.19507651363938788,
          0.19520958083832335,
          0.19654025282767798,
          0.19933466400532268,
          0.2006653359946773,
          0.20079840319361278,
          0.2010645375914837,
          0.20345974717232201,
          0.20359281437125748,
          0.2045242847638057,
          0.20465735196274118,
          0.20585495675316035,
          0.20625415834996674,
          0.2063872255489022,
          0.2063872255489022,
          0.2066533599467731,
          0.20691949434464404,
          0.20825016633399868,
          0.21051230871590154,
          0.21064537591483698,
          0.21104457751164338,
          0.2119760479041916,
          0.21210911510312708,
          0.21224218230206254,
          0.21370592149035264,
          0.21397205588822354,
          0.21423819028609448,
          0.21503659347970724,
          0.21530272787757818,
          0.2179640718562874,
          0.2179640718562874,
          0.2222222222222222,
          0.22235528942115768,
          0.22288755821689954,
          0.22501663339986694,
          0.2254158349966733,
          0.22554890219560877,
          0.2286094477711244,
          0.23020625415834997,
          0.23033932135728544,
          0.23100465735196274,
          0.23140385894876914,
          0.23140385894876914,
          0.2318030605455755,
          0.23206919494344644,
          0.23353293413173654,
          0.233666001330672,
          0.23406520292747837,
          0.2343313373253493,
          0.23619427811044577,
          0.2364604125083167,
          0.23659347970725217,
          0.23699268130405854,
          0.23938789088489687,
          0.2403193612774451,
          0.24045242847638057,
          0.24125083166999334,
          0.24204923486360613,
          0.24298070525615437,
          0.24311377245508983,
          0.2449767132401863,
          0.24630738522954093,
          0.24644045242847637,
          0.24657351962741184,
          0.247771124417831,
          0.2481703260146374,
          0.2488356620093147,
          0.24910179640718563,
          0.25003326679973387,
          0.25136393878908847,
          0.2516300731869594,
          0.25176314038589487,
          0.25176314038589487,
          0.2592149035262808,
          0.25934797072521626,
          0.25961410512308714,
          0.25961410512308714,
          0.26320691949434466,
          0.26573519627411846,
          0.26600133067198933,
          0.26600133067198933,
          0.26640053226879573,
          0.2665335994677312,
          0.26706586826347306,
          0.267332002661344,
          0.2694610778443114,
          0.27025948103792413,
          0.2715901530272788,
          0.27172322022621426,
          0.2718562874251497,
          0.27225548902195607,
          0.2754491017964072,
          0.27837658017298733,
          0.2785096473719228,
          0.27864271457085826,
          0.27904191616766466,
          0.2817032601463739,
          0.2821024617431803,
          0.2822355289421158,
          0.2825016633399867,
          0.2838323353293413,
          0.2839654025282768,
          0.2842315369261477,
          0.2860944777112442,
          0.29221556886227545,
          0.2936793080505655,
          0.2942115768463074,
          0.2942115768463074,
          0.29474384564204925,
          0.2948769128409847,
          0.3019294743845642,
          0.3051230871590153,
          0.3056553559547572,
          0.3056553559547572,
          0.3057884231536926,
          0.3060545575515635,
          0.3064537591483699,
          0.3149700598802395,
          0.3163007318695941,
          0.3172322022621424,
          0.31736526946107785,
          0.31816367265469064,
          0.31816367265469064,
          0.31829673985362605,
          0.318562874251497,
          0.31869594145043245,
          0.31909514304723885,
          0.3193612774451098,
          0.3201596806387226,
          0.32335329341317365,
          0.3236194278110446,
          0.3244178310046574,
          0.3248170326014637,
          0.32588157019294745,
          0.32721224218230205,
          0.3273453093812375,
          0.32761144377910845,
          0.3308050565535596,
          0.33147039254823685,
          0.3345309381237525,
          0.33479707252162344,
          0.33506320691949437,
          0.3366600133067199,
          0.3367930805056554,
          0.3391882900864937,
          0.3397205588822355,
          0.3409181636726547,
          0.34118429807052564,
          0.3419827012641384,
          0.3419827012641384,
          0.3571523619427811,
          0.35728542914171657,
          0.36340652029274784,
          0.3635395874916833,
          0.36500332667997337,
          0.3652694610778443,
          0.3656686626746507,
          0.36593479707252163,
          0.3660678642714571,
          0.36766467065868264,
          0.3687292082501663,
          0.37019294743845643,
          0.3707252162341983,
          0.3763140385894877,
          0.3809713905522289,
          0.38296739853626083,
          0.3831004657351963,
          0.3840319361277445,
          0.38416500332667997,
          0.38429807052561543,
          0.3844311377245509,
          0.38669328010645376,
          0.3869594145043247,
          0.38815701929474383,
          0.38882235528942116,
          0.3978709248170326,
          0.3980039920159681,
          0.39840319361277443,
          0.40332667997338656,
          0.403459747172322,
          0.4045242847638057,
          0.4074517631403859,
          0.41104457751164336,
          0.41224218230206255,
          0.4125083166999335,
          0.41570192947438456,
          0.4198270126413839,
          0.4202262142381903,
          0.4206254158349967,
          0.42129075182967396,
          0.4214238190286094,
          0.4223552894211577,
          0.435395874916833,
          0.4355289421157685,
          0.4359281437125748,
          0.4360612109115103,
          0.4372588157019295,
          0.43872255489021955,
          0.4392548236859614,
          0.44258150365934795,
          0.4469727212242182,
          0.44723885562208915,
          0.4473719228210246,
          0.4479041916167665,
          0.44803725881570194,
          0.4564204923486361,
          0.4661343978709248,
          0.4679973386560213,
          0.4679973386560213,
          0.46852960745176314,
          0.4686626746506986,
          0.4701264138389887,
          0.47025948103792414,
          0.4715901530272788,
          0.4718562874251497,
          0.47784431137724553,
          0.48090485695276114,
          0.4810379241516966,
          0.48343313373253494,
          0.48383233532934133,
          0.48516300731869594,
          0.48542914171656687,
          0.4860944777112442,
          0.4863606121091151,
          0.4863606121091151,
          0.48729208250166334,
          0.4874251497005988,
          0.48755821689953427,
          0.48809048569527613,
          0.48835662009314706,
          0.48942115768463074,
          0.4895542248835662,
          0.48968729208250167,
          0.49008649367930807,
          0.49021956087824353,
          0.5080505655355955,
          0.5087159015302728,
          0.509913506320692,
          0.5100465735196275,
          0.5100465735196275,
          0.5165668662674651,
          0.5201596806387225,
          0.520292747837658,
          0.5274783765801729,
          0.5341317365269461,
          0.5350632069194944,
          0.5353293413173653,
          0.5357285429141716,
          0.5359946773120425,
          0.5362608117099135,
          0.5363938789088489,
          0.5367930805056553,
          0.53812375249501,
          0.5383898868928809,
          0.539853626081171,
          0.5411842980705256,
          0.5603459747172322,
          0.5612774451097804,
          0.5622089155023287,
          0.5627411842980705,
          0.5651363938789088,
          0.5651363938789088,
          0.5672654690618762,
          0.5676646706586826,
          0.573519627411843,
          0.5737857618097139,
          0.5933466400532269,
          0.596274118429807,
          0.6002661343978709,
          0.6003992015968064,
          0.6007984031936128,
          0.6009314703925482,
          0.6021290751829674,
          0.6025282767797738,
          0.6049234863606121,
          0.6062541583499668,
          0.669061876247505,
          0.6709248170326014,
          0.6721224218230206,
          0.6729208250166334,
          0.6738522954091817,
          0.6741184298070526,
          0.6745176314038589,
          0.6754491017964072,
          0.6755821689953426,
          0.6967398536260812,
          0.6970059880239521,
          0.704457751164338,
          0.7063206919494345,
          0.7145708582834331,
          0.7156353958749169,
          0.7160345974717233,
          0.7164337990685296,
          0.7174983366600133,
          0.7177644710578842,
          0.7198935462408517,
          0.7201596806387226,
          0.7218895542248835,
          0.7250831669993346,
          0.7252162341982701,
          0.7252162341982701,
          0.7294743845642049,
          0.7301397205588822,
          0.7313373253493014,
          0.7317365269461078,
          0.7482368596141051,
          0.7485029940119761,
          0.7531603459747173,
          0.7566200931470393,
          0.7622089155023287,
          0.7624750499001997,
          0.762608117099135,
          0.762608117099135,
          0.7631403858948769,
          0.7635395874916833,
          0.7636726546906187,
          0.7801729873586161,
          0.7805721889554225,
          0.7808383233532934,
          0.7812375249500998,
          0.7902860944777113,
          0.7914836992681304,
          0.8006653359946773,
          0.8174318030605455,
          0.8174318030605455,
          0.817564870259481,
          0.835395874916833,
          0.8363273453093812,
          0.8364604125083167,
          0.9067198935462408,
          0.9120425815036594,
          0.9184298070525615,
          0.9226879574184963,
          0.9232202262142382,
          0.9491683300066533,
          0.9498336660013307,
          0.9499667332002661,
          0.9507651363938789,
          0.9508982035928144,
          0.9591483699268131,
          0.9592814371257485,
          0.9878908848968729,
          1.0
         ],
         "xaxis": "x",
         "y": [
          0.0,
          0.002486016159105034,
          0.0037290242386575512,
          0.013673088875077687,
          0.014294592914853946,
          0.014916096954630205,
          0.026724673710379118,
          0.029210689869484153,
          0.02983219390926041,
          0.031075201988812928,
          0.032939714108141706,
          0.03418272218769422,
          0.044748290863890615,
          0.045369794903666875,
          0.049098819142324425,
          0.0509633312616532,
          0.057799875699192045,
          0.05904288377874456,
          0.05904288377874456,
          0.06401491609695463,
          0.06463642013673089,
          0.07271597265382225,
          0.07706650093225606,
          0.07768800497203232,
          0.07768800497203232,
          0.08017402113113735,
          0.08017402113113735,
          0.08079552517091361,
          0.08141702921068987,
          0.08141702921068987,
          0.09819763828464885,
          0.09881914232442511,
          0.09881914232442511,
          0.10068365444375388,
          0.10130515848353014,
          0.10130515848353014,
          0.1019266625233064,
          0.10379117464263518,
          0.10565568676196395,
          0.10689869484151647,
          0.10814170292106899,
          0.11187072715972654,
          0.11187072715972654,
          0.11311373523927906,
          0.11435674331883157,
          0.11622125543816035,
          0.11684275947793661,
          0.11684275947793661,
          0.11746426351771287,
          0.11746426351771287,
          0.11870727159726538,
          0.11870727159726538,
          0.1379738968303294,
          0.14356743318831572,
          0.14418893722809198,
          0.14418893722809198,
          0.14418893722809198,
          0.14418893722809198,
          0.14481044126786824,
          0.14481044126786824,
          0.14605344934742076,
          0.14605344934742076,
          0.14605344934742076,
          0.14667495338719702,
          0.14667495338719702,
          0.1497824735860783,
          0.1497824735860783,
          0.15040397762585456,
          0.15040397762585456,
          0.15226848974518334,
          0.15475450590428838,
          0.15661901802361716,
          0.15661901802361716,
          0.15724052206339342,
          0.16532007458048478,
          0.16532007458048478,
          0.1665630826600373,
          0.16842759477936606,
          0.16842759477936606,
          0.16842759477936606,
          0.17153511497824736,
          0.17277812305779988,
          0.17277812305779988,
          0.1740211311373524,
          0.17775015537600994,
          0.17775015537600994,
          0.17775015537600994,
          0.17961466749533872,
          0.18023617153511498,
          0.18023617153511498,
          0.18085767557489124,
          0.18210068365444376,
          0.18272218769422002,
          0.18458669981354878,
          0.18769422001243008,
          0.18831572405220634,
          0.18831572405220634,
          0.19825978868862648,
          0.199502796768179,
          0.199502796768179,
          0.20136730888750776,
          0.20136730888750776,
          0.20198881292728402,
          0.2038533250466128,
          0.2038533250466128,
          0.20509633312616532,
          0.20571783716594158,
          0.20758234928527036,
          0.20820385332504662,
          0.20944686140459912,
          0.21068986948415164,
          0.21255438160348042,
          0.21255438160348042,
          0.21379738968303294,
          0.2175264139216905,
          0.21814791796146674,
          0.218769422001243,
          0.22125543816034804,
          0.22249844623990056,
          0.22311995027967682,
          0.22622747047855812,
          0.22622747047855812,
          0.22622747047855812,
          0.22684897451833436,
          0.22684897451833436,
          0.22684897451833436,
          0.22684897451833436,
          0.22684897451833436,
          0.22747047855811062,
          0.22747047855811062,
          0.22809198259788688,
          0.22871348663766314,
          0.23119950279676818,
          0.23119950279676818,
          0.23430702299564948,
          0.23492852703542574,
          0.23555003107520198,
          0.23555003107520198,
          0.24238657551274084,
          0.2430080795525171,
          0.24487259167184586,
          0.25108763206960844,
          0.25295214418893724,
          0.25295214418893724,
          0.2535736482287135,
          0.2535736482287135,
          0.2535736482287135,
          0.2597886886264761,
          0.2604101926662523,
          0.2610316967060286,
          0.2610316967060286,
          0.26476072094468617,
          0.26476072094468617,
          0.26600372902423863,
          0.26600372902423863,
          0.26600372902423863,
          0.2666252330640149,
          0.27346177750155376,
          0.27346177750155376,
          0.27346177750155376,
          0.27346177750155376,
          0.2747047855811063,
          0.2747047855811063,
          0.2753262896208825,
          0.27656929770043504,
          0.27843380981976384,
          0.2809198259788689,
          0.28216283405842135,
          0.28402734617775016,
          0.2852703542573027,
          0.2858918582970789,
          0.28713486637663144,
          0.2877563704164077,
          0.28837787445618396,
          0.28837787445618396,
          0.28899937849596025,
          0.28899937849596025,
          0.2896208825357365,
          0.2896208825357365,
          0.290863890615289,
          0.29148539465506523,
          0.29459291485394656,
          0.2964574269732753,
          0.2964574269732753,
          0.2970789310130516,
          0.2970789310130516,
          0.2983219390926041,
          0.3001864512119329,
          0.3008079552517091,
          0.30205096333126163,
          0.3045369794903667,
          0.30515848353014297,
          0.3113735239279055,
          0.3119950279676818,
          0.3119950279676818,
          0.31261653200745804,
          0.31572405220633937,
          0.31572405220633937,
          0.31572405220633937,
          0.3238036047234307,
          0.3238036047234307,
          0.3238036047234307,
          0.32442510876320696,
          0.32442510876320696,
          0.3256681168427595,
          0.326911124922312,
          0.32939714108141704,
          0.32939714108141704,
          0.32939714108141704,
          0.3300186451211933,
          0.3325046612802983,
          0.33374766935985084,
          0.33374766935985084,
          0.3374766935985084,
          0.3387197016780609,
          0.3387197016780609,
          0.3387197016780609,
          0.33934120571783716,
          0.33996270975761345,
          0.3405842137973897,
          0.34120571783716597,
          0.3418272218769422,
          0.3418272218769422,
          0.34244872591671843,
          0.34244872591671843,
          0.3430702299564947,
          0.3430702299564947,
          0.34431323803604724,
          0.35301429459291483,
          0.35301429459291483,
          0.35301429459291483,
          0.3536357986326911,
          0.3536357986326911,
          0.3536357986326911,
          0.35425730267246736,
          0.35487880671224364,
          0.3567433188315724,
          0.3567433188315724,
          0.3579863269111249,
          0.3586078309509012,
          0.3586078309509012,
          0.3586078309509012,
          0.3685518955873213,
          0.36917339962709755,
          0.36979490366687384,
          0.3704164077066501,
          0.3729024238657551,
          0.37414543194530764,
          0.3772529521441889,
          0.3778744561839652,
          0.37849596022374143,
          0.3828464885021753,
          0.3834679925419515,
          0.3834679925419515,
          0.3840894965817278,
          0.3840894965817278,
          0.3853325046612803,
          0.3853325046612803,
          0.3865755127408328,
          0.3865755127408328,
          0.38906152889993784,
          0.38906152889993784,
          0.38906152889993784,
          0.3915475450590429,
          0.3915475450590429,
          0.39341205717837163,
          0.3940335612181479,
          0.3940335612181479,
          0.39465506525792415,
          0.39527656929770044,
          0.3971410814170292,
          0.3971410814170292,
          0.399005593536358,
          0.399005593536358,
          0.41143567433188316,
          0.4120571783716594,
          0.4139216904909882,
          0.41454319453076444,
          0.41889372280919823,
          0.41889372280919823,
          0.41889372280919823,
          0.4282162834058421,
          0.4282162834058421,
          0.4282162834058421,
          0.42945929148539463,
          0.4300807955251709,
          0.4300807955251709,
          0.43132380360472344,
          0.43132380360472344,
          0.43132380360472344,
          0.43256681168427596,
          0.43256681168427596,
          0.43256681168427596,
          0.4394033561218148,
          0.4394033561218148,
          0.44126786824114356,
          0.44188937228091985,
          0.44188937228091985,
          0.4443753884400249,
          0.4512119328775637,
          0.454319453076445,
          0.45494095711622123,
          0.45494095711622123,
          0.45494095711622123,
          0.4555624611559975,
          0.4574269732753263,
          0.4586699813548788,
          0.4599129894344313,
          0.4599129894344313,
          0.4605344934742076,
          0.4642635177128651,
          0.4642635177128651,
          0.46550652579241764,
          0.46550652579241764,
          0.4661280298321939,
          0.46674953387197016,
          0.47110006215040395,
          0.47172156619018024,
          0.47172156619018024,
          0.47172156619018024,
          0.4723430702299565,
          0.4723430702299565,
          0.4742075823492853,
          0.47731510254816656,
          0.47793660658794285,
          0.47793660658794285,
          0.4785581106277191,
          0.48042262274704783,
          0.48042262274704783,
          0.48042262274704783,
          0.48166563082660035,
          0.4829086389061529,
          0.48353014294592916,
          0.48353014294592916,
          0.4841516469857054,
          0.4847731510254817,
          0.4847731510254817,
          0.4853946550652579,
          0.4872591671845867,
          0.4872591671845867,
          0.4872591671845867,
          0.48788067122436296,
          0.4885021752641392,
          0.4885021752641392,
          0.4897451833436917,
          0.49098819142324424,
          0.49098819142324424,
          0.49098819142324424,
          0.49098819142324424,
          0.49409571162212557,
          0.4947172156619018,
          0.49844623990055936,
          0.49844623990055936,
          0.49844623990055936,
          0.5009322560596644,
          0.5015537600994406,
          0.5015537600994406,
          0.5034182722187694,
          0.5065257924176507,
          0.5065257924176507,
          0.5083903045369795,
          0.5083903045369795,
          0.5090118085767558,
          0.509633312616532,
          0.5102548166563082,
          0.5114978247358608,
          0.5114978247358608,
          0.5114978247358608,
          0.5114978247358608,
          0.5139838408949658,
          0.5139838408949658,
          0.5139838408949658,
          0.5152268489745183,
          0.5189558732131759,
          0.5195773772529522,
          0.5195773772529522,
          0.5208203853325046,
          0.5208203853325046,
          0.5226848974518334,
          0.5226848974518334,
          0.5251709136109385,
          0.526413921690491,
          0.5270354257302673,
          0.5270354257302673,
          0.5301429459291486,
          0.5301429459291486,
          0.5320074580484773,
          0.5320074580484773,
          0.5326289620882536,
          0.5357364822871349,
          0.5357364822871349,
          0.5357364822871349,
          0.5363579863269111,
          0.5425730267246737,
          0.5425730267246737,
          0.54319453076445,
          0.5438160348042262,
          0.5518955873213176,
          0.5556246115599751,
          0.5556246115599751,
          0.5562461155997513,
          0.5562461155997513,
          0.5562461155997513,
          0.5568676196395277,
          0.5574891236793039,
          0.5587321317588564,
          0.559975139838409,
          0.5630826600372902,
          0.5630826600372902,
          0.5637041640770665,
          0.5637041640770665,
          0.5661901802361715,
          0.5686761963952766,
          0.5686761963952766,
          0.5692977004350528,
          0.5692977004350528,
          0.5730267246737104,
          0.5730267246737104,
          0.5736482287134866,
          0.5736482287134866,
          0.5748912367930391,
          0.5748912367930391,
          0.5761342448725917,
          0.5804847731510255,
          0.5922933499067744,
          0.5929148539465506,
          0.5929148539465506,
          0.5935363579863269,
          0.5941578620261032,
          0.5941578620261032,
          0.598508390304537,
          0.603480422622747,
          0.603480422622747,
          0.6041019266625233,
          0.6041019266625233,
          0.6041019266625233,
          0.6041019266625233,
          0.6090739589807334,
          0.612802983219391,
          0.612802983219391,
          0.612802983219391,
          0.6140459912989434,
          0.615288999378496,
          0.6165320074580485,
          0.6165320074580485,
          0.6165320074580485,
          0.6165320074580485,
          0.6165320074580485,
          0.6183965195773773,
          0.6233685518955874,
          0.6233685518955874,
          0.6239900559353636,
          0.6239900559353636,
          0.6252330640149161,
          0.6283405842137973,
          0.6283405842137973,
          0.6283405842137973,
          0.6295835922933499,
          0.6295835922933499,
          0.6364201367308887,
          0.6364201367308887,
          0.6364201367308887,
          0.637041640770665,
          0.637041640770665,
          0.6389061528899938,
          0.6401491609695463,
          0.6413921690490988,
          0.6413921690490988,
          0.6413921690490988,
          0.642013673088875,
          0.6507147296457427,
          0.651336233685519,
          0.6581727781230577,
          0.6581727781230577,
          0.6600372902423866,
          0.6600372902423866,
          0.6600372902423866,
          0.6600372902423866,
          0.6606587942821628,
          0.6612802983219391,
          0.6619018023617154,
          0.6619018023617154,
          0.6619018023617154,
          0.6662523306401492,
          0.6724673710379118,
          0.6743318831572406,
          0.6743318831572406,
          0.6761963952765693,
          0.6761963952765693,
          0.6768178993163455,
          0.6768178993163455,
          0.6774394033561218,
          0.6774394033561218,
          0.6774394033561218,
          0.6774394033561218,
          0.6848974518334369,
          0.6848974518334369,
          0.6861404599129894,
          0.6942200124300808,
          0.6942200124300808,
          0.6954630205096333,
          0.6979490366687383,
          0.7004350528278434,
          0.7022995649471722,
          0.7022995649471722,
          0.7054070851460534,
          0.7072715972653822,
          0.7072715972653822,
          0.7085146053449347,
          0.7085146053449347,
          0.7085146053449347,
          0.709136109384711,
          0.7178371659415786,
          0.7184586699813549,
          0.7190801740211311,
          0.7190801740211311,
          0.7197016780609073,
          0.7228091982597887,
          0.7228091982597887,
          0.7265382224984462,
          0.7302672467371037,
          0.7302672467371037,
          0.7302672467371037,
          0.7302672467371037,
          0.7302672467371037,
          0.7333747669359851,
          0.7439403356121814,
          0.7458048477315102,
          0.7464263517712865,
          0.7464263517712865,
          0.7464263517712865,
          0.7482908638906153,
          0.7489123679303915,
          0.7495338719701679,
          0.7495338719701679,
          0.7538844002486016,
          0.7563704164077066,
          0.7563704164077066,
          0.7588564325668117,
          0.7594779366065879,
          0.7594779366065879,
          0.7594779366065879,
          0.7607209446861405,
          0.7607209446861405,
          0.7613424487259167,
          0.761963952765693,
          0.761963952765693,
          0.7625854568054692,
          0.7625854568054692,
          0.7625854568054692,
          0.764449968924798,
          0.764449968924798,
          0.7656929770043506,
          0.7656929770043506,
          0.766935985083903,
          0.7855811062771908,
          0.7855811062771908,
          0.7874456183965196,
          0.7874456183965196,
          0.7880671224362958,
          0.7886886264760721,
          0.7886886264760721,
          0.7886886264760721,
          0.7917961466749533,
          0.795525170913611,
          0.7973896830329397,
          0.7973896830329397,
          0.7986326911124922,
          0.7986326911124922,
          0.7986326911124922,
          0.7986326911124922,
          0.7986326911124922,
          0.7998756991920447,
          0.7998756991920447,
          0.8017402113113735,
          0.8029832193909261,
          0.8098197638284649,
          0.8110627719080175,
          0.8110627719080175,
          0.8110627719080175,
          0.8116842759477937,
          0.8123057799875699,
          0.8129272840273462,
          0.8129272840273462,
          0.8178993163455562,
          0.8178993163455562,
          0.8353014294592915,
          0.836544437538844,
          0.8408949658172779,
          0.8408949658172779,
          0.8408949658172779,
          0.8408949658172779,
          0.8415164698570541,
          0.8421379738968303,
          0.8433809819763829,
          0.8433809819763829,
          0.8713486637663145,
          0.8713486637663145,
          0.8713486637663145,
          0.8713486637663145,
          0.8713486637663145,
          0.8713486637663145,
          0.8713486637663145,
          0.8719701678060907,
          0.8719701678060907,
          0.8800497203231821,
          0.8800497203231821,
          0.8856432566811684,
          0.8862647607209447,
          0.8899937849596022,
          0.8899937849596022,
          0.8906152889993785,
          0.8906152889993785,
          0.8906152889993785,
          0.8906152889993785,
          0.891858297078931,
          0.891858297078931,
          0.891858297078931,
          0.8937228091982597,
          0.8943443132380361,
          0.8949658172778123,
          0.8974518334369174,
          0.8980733374766936,
          0.8980733374766936,
          0.8980733374766936,
          0.911124922311995,
          0.9117464263517713,
          0.9167184586699814,
          0.9185829707893102,
          0.9204474829086389,
          0.9204474829086389,
          0.9204474829086389,
          0.9210689869484152,
          0.9223119950279677,
          0.9223119950279677,
          0.9229334990677439,
          0.927905531385954,
          0.927905531385954,
          0.9285270354257302,
          0.9285270354257302,
          0.9341205717837165,
          0.9347420758234929,
          0.9378495960223742,
          0.9459291485394655,
          0.9465506525792418,
          0.9465506525792418,
          0.9509011808576756,
          0.9509011808576756,
          0.9509011808576756,
          0.9707893101305158,
          0.9714108141702921,
          0.9732753262896209,
          0.9763828464885022,
          0.9763828464885022,
          0.9850839030453697,
          0.9857054070851461,
          0.9857054070851461,
          0.9857054070851461,
          0.9857054070851461,
          0.9881914232442511,
          0.9881914232442511,
          0.9912989434431324,
          1.0
         ],
         "yaxis": "y",
         "type": "scatter"
        }
       ],
       "layout": {
        "template": {
         "data": {
          "histogram2dcontour": [
           {
            "type": "histogram2dcontour",
            "colorbar": {
             "outlinewidth": 0,
             "ticks": ""
            },
            "colorscale": [
             [
              0.0,
              "#0d0887"
             ],
             [
              0.1111111111111111,
              "#46039f"
             ],
             [
              0.2222222222222222,
              "#7201a8"
             ],
             [
              0.3333333333333333,
              "#9c179e"
             ],
             [
              0.4444444444444444,
              "#bd3786"
             ],
             [
              0.5555555555555556,
              "#d8576b"
             ],
             [
              0.6666666666666666,
              "#ed7953"
             ],
             [
              0.7777777777777778,
              "#fb9f3a"
             ],
             [
              0.8888888888888888,
              "#fdca26"
             ],
             [
              1.0,
              "#f0f921"
             ]
            ]
           }
          ],
          "choropleth": [
           {
            "type": "choropleth",
            "colorbar": {
             "outlinewidth": 0,
             "ticks": ""
            }
           }
          ],
          "histogram2d": [
           {
            "type": "histogram2d",
            "colorbar": {
             "outlinewidth": 0,
             "ticks": ""
            },
            "colorscale": [
             [
              0.0,
              "#0d0887"
             ],
             [
              0.1111111111111111,
              "#46039f"
             ],
             [
              0.2222222222222222,
              "#7201a8"
             ],
             [
              0.3333333333333333,
              "#9c179e"
             ],
             [
              0.4444444444444444,
              "#bd3786"
             ],
             [
              0.5555555555555556,
              "#d8576b"
             ],
             [
              0.6666666666666666,
              "#ed7953"
             ],
             [
              0.7777777777777778,
              "#fb9f3a"
             ],
             [
              0.8888888888888888,
              "#fdca26"
             ],
             [
              1.0,
              "#f0f921"
             ]
            ]
           }
          ],
          "heatmap": [
           {
            "type": "heatmap",
            "colorbar": {
             "outlinewidth": 0,
             "ticks": ""
            },
            "colorscale": [
             [
              0.0,
              "#0d0887"
             ],
             [
              0.1111111111111111,
              "#46039f"
             ],
             [
              0.2222222222222222,
              "#7201a8"
             ],
             [
              0.3333333333333333,
              "#9c179e"
             ],
             [
              0.4444444444444444,
              "#bd3786"
             ],
             [
              0.5555555555555556,
              "#d8576b"
             ],
             [
              0.6666666666666666,
              "#ed7953"
             ],
             [
              0.7777777777777778,
              "#fb9f3a"
             ],
             [
              0.8888888888888888,
              "#fdca26"
             ],
             [
              1.0,
              "#f0f921"
             ]
            ]
           }
          ],
          "heatmapgl": [
           {
            "type": "heatmapgl",
            "colorbar": {
             "outlinewidth": 0,
             "ticks": ""
            },
            "colorscale": [
             [
              0.0,
              "#0d0887"
             ],
             [
              0.1111111111111111,
              "#46039f"
             ],
             [
              0.2222222222222222,
              "#7201a8"
             ],
             [
              0.3333333333333333,
              "#9c179e"
             ],
             [
              0.4444444444444444,
              "#bd3786"
             ],
             [
              0.5555555555555556,
              "#d8576b"
             ],
             [
              0.6666666666666666,
              "#ed7953"
             ],
             [
              0.7777777777777778,
              "#fb9f3a"
             ],
             [
              0.8888888888888888,
              "#fdca26"
             ],
             [
              1.0,
              "#f0f921"
             ]
            ]
           }
          ],
          "contourcarpet": [
           {
            "type": "contourcarpet",
            "colorbar": {
             "outlinewidth": 0,
             "ticks": ""
            }
           }
          ],
          "contour": [
           {
            "type": "contour",
            "colorbar": {
             "outlinewidth": 0,
             "ticks": ""
            },
            "colorscale": [
             [
              0.0,
              "#0d0887"
             ],
             [
              0.1111111111111111,
              "#46039f"
             ],
             [
              0.2222222222222222,
              "#7201a8"
             ],
             [
              0.3333333333333333,
              "#9c179e"
             ],
             [
              0.4444444444444444,
              "#bd3786"
             ],
             [
              0.5555555555555556,
              "#d8576b"
             ],
             [
              0.6666666666666666,
              "#ed7953"
             ],
             [
              0.7777777777777778,
              "#fb9f3a"
             ],
             [
              0.8888888888888888,
              "#fdca26"
             ],
             [
              1.0,
              "#f0f921"
             ]
            ]
           }
          ],
          "surface": [
           {
            "type": "surface",
            "colorbar": {
             "outlinewidth": 0,
             "ticks": ""
            },
            "colorscale": [
             [
              0.0,
              "#0d0887"
             ],
             [
              0.1111111111111111,
              "#46039f"
             ],
             [
              0.2222222222222222,
              "#7201a8"
             ],
             [
              0.3333333333333333,
              "#9c179e"
             ],
             [
              0.4444444444444444,
              "#bd3786"
             ],
             [
              0.5555555555555556,
              "#d8576b"
             ],
             [
              0.6666666666666666,
              "#ed7953"
             ],
             [
              0.7777777777777778,
              "#fb9f3a"
             ],
             [
              0.8888888888888888,
              "#fdca26"
             ],
             [
              1.0,
              "#f0f921"
             ]
            ]
           }
          ],
          "mesh3d": [
           {
            "type": "mesh3d",
            "colorbar": {
             "outlinewidth": 0,
             "ticks": ""
            }
           }
          ],
          "scatter": [
           {
            "fillpattern": {
             "fillmode": "overlay",
             "size": 10,
             "solidity": 0.2
            },
            "type": "scatter"
           }
          ],
          "parcoords": [
           {
            "type": "parcoords",
            "line": {
             "colorbar": {
              "outlinewidth": 0,
              "ticks": ""
             }
            }
           }
          ],
          "scatterpolargl": [
           {
            "type": "scatterpolargl",
            "marker": {
             "colorbar": {
              "outlinewidth": 0,
              "ticks": ""
             }
            }
           }
          ],
          "bar": [
           {
            "error_x": {
             "color": "#2a3f5f"
            },
            "error_y": {
             "color": "#2a3f5f"
            },
            "marker": {
             "line": {
              "color": "#E5ECF6",
              "width": 0.5
             },
             "pattern": {
              "fillmode": "overlay",
              "size": 10,
              "solidity": 0.2
             }
            },
            "type": "bar"
           }
          ],
          "scattergeo": [
           {
            "type": "scattergeo",
            "marker": {
             "colorbar": {
              "outlinewidth": 0,
              "ticks": ""
             }
            }
           }
          ],
          "scatterpolar": [
           {
            "type": "scatterpolar",
            "marker": {
             "colorbar": {
              "outlinewidth": 0,
              "ticks": ""
             }
            }
           }
          ],
          "histogram": [
           {
            "marker": {
             "pattern": {
              "fillmode": "overlay",
              "size": 10,
              "solidity": 0.2
             }
            },
            "type": "histogram"
           }
          ],
          "scattergl": [
           {
            "type": "scattergl",
            "marker": {
             "colorbar": {
              "outlinewidth": 0,
              "ticks": ""
             }
            }
           }
          ],
          "scatter3d": [
           {
            "type": "scatter3d",
            "line": {
             "colorbar": {
              "outlinewidth": 0,
              "ticks": ""
             }
            },
            "marker": {
             "colorbar": {
              "outlinewidth": 0,
              "ticks": ""
             }
            }
           }
          ],
          "scattermapbox": [
           {
            "type": "scattermapbox",
            "marker": {
             "colorbar": {
              "outlinewidth": 0,
              "ticks": ""
             }
            }
           }
          ],
          "scatterternary": [
           {
            "type": "scatterternary",
            "marker": {
             "colorbar": {
              "outlinewidth": 0,
              "ticks": ""
             }
            }
           }
          ],
          "scattercarpet": [
           {
            "type": "scattercarpet",
            "marker": {
             "colorbar": {
              "outlinewidth": 0,
              "ticks": ""
             }
            }
           }
          ],
          "carpet": [
           {
            "aaxis": {
             "endlinecolor": "#2a3f5f",
             "gridcolor": "white",
             "linecolor": "white",
             "minorgridcolor": "white",
             "startlinecolor": "#2a3f5f"
            },
            "baxis": {
             "endlinecolor": "#2a3f5f",
             "gridcolor": "white",
             "linecolor": "white",
             "minorgridcolor": "white",
             "startlinecolor": "#2a3f5f"
            },
            "type": "carpet"
           }
          ],
          "table": [
           {
            "cells": {
             "fill": {
              "color": "#EBF0F8"
             },
             "line": {
              "color": "white"
             }
            },
            "header": {
             "fill": {
              "color": "#C8D4E3"
             },
             "line": {
              "color": "white"
             }
            },
            "type": "table"
           }
          ],
          "barpolar": [
           {
            "marker": {
             "line": {
              "color": "#E5ECF6",
              "width": 0.5
             },
             "pattern": {
              "fillmode": "overlay",
              "size": 10,
              "solidity": 0.2
             }
            },
            "type": "barpolar"
           }
          ],
          "pie": [
           {
            "automargin": true,
            "type": "pie"
           }
          ]
         },
         "layout": {
          "autotypenumbers": "strict",
          "colorway": [
           "#636efa",
           "#EF553B",
           "#00cc96",
           "#ab63fa",
           "#FFA15A",
           "#19d3f3",
           "#FF6692",
           "#B6E880",
           "#FF97FF",
           "#FECB52"
          ],
          "font": {
           "color": "#2a3f5f"
          },
          "hovermode": "closest",
          "hoverlabel": {
           "align": "left"
          },
          "paper_bgcolor": "white",
          "plot_bgcolor": "#E5ECF6",
          "polar": {
           "bgcolor": "#E5ECF6",
           "angularaxis": {
            "gridcolor": "white",
            "linecolor": "white",
            "ticks": ""
           },
           "radialaxis": {
            "gridcolor": "white",
            "linecolor": "white",
            "ticks": ""
           }
          },
          "ternary": {
           "bgcolor": "#E5ECF6",
           "aaxis": {
            "gridcolor": "white",
            "linecolor": "white",
            "ticks": ""
           },
           "baxis": {
            "gridcolor": "white",
            "linecolor": "white",
            "ticks": ""
           },
           "caxis": {
            "gridcolor": "white",
            "linecolor": "white",
            "ticks": ""
           }
          },
          "coloraxis": {
           "colorbar": {
            "outlinewidth": 0,
            "ticks": ""
           }
          },
          "colorscale": {
           "sequential": [
            [
             0.0,
             "#0d0887"
            ],
            [
             0.1111111111111111,
             "#46039f"
            ],
            [
             0.2222222222222222,
             "#7201a8"
            ],
            [
             0.3333333333333333,
             "#9c179e"
            ],
            [
             0.4444444444444444,
             "#bd3786"
            ],
            [
             0.5555555555555556,
             "#d8576b"
            ],
            [
             0.6666666666666666,
             "#ed7953"
            ],
            [
             0.7777777777777778,
             "#fb9f3a"
            ],
            [
             0.8888888888888888,
             "#fdca26"
            ],
            [
             1.0,
             "#f0f921"
            ]
           ],
           "sequentialminus": [
            [
             0.0,
             "#0d0887"
            ],
            [
             0.1111111111111111,
             "#46039f"
            ],
            [
             0.2222222222222222,
             "#7201a8"
            ],
            [
             0.3333333333333333,
             "#9c179e"
            ],
            [
             0.4444444444444444,
             "#bd3786"
            ],
            [
             0.5555555555555556,
             "#d8576b"
            ],
            [
             0.6666666666666666,
             "#ed7953"
            ],
            [
             0.7777777777777778,
             "#fb9f3a"
            ],
            [
             0.8888888888888888,
             "#fdca26"
            ],
            [
             1.0,
             "#f0f921"
            ]
           ],
           "diverging": [
            [
             0,
             "#8e0152"
            ],
            [
             0.1,
             "#c51b7d"
            ],
            [
             0.2,
             "#de77ae"
            ],
            [
             0.3,
             "#f1b6da"
            ],
            [
             0.4,
             "#fde0ef"
            ],
            [
             0.5,
             "#f7f7f7"
            ],
            [
             0.6,
             "#e6f5d0"
            ],
            [
             0.7,
             "#b8e186"
            ],
            [
             0.8,
             "#7fbc41"
            ],
            [
             0.9,
             "#4d9221"
            ],
            [
             1,
             "#276419"
            ]
           ]
          },
          "xaxis": {
           "gridcolor": "white",
           "linecolor": "white",
           "ticks": "",
           "title": {
            "standoff": 15
           },
           "zerolinecolor": "white",
           "automargin": true,
           "zerolinewidth": 2
          },
          "yaxis": {
           "gridcolor": "white",
           "linecolor": "white",
           "ticks": "",
           "title": {
            "standoff": 15
           },
           "zerolinecolor": "white",
           "automargin": true,
           "zerolinewidth": 2
          },
          "scene": {
           "xaxis": {
            "backgroundcolor": "#E5ECF6",
            "gridcolor": "white",
            "linecolor": "white",
            "showbackground": true,
            "ticks": "",
            "zerolinecolor": "white",
            "gridwidth": 2
           },
           "yaxis": {
            "backgroundcolor": "#E5ECF6",
            "gridcolor": "white",
            "linecolor": "white",
            "showbackground": true,
            "ticks": "",
            "zerolinecolor": "white",
            "gridwidth": 2
           },
           "zaxis": {
            "backgroundcolor": "#E5ECF6",
            "gridcolor": "white",
            "linecolor": "white",
            "showbackground": true,
            "ticks": "",
            "zerolinecolor": "white",
            "gridwidth": 2
           }
          },
          "shapedefaults": {
           "line": {
            "color": "#2a3f5f"
           }
          },
          "annotationdefaults": {
           "arrowcolor": "#2a3f5f",
           "arrowhead": 0,
           "arrowwidth": 1
          },
          "geo": {
           "bgcolor": "white",
           "landcolor": "#E5ECF6",
           "subunitcolor": "white",
           "showland": true,
           "showlakes": true,
           "lakecolor": "white"
          },
          "title": {
           "x": 0.05
          },
          "mapbox": {
           "style": "light"
          }
         }
        },
        "xaxis": {
         "anchor": "y",
         "domain": [
          0.0,
          1.0
         ],
         "title": {
          "text": "FPR"
         }
        },
        "yaxis": {
         "anchor": "x",
         "domain": [
          0.0,
          1.0
         ],
         "title": {
          "text": "TPR"
         }
        },
        "legend": {
         "title": {
          "text": "country"
         },
         "tracegroupgap": 0
        },
        "title": {
         "text": "ROC Curve ISRAEL"
        }
       },
       "config": {
        "plotlyServerURL": "https://plot.ly"
       }
      },
      "text/html": "<div>                            <div id=\"226d860b-b306-4210-b374-c930b4ec38b4\" class=\"plotly-graph-div\" style=\"height:525px; width:100%;\"></div>            <script type=\"text/javascript\">                require([\"plotly\"], function(Plotly) {                    window.PLOTLYENV=window.PLOTLYENV || {};                                    if (document.getElementById(\"226d860b-b306-4210-b374-c930b4ec38b4\")) {                    Plotly.newPlot(                        \"226d860b-b306-4210-b374-c930b4ec38b4\",                        [{\"customdata\":[[null],[0.6034677028656006],[0.5844514966011047],[0.5608874559402466],[0.5501880049705505],[0.5499866008758545],[0.5427360534667969],[0.5413810610771179],[0.523108959197998],[0.5156747102737427],[0.5123304724693298],[0.511138379573822],[0.5065645575523376],[0.5063611268997192],[0.5030566453933716],[0.500119686126709],[0.49732938408851624],[0.4959647059440613],[0.4892878234386444],[0.4882166087627411],[0.4868527948856354],[0.483347624540329],[0.48177725076675415],[0.4804145097732544],[0.47762906551361084],[0.4762471616268158],[0.46212664246559143],[0.457807332277298],[0.4576471447944641],[0.4531436562538147],[0.4518846273422241],[0.4514153301715851],[0.4486527740955353],[0.4486125707626343],[0.4484112560749054],[0.44695115089416504],[0.4458819031715393],[0.44570839405059814],[0.44550731778144836],[0.44224417209625244],[0.44090715050697327],[0.4381486475467682],[0.43682539463043213],[0.4366009533405304],[0.4351332187652588],[0.4319399297237396],[0.4291943907737732],[0.42787760496139526],[0.4278261363506317],[0.4276542663574219],[0.4263187348842621],[0.42335280776023865],[0.42289918661117554],[0.42156749963760376],[0.4188196063041687],[0.4186215400695801],[0.4173092246055603],[0.41692444682121277],[0.4140269458293915],[0.4127032458782196],[0.41230443120002747],[0.4112442433834076],[0.40864089131355286],[0.4068509042263031],[0.4039250612258911],[0.40377897024154663],[0.3997560739517212],[0.3983966112136841],[0.39822831749916077],[0.3979284167289734],[0.39517831802368164],[0.3940385580062866],[0.39343076944351196],[0.3925413191318512],[0.39237385988235474],[0.3917897641658783],[0.38926541805267334],[0.3892267048358917],[0.3890332877635956],[0.38774529099464417],[0.3846118152141571],[0.3839605748653412],[0.38267025351524353],[0.37919533252716064],[0.37912604212760925],[0.3760194480419159],[0.37508103251457214],[0.37444427609443665],[0.3732670545578003],[0.373166561126709],[0.3708149194717407],[0.37065112590789795],[0.37015002965927124],[0.366574764251709],[0.36612436175346375],[0.36548590660095215],[0.36509671807289124],[0.36466601490974426],[0.36340227723121643],[0.363284170627594],[0.36063268780708313],[0.3599177300930023],[0.3577049672603607],[0.356261283159256],[0.3555339276790619],[0.35501039028167725],[0.35479438304901123],[0.3546336591243744],[0.3532062768936157],[0.35101011395454407],[0.3480047285556793],[0.3470783233642578],[0.3470470607280731],[0.3467348515987396],[0.3465974032878876],[0.3464817702770233],[0.34265610575675964],[0.3419429659843445],[0.33872371912002563],[0.3386804461479187],[0.33852317929267883],[0.3379746675491333],[0.33750206232070923],[0.3370220363140106],[0.3368866443634033],[0.33418047428131104],[0.33256223797798157],[0.3319076895713806],[0.3315715789794922],[0.33060574531555176],[0.3294292986392975],[0.3287908136844635],[0.3286483883857727],[0.3270827829837799],[0.32611772418022156],[0.3250700831413269],[0.3249371349811554],[0.3248097598552704],[0.32354119420051575],[0.32129043340682983],[0.32065483927726746],[0.32062697410583496],[0.3197338283061981],[0.3177543878555298],[0.31751489639282227],[0.3168655037879944],[0.3162996172904968],[0.31583666801452637],[0.3146583139896393],[0.3144521117210388],[0.3119502067565918],[0.31148940324783325],[0.3096672296524048],[0.30404216051101685],[0.30372437834739685],[0.3032701313495636],[0.3023053705692291],[0.30182594060897827],[0.30090928077697754],[0.3006768822669983],[0.30004677176475525],[0.3000331521034241],[0.2994977533817291],[0.299175888299942],[0.29914698004722595],[0.29904863238334656],[0.2986968755722046],[0.2985699474811554],[0.29700854420661926],[0.29682275652885437],[0.296382874250412],[0.2949836254119873],[0.2941988706588745],[0.29393717646598816],[0.2934041917324066],[0.29306668043136597],[0.2917727828025818],[0.2906460464000702],[0.29007863998413086],[0.28926974534988403],[0.2885720133781433],[0.2879880368709564],[0.2876175045967102],[0.2865334749221802],[0.28609588742256165],[0.285839706659317],[0.285695344209671],[0.28547191619873047],[0.28518447279930115],[0.28434330224990845],[0.2824974060058594],[0.282190203666687],[0.28191429376602173],[0.28081056475639343],[0.2757483124732971],[0.2754131853580475],[0.27486398816108704],[0.27459248900413513],[0.2735064923763275],[0.27221179008483887],[0.269831120967865],[0.2693833112716675],[0.2667904496192932],[0.2664417326450348],[0.26622772216796875],[0.2652233839035034],[0.26483380794525146],[0.2647140324115753],[0.26202693581581116],[0.26097017526626587],[0.26075729727745056],[0.260008305311203],[0.25916630029678345],[0.25901538133621216],[0.2579960525035858],[0.2578800618648529],[0.2564863860607147],[0.2552071213722229],[0.2551339268684387],[0.2541472315788269],[0.2536221742630005],[0.25345370173454285],[0.25324395298957825],[0.25276848673820496],[0.25096431374549866],[0.25084298849105835],[0.24808050692081451],[0.2472982555627823],[0.24650095403194427],[0.24617892503738403],[0.246049702167511],[0.24512457847595215],[0.24408386647701263],[0.24405387043952942],[0.24398478865623474],[0.2428789585828781],[0.24281641840934753],[0.24276751279830933],[0.24189156293869019],[0.24173840880393982],[0.24123457074165344],[0.24081546068191528],[0.23998010158538818],[0.23947571218013763],[0.23898594081401825],[0.23777616024017334],[0.23738713562488556],[0.23727741837501526],[0.23723511397838593],[0.23631636798381805],[0.23624877631664276],[0.23462411761283875],[0.23310448229312897],[0.23271191120147705],[0.2325274497270584],[0.23183883726596832],[0.23070091009140015],[0.22979983687400818],[0.22973354160785675],[0.2294197380542755],[0.22926238179206848],[0.22866284847259521],[0.22615233063697815],[0.22589288651943207],[0.2255995273590088],[0.2254936695098877],[0.2240375131368637],[0.2235250473022461],[0.22326169908046722],[0.22208935022354126],[0.22170153260231018],[0.2212662249803543],[0.22116181254386902],[0.22088202834129333],[0.22024039924144745],[0.22005723416805267],[0.2193043977022171],[0.2184334397315979],[0.2177630513906479],[0.21740107238292694],[0.2172979861497879],[0.21693290770053864],[0.21670152246952057],[0.21577639877796173],[0.2143830507993698],[0.21404293179512024],[0.2131260633468628],[0.21216504275798798],[0.21191175282001495],[0.21059978008270264],[0.2097722440958023],[0.2096504420042038],[0.20931611955165863],[0.20929500460624695],[0.20875459909439087],[0.20850905776023865],[0.20839306712150574],[0.2076096385717392],[0.206996351480484],[0.20588678121566772],[0.2058255523443222],[0.20534279942512512],[0.20361469686031342],[0.20332521200180054],[0.20292671024799347],[0.20258554816246033],[0.20235881209373474],[0.20183342695236206],[0.20009663701057434],[0.19999966025352478],[0.1992824822664261],[0.1985594779253006],[0.1983768194913864],[0.19751019775867462],[0.19688241183757782],[0.1967039853334427],[0.19654323160648346],[0.196205273270607],[0.1955726444721222],[0.1954030990600586],[0.19437706470489502],[0.1942298710346222],[0.1941288858652115],[0.1929570585489273],[0.1918729692697525],[0.19118107855319977],[0.19090686738491058],[0.19051890075206757],[0.19025155901908875],[0.19024567306041718],[0.19014425575733185],[0.1898711919784546],[0.18981529772281647],[0.18908502161502838],[0.18903297185897827],[0.18851341307163239],[0.18848855793476105],[0.1884530633687973],[0.1882556527853012],[0.1882002204656601],[0.1875147819519043],[0.1874629706144333],[0.18742291629314423],[0.18742245435714722],[0.18669696152210236],[0.18616917729377747],[0.1861530840396881],[0.18613366782665253],[0.18483729660511017],[0.18417465686798096],[0.18346115946769714],[0.18313981592655182],[0.18287135660648346],[0.1823246330022812],[0.18208834528923035],[0.18185202777385712],[0.18104130029678345],[0.18070827424526215],[0.18069253861904144],[0.1796823889017105],[0.17902177572250366],[0.17878325283527374],[0.1787593960762024],[0.1780363917350769],[0.17781193554401398],[0.17777514457702637],[0.17752909660339355],[0.17672115564346313],[0.1764996200799942],[0.17618857324123383],[0.17574571073055267],[0.17558719217777252],[0.1755380630493164],[0.17545035481452942],[0.17452293634414673],[0.17427806556224823],[0.17331328988075256],[0.1732727587223053],[0.17318595945835114],[0.17311681807041168],[0.1726192682981491],[0.17199258506298065],[0.1719411015510559],[0.17189276218414307],[0.171635702252388],[0.1703980416059494],[0.17039760947227478],[0.17031237483024597],[0.169724240899086],[0.16963887214660645],[0.16957946121692657],[0.1691492646932602],[0.16912351548671722],[0.16906088590621948],[0.16822269558906555],[0.16747403144836426],[0.16724850237369537],[0.16696366667747498],[0.16686224937438965],[0.16653931140899658],[0.16609139740467072],[0.16566844284534454],[0.16558468341827393],[0.16531124711036682],[0.16513314843177795],[0.16420893371105194],[0.16417008638381958],[0.1640869379043579],[0.16323688626289368],[0.1632193922996521],[0.16320767998695374],[0.16294392943382263],[0.16291894018650055],[0.16230379045009613],[0.16209526360034943],[0.1620335578918457],[0.16175958514213562],[0.16174517571926117],[0.16155050694942474],[0.1606331169605255],[0.16052140295505524],[0.16018971800804138],[0.15998326241970062],[0.15990182757377625],[0.1592998206615448],[0.15907429158687592],[0.15904073417186737],[0.15834546089172363],[0.15831780433654785],[0.15819613635540009],[0.15803198516368866],[0.15720410645008087],[0.15610826015472412],[0.15569300949573517],[0.1556902825832367],[0.1552131474018097],[0.15454614162445068],[0.15397286415100098],[0.1539234071969986],[0.1536702662706375],[0.15355072915554047],[0.1534469872713089],[0.15331041812896729],[0.15232905745506287],[0.1517140418291092],[0.15168313682079315],[0.1516360640525818],[0.15160918235778809],[0.15145084261894226],[0.1513729840517044],[0.15087610483169556],[0.15054957568645477],[0.15049725770950317],[0.15045273303985596],[0.15017688274383545],[0.14998450875282288],[0.1493527740240097],[0.14919376373291016],[0.14880649745464325],[0.14879365265369415],[0.14821584522724152],[0.1481393426656723],[0.14786653220653534],[0.14763899147510529],[0.1466805785894394],[0.14664515852928162],[0.14656934142112732],[0.1462152749300003],[0.1458951234817505],[0.14576756954193115],[0.14570540189743042],[0.1456056833267212],[0.14493098855018616],[0.14402291178703308],[0.14374607801437378],[0.14373299479484558],[0.14351777732372284],[0.1434209644794464],[0.1431320160627365],[0.1426869034767151],[0.14238500595092773],[0.14236263930797577],[0.14131197333335876],[0.14130941033363342],[0.14105172455310822],[0.14064836502075195],[0.14048676192760468],[0.14026527106761932],[0.13960829377174377],[0.1389225870370865],[0.1384672075510025],[0.13799065351486206],[0.1373126059770584],[0.13714314997196198],[0.13708235323429108],[0.13707035779953003],[0.1366128772497177],[0.13654141128063202],[0.13622312247753143],[0.13521063327789307],[0.1350642740726471],[0.13499349355697632],[0.13436415791511536],[0.1342450976371765],[0.1337260901927948],[0.13264964520931244],[0.13200828433036804],[0.13178573548793793],[0.13134320080280304],[0.1310524195432663],[0.1310223788022995],[0.13005365431308746],[0.12984535098075867],[0.12975482642650604],[0.1296408772468567],[0.12955859303474426],[0.1290801614522934],[0.12847690284252167],[0.1278602033853531],[0.1272071748971939],[0.12699152529239655],[0.12679727375507355],[0.12638337910175323],[0.12625190615653992],[0.12511156499385834],[0.12500035762786865],[0.12407086789608002],[0.124059297144413],[0.12398862093687057],[0.12392278760671616],[0.12386702746152878],[0.1234363242983818],[0.1229989305138588],[0.12284958362579346],[0.12218590825796127],[0.12201599031686783],[0.12192022800445557],[0.12174410372972488],[0.12041876465082169],[0.1195484846830368],[0.11950749903917313],[0.1193213015794754],[0.11913871020078659],[0.1187150776386261],[0.11848075687885284],[0.11743637174367905],[0.11723291873931885],[0.11710827052593231],[0.11704561859369278],[0.11634127795696259],[0.11604181677103043],[0.11532264202833176],[0.1152934581041336],[0.11497195810079575],[0.1142273023724556],[0.114034503698349],[0.11382900923490524],[0.11372629553079605],[0.11346202343702316],[0.11318601667881012],[0.1128992810845375],[0.11249294877052307],[0.11247183382511139],[0.1120355874300003],[0.11200743913650513],[0.11187191307544708],[0.11149370670318604],[0.11131007969379425],[0.11092223972082138],[0.10983209311962128],[0.10981417447328568],[0.10950620472431183],[0.10854633152484894],[0.10853603482246399],[0.10787060856819153],[0.10771385580301285],[0.10756862163543701],[0.10663203150033951],[0.10611315071582794],[0.10581250488758087],[0.10558292269706726],[0.10448584705591202],[0.10442696511745453],[0.10392569750547409],[0.10355033725500107],[0.10342387855052948],[0.1028323546051979],[0.10264470428228378],[0.10218554735183716],[0.10205762088298798],[0.10185232758522034],[0.10136149823665619],[0.10051282495260239],[0.09999130666255951],[0.09982562065124512],[0.09934931993484497],[0.09871672093868256],[0.09782377630472183],[0.09755762666463852],[0.09706458449363708],[0.09659432619810104],[0.09631848335266113],[0.09597720950841904],[0.09560517221689224],[0.0952400490641594],[0.09499390423297882],[0.09486138820648193],[0.09388761967420578],[0.09361165016889572],[0.09316480904817581],[0.09315582364797592],[0.09255875647068024],[0.09191808849573135],[0.09149393439292908],[0.0910412147641182],[0.09032867103815079],[0.08965364098548889],[0.08962187170982361],[0.08830076456069946],[0.08801690489053726],[0.08757441490888596],[0.08730342984199524],[0.08693728595972061],[0.08640838414430618],[0.08570556342601776],[0.085384801030159],[0.08514657616615295],[0.08482462912797928],[0.08384055644273758],[0.08381882309913635],[0.0834222286939621],[0.08296868950128555],[0.08259172737598419],[0.08221258223056793],[0.08188902586698532],[0.08062856644392014],[0.08039597421884537],[0.07986566424369812],[0.07957755774259567],[0.07905757427215576],[0.07849454879760742],[0.07797858119010925],[0.07730481028556824],[0.07675322890281677],[0.07651524990797043],[0.07562103122472763],[0.07527125626802444],[0.07497278600931168],[0.07421959191560745],[0.07359573245048523],[0.07310671359300613],[0.07236162573099136],[0.07226737588644028],[0.0709233209490776],[0.07074592262506485],[0.06798800826072693],[0.06782189756631851],[0.06534002721309662],[0.06508411467075348],[0.06486779451370239],[0.06254164129495621],[0.06216633692383766],[0.059730563312768936]],\"hovertemplate\":\"country=ISRAEL\\u003cbr\\u003eFPR=%{x}\\u003cbr\\u003eTPR=%{y}\\u003cbr\\u003ethresholds=%{customdata[0]}\\u003cextra\\u003e\\u003c\\u002fextra\\u003e\",\"legendgroup\":\"ISRAEL\",\"line\":{\"color\":\"#636efa\",\"dash\":\"solid\"},\"marker\":{\"symbol\":\"circle\"},\"mode\":\"lines\",\"name\":\"ISRAEL\",\"orientation\":\"v\",\"showlegend\":true,\"x\":[0.0,0.0,0.0,0.0010645375914836992,0.0011976047904191617,0.0011976047904191617,0.0026613439787092482,0.00332667997338656,0.0034597471723220225,0.00385894876912841,0.004258150365934797,0.004258150365934797,0.004524284763805722,0.004790419161676647,0.005189620758483034,0.005588822355289421,0.006919494344644045,0.007451763140385895,0.007584830339321357,0.007984031936127744,0.007984031936127744,0.008649367930805056,0.009181636726546906,0.00944777112441783,0.009713905522288756,0.00998003992015968,0.010246174318030606,0.010246174318030606,0.01051230871590153,0.010645375914836993,0.012242182302062542,0.012242182302062542,0.012375249500998005,0.01277445109780439,0.012907518296739853,0.013040585495675315,0.013040585495675315,0.013705921490352628,0.01383898868928809,0.014105123087159015,0.014238190286094477,0.01437125748502994,0.014504324683965402,0.015169660678642715,0.015169660678642715,0.015169660678642715,0.015302727877578177,0.01543579507651364,0.015968063872255488,0.01610113107119095,0.01610113107119095,0.016234198270126413,0.020758483033932136,0.021157684630738523,0.021290751829673986,0.02142381902860945,0.021689953426480373,0.021823020625415836,0.022488356620093148,0.022754491017964073,0.02315369261477046,0.023286759813705923,0.023552894211576848,0.02368596141051231,0.023952095808383235,0.02554890219560878,0.02594810379241517,0.02594810379241517,0.026214238190286093,0.026480372588157018,0.02714570858283433,0.02714570858283433,0.027411842980705255,0.027411842980705255,0.028875582168995342,0.029008649367930805,0.029008649367930805,0.029540918163672655,0.02980705256154358,0.030073186959414504,0.030738522954091817,0.03166999334664005,0.031936127744510975,0.033000665335994675,0.03379906852960745,0.0343313373253493,0.034464404524284765,0.035129740518962074,0.035395874916833,0.035528942115768465,0.03579507651363939,0.03592814371257485,0.036061210911510315,0.036593479707252165,0.03792415169660679,0.03805721889554225,0.038190286094477714,0.04218230206254158,0.0428476380572189,0.04311377245508982,0.043512974051896205,0.04364604125083167,0.043912175648702596,0.044577511643379905,0.04484364604125083,0.044976713240186296,0.044976713240186296,0.04537591483699268,0.04537591483699268,0.04590818363273453,0.04590818363273453,0.04644045242847638,0.046573519627411845,0.046573519627411845,0.047638057218895545,0.047638057218895545,0.047771124417831004,0.048835662009314704,0.049234863606121095,0.04963406520292748,0.05163007318695941,0.05189620758483034,0.05216234198270126,0.05216234198270126,0.05256154357950765,0.05282767797737858,0.052960745176314036,0.05335994677312043,0.053493013972055886,0.05389221556886228,0.05429141716566866,0.05429141716566866,0.0552228875582169,0.05535595475715236,0.056553559547571526,0.056686626746506985,0.057085828343313376,0.057218895542248835,0.06001330671989354,0.06014637391882901,0.06027944111776447,0.06147704590818363,0.06147704590818363,0.06280771789753825,0.06280771789753825,0.06307385229540918,0.06320691949434465,0.06533599467731205,0.0654690618762475,0.0654690618762475,0.06573519627411843,0.06719893546240852,0.06733200266134398,0.06733200266134398,0.06773120425815037,0.0679973386560213,0.06813040585495675,0.07119095143047238,0.07172322022621423,0.07198935462408516,0.07212242182302063,0.07318695941450433,0.07332002661343978,0.07332002661343978,0.07358616101131071,0.07491683300066533,0.07518296739853626,0.07598137059214903,0.07664670658682635,0.07664670658682635,0.07677977378576181,0.07677977378576181,0.07797737857618098,0.07797737857618098,0.07811044577511643,0.07837658017298736,0.07877578176979375,0.07877578176979375,0.07904191616766468,0.08023952095808383,0.08023952095808383,0.0803725881570193,0.08063872255489021,0.08090485695276114,0.08090485695276114,0.08117099135063206,0.08130405854956753,0.08157019294743846,0.08157019294743846,0.08157019294743846,0.0825016633399867,0.08263473053892216,0.08649367930805056,0.08715901530272788,0.08782435129740519,0.08782435129740519,0.09101796407185629,0.09221556886227544,0.09261477045908184,0.09554224883566201,0.09580838323353294,0.09620758483033932,0.09780439121756487,0.09807052561543579,0.09940119760479042,0.09940119760479042,0.10099800399201597,0.10126413838988689,0.10166333998669327,0.10232867598137059,0.10272787757817697,0.10286094477711244,0.10312707917498337,0.10472388556220892,0.10472388556220892,0.10499001996007984,0.10525615435795077,0.10578842315369262,0.10592149035262807,0.10645375914836992,0.10671989354624085,0.10711909514304724,0.10738522954091817,0.10805056553559547,0.1083166999334664,0.1089820359281437,0.10924817032601464,0.10924817032601464,0.11337325349301397,0.11350632069194944,0.11377245508982035,0.11403858948769129,0.11417165668662675,0.1147039254823686,0.11497005988023952,0.11497005988023952,0.11590153027278775,0.11603459747172322,0.11656686626746507,0.11669993346640053,0.11709913506320692,0.11723220226214238,0.12188955422488357,0.12188955422488357,0.12228875582168995,0.12255489021956088,0.12268795741849634,0.12455089820359282,0.127478376580173,0.1288090485695276,0.12907518296739853,0.13040585495675316,0.13080505655355953,0.130938123752495,0.130938123752495,0.13107119095143047,0.13213572854291417,0.1324018629407851,0.13266799733865603,0.1330671989354624,0.1351962741184298,0.13546240851630073,0.13572854291417166,0.13745841650033266,0.13852295409181636,0.14025282767797737,0.14038589487691283,0.1405189620758483,0.1405189620758483,0.14131736526946106,0.141583499667332,0.14184963406520293,0.14238190286094476,0.1426480372588157,0.14916833000665336,0.14916833000665336,0.14983366600133066,0.1500998003992016,0.1526280771789754,0.15276114437791086,0.1532934131736527,0.1575515635395875,0.15888223552894212,0.1590153027278776,0.1592814371257485,0.15981370592149036,0.15994677312042582,0.1614105123087159,0.16167664670658682,0.16207584830339322,0.16300731869594146,0.16420492348636062,0.1643379906852961,0.17045908183632735,0.17072521623419826,0.17152361942781105,0.17285429141716566,0.17298735861610112,0.17591483699268132,0.17897538256819695,0.18203592814371258,0.18216899534264805,0.18243512974051895,0.18349966733200265,0.18349966733200265,0.18416500332667998,0.1844311377245509,0.18496340652029275,0.18522954091816368,0.1854956753160346,0.18895542248835662,0.18908848968729208,0.19001996007984032,0.19055222887558218,0.19148369926813041,0.19148369926813041,0.19401197604790418,0.19401197604790418,0.19414504324683965,0.19441117764471058,0.19507651363938788,0.19520958083832335,0.19654025282767798,0.19933466400532268,0.2006653359946773,0.20079840319361278,0.2010645375914837,0.20345974717232201,0.20359281437125748,0.2045242847638057,0.20465735196274118,0.20585495675316035,0.20625415834996674,0.2063872255489022,0.2063872255489022,0.2066533599467731,0.20691949434464404,0.20825016633399868,0.21051230871590154,0.21064537591483698,0.21104457751164338,0.2119760479041916,0.21210911510312708,0.21224218230206254,0.21370592149035264,0.21397205588822354,0.21423819028609448,0.21503659347970724,0.21530272787757818,0.2179640718562874,0.2179640718562874,0.2222222222222222,0.22235528942115768,0.22288755821689954,0.22501663339986694,0.2254158349966733,0.22554890219560877,0.2286094477711244,0.23020625415834997,0.23033932135728544,0.23100465735196274,0.23140385894876914,0.23140385894876914,0.2318030605455755,0.23206919494344644,0.23353293413173654,0.233666001330672,0.23406520292747837,0.2343313373253493,0.23619427811044577,0.2364604125083167,0.23659347970725217,0.23699268130405854,0.23938789088489687,0.2403193612774451,0.24045242847638057,0.24125083166999334,0.24204923486360613,0.24298070525615437,0.24311377245508983,0.2449767132401863,0.24630738522954093,0.24644045242847637,0.24657351962741184,0.247771124417831,0.2481703260146374,0.2488356620093147,0.24910179640718563,0.25003326679973387,0.25136393878908847,0.2516300731869594,0.25176314038589487,0.25176314038589487,0.2592149035262808,0.25934797072521626,0.25961410512308714,0.25961410512308714,0.26320691949434466,0.26573519627411846,0.26600133067198933,0.26600133067198933,0.26640053226879573,0.2665335994677312,0.26706586826347306,0.267332002661344,0.2694610778443114,0.27025948103792413,0.2715901530272788,0.27172322022621426,0.2718562874251497,0.27225548902195607,0.2754491017964072,0.27837658017298733,0.2785096473719228,0.27864271457085826,0.27904191616766466,0.2817032601463739,0.2821024617431803,0.2822355289421158,0.2825016633399867,0.2838323353293413,0.2839654025282768,0.2842315369261477,0.2860944777112442,0.29221556886227545,0.2936793080505655,0.2942115768463074,0.2942115768463074,0.29474384564204925,0.2948769128409847,0.3019294743845642,0.3051230871590153,0.3056553559547572,0.3056553559547572,0.3057884231536926,0.3060545575515635,0.3064537591483699,0.3149700598802395,0.3163007318695941,0.3172322022621424,0.31736526946107785,0.31816367265469064,0.31816367265469064,0.31829673985362605,0.318562874251497,0.31869594145043245,0.31909514304723885,0.3193612774451098,0.3201596806387226,0.32335329341317365,0.3236194278110446,0.3244178310046574,0.3248170326014637,0.32588157019294745,0.32721224218230205,0.3273453093812375,0.32761144377910845,0.3308050565535596,0.33147039254823685,0.3345309381237525,0.33479707252162344,0.33506320691949437,0.3366600133067199,0.3367930805056554,0.3391882900864937,0.3397205588822355,0.3409181636726547,0.34118429807052564,0.3419827012641384,0.3419827012641384,0.3571523619427811,0.35728542914171657,0.36340652029274784,0.3635395874916833,0.36500332667997337,0.3652694610778443,0.3656686626746507,0.36593479707252163,0.3660678642714571,0.36766467065868264,0.3687292082501663,0.37019294743845643,0.3707252162341983,0.3763140385894877,0.3809713905522289,0.38296739853626083,0.3831004657351963,0.3840319361277445,0.38416500332667997,0.38429807052561543,0.3844311377245509,0.38669328010645376,0.3869594145043247,0.38815701929474383,0.38882235528942116,0.3978709248170326,0.3980039920159681,0.39840319361277443,0.40332667997338656,0.403459747172322,0.4045242847638057,0.4074517631403859,0.41104457751164336,0.41224218230206255,0.4125083166999335,0.41570192947438456,0.4198270126413839,0.4202262142381903,0.4206254158349967,0.42129075182967396,0.4214238190286094,0.4223552894211577,0.435395874916833,0.4355289421157685,0.4359281437125748,0.4360612109115103,0.4372588157019295,0.43872255489021955,0.4392548236859614,0.44258150365934795,0.4469727212242182,0.44723885562208915,0.4473719228210246,0.4479041916167665,0.44803725881570194,0.4564204923486361,0.4661343978709248,0.4679973386560213,0.4679973386560213,0.46852960745176314,0.4686626746506986,0.4701264138389887,0.47025948103792414,0.4715901530272788,0.4718562874251497,0.47784431137724553,0.48090485695276114,0.4810379241516966,0.48343313373253494,0.48383233532934133,0.48516300731869594,0.48542914171656687,0.4860944777112442,0.4863606121091151,0.4863606121091151,0.48729208250166334,0.4874251497005988,0.48755821689953427,0.48809048569527613,0.48835662009314706,0.48942115768463074,0.4895542248835662,0.48968729208250167,0.49008649367930807,0.49021956087824353,0.5080505655355955,0.5087159015302728,0.509913506320692,0.5100465735196275,0.5100465735196275,0.5165668662674651,0.5201596806387225,0.520292747837658,0.5274783765801729,0.5341317365269461,0.5350632069194944,0.5353293413173653,0.5357285429141716,0.5359946773120425,0.5362608117099135,0.5363938789088489,0.5367930805056553,0.53812375249501,0.5383898868928809,0.539853626081171,0.5411842980705256,0.5603459747172322,0.5612774451097804,0.5622089155023287,0.5627411842980705,0.5651363938789088,0.5651363938789088,0.5672654690618762,0.5676646706586826,0.573519627411843,0.5737857618097139,0.5933466400532269,0.596274118429807,0.6002661343978709,0.6003992015968064,0.6007984031936128,0.6009314703925482,0.6021290751829674,0.6025282767797738,0.6049234863606121,0.6062541583499668,0.669061876247505,0.6709248170326014,0.6721224218230206,0.6729208250166334,0.6738522954091817,0.6741184298070526,0.6745176314038589,0.6754491017964072,0.6755821689953426,0.6967398536260812,0.6970059880239521,0.704457751164338,0.7063206919494345,0.7145708582834331,0.7156353958749169,0.7160345974717233,0.7164337990685296,0.7174983366600133,0.7177644710578842,0.7198935462408517,0.7201596806387226,0.7218895542248835,0.7250831669993346,0.7252162341982701,0.7252162341982701,0.7294743845642049,0.7301397205588822,0.7313373253493014,0.7317365269461078,0.7482368596141051,0.7485029940119761,0.7531603459747173,0.7566200931470393,0.7622089155023287,0.7624750499001997,0.762608117099135,0.762608117099135,0.7631403858948769,0.7635395874916833,0.7636726546906187,0.7801729873586161,0.7805721889554225,0.7808383233532934,0.7812375249500998,0.7902860944777113,0.7914836992681304,0.8006653359946773,0.8174318030605455,0.8174318030605455,0.817564870259481,0.835395874916833,0.8363273453093812,0.8364604125083167,0.9067198935462408,0.9120425815036594,0.9184298070525615,0.9226879574184963,0.9232202262142382,0.9491683300066533,0.9498336660013307,0.9499667332002661,0.9507651363938789,0.9508982035928144,0.9591483699268131,0.9592814371257485,0.9878908848968729,1.0],\"xaxis\":\"x\",\"y\":[0.0,0.002486016159105034,0.0037290242386575512,0.013673088875077687,0.014294592914853946,0.014916096954630205,0.026724673710379118,0.029210689869484153,0.02983219390926041,0.031075201988812928,0.032939714108141706,0.03418272218769422,0.044748290863890615,0.045369794903666875,0.049098819142324425,0.0509633312616532,0.057799875699192045,0.05904288377874456,0.05904288377874456,0.06401491609695463,0.06463642013673089,0.07271597265382225,0.07706650093225606,0.07768800497203232,0.07768800497203232,0.08017402113113735,0.08017402113113735,0.08079552517091361,0.08141702921068987,0.08141702921068987,0.09819763828464885,0.09881914232442511,0.09881914232442511,0.10068365444375388,0.10130515848353014,0.10130515848353014,0.1019266625233064,0.10379117464263518,0.10565568676196395,0.10689869484151647,0.10814170292106899,0.11187072715972654,0.11187072715972654,0.11311373523927906,0.11435674331883157,0.11622125543816035,0.11684275947793661,0.11684275947793661,0.11746426351771287,0.11746426351771287,0.11870727159726538,0.11870727159726538,0.1379738968303294,0.14356743318831572,0.14418893722809198,0.14418893722809198,0.14418893722809198,0.14418893722809198,0.14481044126786824,0.14481044126786824,0.14605344934742076,0.14605344934742076,0.14605344934742076,0.14667495338719702,0.14667495338719702,0.1497824735860783,0.1497824735860783,0.15040397762585456,0.15040397762585456,0.15226848974518334,0.15475450590428838,0.15661901802361716,0.15661901802361716,0.15724052206339342,0.16532007458048478,0.16532007458048478,0.1665630826600373,0.16842759477936606,0.16842759477936606,0.16842759477936606,0.17153511497824736,0.17277812305779988,0.17277812305779988,0.1740211311373524,0.17775015537600994,0.17775015537600994,0.17775015537600994,0.17961466749533872,0.18023617153511498,0.18023617153511498,0.18085767557489124,0.18210068365444376,0.18272218769422002,0.18458669981354878,0.18769422001243008,0.18831572405220634,0.18831572405220634,0.19825978868862648,0.199502796768179,0.199502796768179,0.20136730888750776,0.20136730888750776,0.20198881292728402,0.2038533250466128,0.2038533250466128,0.20509633312616532,0.20571783716594158,0.20758234928527036,0.20820385332504662,0.20944686140459912,0.21068986948415164,0.21255438160348042,0.21255438160348042,0.21379738968303294,0.2175264139216905,0.21814791796146674,0.218769422001243,0.22125543816034804,0.22249844623990056,0.22311995027967682,0.22622747047855812,0.22622747047855812,0.22622747047855812,0.22684897451833436,0.22684897451833436,0.22684897451833436,0.22684897451833436,0.22684897451833436,0.22747047855811062,0.22747047855811062,0.22809198259788688,0.22871348663766314,0.23119950279676818,0.23119950279676818,0.23430702299564948,0.23492852703542574,0.23555003107520198,0.23555003107520198,0.24238657551274084,0.2430080795525171,0.24487259167184586,0.25108763206960844,0.25295214418893724,0.25295214418893724,0.2535736482287135,0.2535736482287135,0.2535736482287135,0.2597886886264761,0.2604101926662523,0.2610316967060286,0.2610316967060286,0.26476072094468617,0.26476072094468617,0.26600372902423863,0.26600372902423863,0.26600372902423863,0.2666252330640149,0.27346177750155376,0.27346177750155376,0.27346177750155376,0.27346177750155376,0.2747047855811063,0.2747047855811063,0.2753262896208825,0.27656929770043504,0.27843380981976384,0.2809198259788689,0.28216283405842135,0.28402734617775016,0.2852703542573027,0.2858918582970789,0.28713486637663144,0.2877563704164077,0.28837787445618396,0.28837787445618396,0.28899937849596025,0.28899937849596025,0.2896208825357365,0.2896208825357365,0.290863890615289,0.29148539465506523,0.29459291485394656,0.2964574269732753,0.2964574269732753,0.2970789310130516,0.2970789310130516,0.2983219390926041,0.3001864512119329,0.3008079552517091,0.30205096333126163,0.3045369794903667,0.30515848353014297,0.3113735239279055,0.3119950279676818,0.3119950279676818,0.31261653200745804,0.31572405220633937,0.31572405220633937,0.31572405220633937,0.3238036047234307,0.3238036047234307,0.3238036047234307,0.32442510876320696,0.32442510876320696,0.3256681168427595,0.326911124922312,0.32939714108141704,0.32939714108141704,0.32939714108141704,0.3300186451211933,0.3325046612802983,0.33374766935985084,0.33374766935985084,0.3374766935985084,0.3387197016780609,0.3387197016780609,0.3387197016780609,0.33934120571783716,0.33996270975761345,0.3405842137973897,0.34120571783716597,0.3418272218769422,0.3418272218769422,0.34244872591671843,0.34244872591671843,0.3430702299564947,0.3430702299564947,0.34431323803604724,0.35301429459291483,0.35301429459291483,0.35301429459291483,0.3536357986326911,0.3536357986326911,0.3536357986326911,0.35425730267246736,0.35487880671224364,0.3567433188315724,0.3567433188315724,0.3579863269111249,0.3586078309509012,0.3586078309509012,0.3586078309509012,0.3685518955873213,0.36917339962709755,0.36979490366687384,0.3704164077066501,0.3729024238657551,0.37414543194530764,0.3772529521441889,0.3778744561839652,0.37849596022374143,0.3828464885021753,0.3834679925419515,0.3834679925419515,0.3840894965817278,0.3840894965817278,0.3853325046612803,0.3853325046612803,0.3865755127408328,0.3865755127408328,0.38906152889993784,0.38906152889993784,0.38906152889993784,0.3915475450590429,0.3915475450590429,0.39341205717837163,0.3940335612181479,0.3940335612181479,0.39465506525792415,0.39527656929770044,0.3971410814170292,0.3971410814170292,0.399005593536358,0.399005593536358,0.41143567433188316,0.4120571783716594,0.4139216904909882,0.41454319453076444,0.41889372280919823,0.41889372280919823,0.41889372280919823,0.4282162834058421,0.4282162834058421,0.4282162834058421,0.42945929148539463,0.4300807955251709,0.4300807955251709,0.43132380360472344,0.43132380360472344,0.43132380360472344,0.43256681168427596,0.43256681168427596,0.43256681168427596,0.4394033561218148,0.4394033561218148,0.44126786824114356,0.44188937228091985,0.44188937228091985,0.4443753884400249,0.4512119328775637,0.454319453076445,0.45494095711622123,0.45494095711622123,0.45494095711622123,0.4555624611559975,0.4574269732753263,0.4586699813548788,0.4599129894344313,0.4599129894344313,0.4605344934742076,0.4642635177128651,0.4642635177128651,0.46550652579241764,0.46550652579241764,0.4661280298321939,0.46674953387197016,0.47110006215040395,0.47172156619018024,0.47172156619018024,0.47172156619018024,0.4723430702299565,0.4723430702299565,0.4742075823492853,0.47731510254816656,0.47793660658794285,0.47793660658794285,0.4785581106277191,0.48042262274704783,0.48042262274704783,0.48042262274704783,0.48166563082660035,0.4829086389061529,0.48353014294592916,0.48353014294592916,0.4841516469857054,0.4847731510254817,0.4847731510254817,0.4853946550652579,0.4872591671845867,0.4872591671845867,0.4872591671845867,0.48788067122436296,0.4885021752641392,0.4885021752641392,0.4897451833436917,0.49098819142324424,0.49098819142324424,0.49098819142324424,0.49098819142324424,0.49409571162212557,0.4947172156619018,0.49844623990055936,0.49844623990055936,0.49844623990055936,0.5009322560596644,0.5015537600994406,0.5015537600994406,0.5034182722187694,0.5065257924176507,0.5065257924176507,0.5083903045369795,0.5083903045369795,0.5090118085767558,0.509633312616532,0.5102548166563082,0.5114978247358608,0.5114978247358608,0.5114978247358608,0.5114978247358608,0.5139838408949658,0.5139838408949658,0.5139838408949658,0.5152268489745183,0.5189558732131759,0.5195773772529522,0.5195773772529522,0.5208203853325046,0.5208203853325046,0.5226848974518334,0.5226848974518334,0.5251709136109385,0.526413921690491,0.5270354257302673,0.5270354257302673,0.5301429459291486,0.5301429459291486,0.5320074580484773,0.5320074580484773,0.5326289620882536,0.5357364822871349,0.5357364822871349,0.5357364822871349,0.5363579863269111,0.5425730267246737,0.5425730267246737,0.54319453076445,0.5438160348042262,0.5518955873213176,0.5556246115599751,0.5556246115599751,0.5562461155997513,0.5562461155997513,0.5562461155997513,0.5568676196395277,0.5574891236793039,0.5587321317588564,0.559975139838409,0.5630826600372902,0.5630826600372902,0.5637041640770665,0.5637041640770665,0.5661901802361715,0.5686761963952766,0.5686761963952766,0.5692977004350528,0.5692977004350528,0.5730267246737104,0.5730267246737104,0.5736482287134866,0.5736482287134866,0.5748912367930391,0.5748912367930391,0.5761342448725917,0.5804847731510255,0.5922933499067744,0.5929148539465506,0.5929148539465506,0.5935363579863269,0.5941578620261032,0.5941578620261032,0.598508390304537,0.603480422622747,0.603480422622747,0.6041019266625233,0.6041019266625233,0.6041019266625233,0.6041019266625233,0.6090739589807334,0.612802983219391,0.612802983219391,0.612802983219391,0.6140459912989434,0.615288999378496,0.6165320074580485,0.6165320074580485,0.6165320074580485,0.6165320074580485,0.6165320074580485,0.6183965195773773,0.6233685518955874,0.6233685518955874,0.6239900559353636,0.6239900559353636,0.6252330640149161,0.6283405842137973,0.6283405842137973,0.6283405842137973,0.6295835922933499,0.6295835922933499,0.6364201367308887,0.6364201367308887,0.6364201367308887,0.637041640770665,0.637041640770665,0.6389061528899938,0.6401491609695463,0.6413921690490988,0.6413921690490988,0.6413921690490988,0.642013673088875,0.6507147296457427,0.651336233685519,0.6581727781230577,0.6581727781230577,0.6600372902423866,0.6600372902423866,0.6600372902423866,0.6600372902423866,0.6606587942821628,0.6612802983219391,0.6619018023617154,0.6619018023617154,0.6619018023617154,0.6662523306401492,0.6724673710379118,0.6743318831572406,0.6743318831572406,0.6761963952765693,0.6761963952765693,0.6768178993163455,0.6768178993163455,0.6774394033561218,0.6774394033561218,0.6774394033561218,0.6774394033561218,0.6848974518334369,0.6848974518334369,0.6861404599129894,0.6942200124300808,0.6942200124300808,0.6954630205096333,0.6979490366687383,0.7004350528278434,0.7022995649471722,0.7022995649471722,0.7054070851460534,0.7072715972653822,0.7072715972653822,0.7085146053449347,0.7085146053449347,0.7085146053449347,0.709136109384711,0.7178371659415786,0.7184586699813549,0.7190801740211311,0.7190801740211311,0.7197016780609073,0.7228091982597887,0.7228091982597887,0.7265382224984462,0.7302672467371037,0.7302672467371037,0.7302672467371037,0.7302672467371037,0.7302672467371037,0.7333747669359851,0.7439403356121814,0.7458048477315102,0.7464263517712865,0.7464263517712865,0.7464263517712865,0.7482908638906153,0.7489123679303915,0.7495338719701679,0.7495338719701679,0.7538844002486016,0.7563704164077066,0.7563704164077066,0.7588564325668117,0.7594779366065879,0.7594779366065879,0.7594779366065879,0.7607209446861405,0.7607209446861405,0.7613424487259167,0.761963952765693,0.761963952765693,0.7625854568054692,0.7625854568054692,0.7625854568054692,0.764449968924798,0.764449968924798,0.7656929770043506,0.7656929770043506,0.766935985083903,0.7855811062771908,0.7855811062771908,0.7874456183965196,0.7874456183965196,0.7880671224362958,0.7886886264760721,0.7886886264760721,0.7886886264760721,0.7917961466749533,0.795525170913611,0.7973896830329397,0.7973896830329397,0.7986326911124922,0.7986326911124922,0.7986326911124922,0.7986326911124922,0.7986326911124922,0.7998756991920447,0.7998756991920447,0.8017402113113735,0.8029832193909261,0.8098197638284649,0.8110627719080175,0.8110627719080175,0.8110627719080175,0.8116842759477937,0.8123057799875699,0.8129272840273462,0.8129272840273462,0.8178993163455562,0.8178993163455562,0.8353014294592915,0.836544437538844,0.8408949658172779,0.8408949658172779,0.8408949658172779,0.8408949658172779,0.8415164698570541,0.8421379738968303,0.8433809819763829,0.8433809819763829,0.8713486637663145,0.8713486637663145,0.8713486637663145,0.8713486637663145,0.8713486637663145,0.8713486637663145,0.8713486637663145,0.8719701678060907,0.8719701678060907,0.8800497203231821,0.8800497203231821,0.8856432566811684,0.8862647607209447,0.8899937849596022,0.8899937849596022,0.8906152889993785,0.8906152889993785,0.8906152889993785,0.8906152889993785,0.891858297078931,0.891858297078931,0.891858297078931,0.8937228091982597,0.8943443132380361,0.8949658172778123,0.8974518334369174,0.8980733374766936,0.8980733374766936,0.8980733374766936,0.911124922311995,0.9117464263517713,0.9167184586699814,0.9185829707893102,0.9204474829086389,0.9204474829086389,0.9204474829086389,0.9210689869484152,0.9223119950279677,0.9223119950279677,0.9229334990677439,0.927905531385954,0.927905531385954,0.9285270354257302,0.9285270354257302,0.9341205717837165,0.9347420758234929,0.9378495960223742,0.9459291485394655,0.9465506525792418,0.9465506525792418,0.9509011808576756,0.9509011808576756,0.9509011808576756,0.9707893101305158,0.9714108141702921,0.9732753262896209,0.9763828464885022,0.9763828464885022,0.9850839030453697,0.9857054070851461,0.9857054070851461,0.9857054070851461,0.9857054070851461,0.9881914232442511,0.9881914232442511,0.9912989434431324,1.0],\"yaxis\":\"y\",\"type\":\"scatter\"}],                        {\"template\":{\"data\":{\"histogram2dcontour\":[{\"type\":\"histogram2dcontour\",\"colorbar\":{\"outlinewidth\":0,\"ticks\":\"\"},\"colorscale\":[[0.0,\"#0d0887\"],[0.1111111111111111,\"#46039f\"],[0.2222222222222222,\"#7201a8\"],[0.3333333333333333,\"#9c179e\"],[0.4444444444444444,\"#bd3786\"],[0.5555555555555556,\"#d8576b\"],[0.6666666666666666,\"#ed7953\"],[0.7777777777777778,\"#fb9f3a\"],[0.8888888888888888,\"#fdca26\"],[1.0,\"#f0f921\"]]}],\"choropleth\":[{\"type\":\"choropleth\",\"colorbar\":{\"outlinewidth\":0,\"ticks\":\"\"}}],\"histogram2d\":[{\"type\":\"histogram2d\",\"colorbar\":{\"outlinewidth\":0,\"ticks\":\"\"},\"colorscale\":[[0.0,\"#0d0887\"],[0.1111111111111111,\"#46039f\"],[0.2222222222222222,\"#7201a8\"],[0.3333333333333333,\"#9c179e\"],[0.4444444444444444,\"#bd3786\"],[0.5555555555555556,\"#d8576b\"],[0.6666666666666666,\"#ed7953\"],[0.7777777777777778,\"#fb9f3a\"],[0.8888888888888888,\"#fdca26\"],[1.0,\"#f0f921\"]]}],\"heatmap\":[{\"type\":\"heatmap\",\"colorbar\":{\"outlinewidth\":0,\"ticks\":\"\"},\"colorscale\":[[0.0,\"#0d0887\"],[0.1111111111111111,\"#46039f\"],[0.2222222222222222,\"#7201a8\"],[0.3333333333333333,\"#9c179e\"],[0.4444444444444444,\"#bd3786\"],[0.5555555555555556,\"#d8576b\"],[0.6666666666666666,\"#ed7953\"],[0.7777777777777778,\"#fb9f3a\"],[0.8888888888888888,\"#fdca26\"],[1.0,\"#f0f921\"]]}],\"heatmapgl\":[{\"type\":\"heatmapgl\",\"colorbar\":{\"outlinewidth\":0,\"ticks\":\"\"},\"colorscale\":[[0.0,\"#0d0887\"],[0.1111111111111111,\"#46039f\"],[0.2222222222222222,\"#7201a8\"],[0.3333333333333333,\"#9c179e\"],[0.4444444444444444,\"#bd3786\"],[0.5555555555555556,\"#d8576b\"],[0.6666666666666666,\"#ed7953\"],[0.7777777777777778,\"#fb9f3a\"],[0.8888888888888888,\"#fdca26\"],[1.0,\"#f0f921\"]]}],\"contourcarpet\":[{\"type\":\"contourcarpet\",\"colorbar\":{\"outlinewidth\":0,\"ticks\":\"\"}}],\"contour\":[{\"type\":\"contour\",\"colorbar\":{\"outlinewidth\":0,\"ticks\":\"\"},\"colorscale\":[[0.0,\"#0d0887\"],[0.1111111111111111,\"#46039f\"],[0.2222222222222222,\"#7201a8\"],[0.3333333333333333,\"#9c179e\"],[0.4444444444444444,\"#bd3786\"],[0.5555555555555556,\"#d8576b\"],[0.6666666666666666,\"#ed7953\"],[0.7777777777777778,\"#fb9f3a\"],[0.8888888888888888,\"#fdca26\"],[1.0,\"#f0f921\"]]}],\"surface\":[{\"type\":\"surface\",\"colorbar\":{\"outlinewidth\":0,\"ticks\":\"\"},\"colorscale\":[[0.0,\"#0d0887\"],[0.1111111111111111,\"#46039f\"],[0.2222222222222222,\"#7201a8\"],[0.3333333333333333,\"#9c179e\"],[0.4444444444444444,\"#bd3786\"],[0.5555555555555556,\"#d8576b\"],[0.6666666666666666,\"#ed7953\"],[0.7777777777777778,\"#fb9f3a\"],[0.8888888888888888,\"#fdca26\"],[1.0,\"#f0f921\"]]}],\"mesh3d\":[{\"type\":\"mesh3d\",\"colorbar\":{\"outlinewidth\":0,\"ticks\":\"\"}}],\"scatter\":[{\"fillpattern\":{\"fillmode\":\"overlay\",\"size\":10,\"solidity\":0.2},\"type\":\"scatter\"}],\"parcoords\":[{\"type\":\"parcoords\",\"line\":{\"colorbar\":{\"outlinewidth\":0,\"ticks\":\"\"}}}],\"scatterpolargl\":[{\"type\":\"scatterpolargl\",\"marker\":{\"colorbar\":{\"outlinewidth\":0,\"ticks\":\"\"}}}],\"bar\":[{\"error_x\":{\"color\":\"#2a3f5f\"},\"error_y\":{\"color\":\"#2a3f5f\"},\"marker\":{\"line\":{\"color\":\"#E5ECF6\",\"width\":0.5},\"pattern\":{\"fillmode\":\"overlay\",\"size\":10,\"solidity\":0.2}},\"type\":\"bar\"}],\"scattergeo\":[{\"type\":\"scattergeo\",\"marker\":{\"colorbar\":{\"outlinewidth\":0,\"ticks\":\"\"}}}],\"scatterpolar\":[{\"type\":\"scatterpolar\",\"marker\":{\"colorbar\":{\"outlinewidth\":0,\"ticks\":\"\"}}}],\"histogram\":[{\"marker\":{\"pattern\":{\"fillmode\":\"overlay\",\"size\":10,\"solidity\":0.2}},\"type\":\"histogram\"}],\"scattergl\":[{\"type\":\"scattergl\",\"marker\":{\"colorbar\":{\"outlinewidth\":0,\"ticks\":\"\"}}}],\"scatter3d\":[{\"type\":\"scatter3d\",\"line\":{\"colorbar\":{\"outlinewidth\":0,\"ticks\":\"\"}},\"marker\":{\"colorbar\":{\"outlinewidth\":0,\"ticks\":\"\"}}}],\"scattermapbox\":[{\"type\":\"scattermapbox\",\"marker\":{\"colorbar\":{\"outlinewidth\":0,\"ticks\":\"\"}}}],\"scatterternary\":[{\"type\":\"scatterternary\",\"marker\":{\"colorbar\":{\"outlinewidth\":0,\"ticks\":\"\"}}}],\"scattercarpet\":[{\"type\":\"scattercarpet\",\"marker\":{\"colorbar\":{\"outlinewidth\":0,\"ticks\":\"\"}}}],\"carpet\":[{\"aaxis\":{\"endlinecolor\":\"#2a3f5f\",\"gridcolor\":\"white\",\"linecolor\":\"white\",\"minorgridcolor\":\"white\",\"startlinecolor\":\"#2a3f5f\"},\"baxis\":{\"endlinecolor\":\"#2a3f5f\",\"gridcolor\":\"white\",\"linecolor\":\"white\",\"minorgridcolor\":\"white\",\"startlinecolor\":\"#2a3f5f\"},\"type\":\"carpet\"}],\"table\":[{\"cells\":{\"fill\":{\"color\":\"#EBF0F8\"},\"line\":{\"color\":\"white\"}},\"header\":{\"fill\":{\"color\":\"#C8D4E3\"},\"line\":{\"color\":\"white\"}},\"type\":\"table\"}],\"barpolar\":[{\"marker\":{\"line\":{\"color\":\"#E5ECF6\",\"width\":0.5},\"pattern\":{\"fillmode\":\"overlay\",\"size\":10,\"solidity\":0.2}},\"type\":\"barpolar\"}],\"pie\":[{\"automargin\":true,\"type\":\"pie\"}]},\"layout\":{\"autotypenumbers\":\"strict\",\"colorway\":[\"#636efa\",\"#EF553B\",\"#00cc96\",\"#ab63fa\",\"#FFA15A\",\"#19d3f3\",\"#FF6692\",\"#B6E880\",\"#FF97FF\",\"#FECB52\"],\"font\":{\"color\":\"#2a3f5f\"},\"hovermode\":\"closest\",\"hoverlabel\":{\"align\":\"left\"},\"paper_bgcolor\":\"white\",\"plot_bgcolor\":\"#E5ECF6\",\"polar\":{\"bgcolor\":\"#E5ECF6\",\"angularaxis\":{\"gridcolor\":\"white\",\"linecolor\":\"white\",\"ticks\":\"\"},\"radialaxis\":{\"gridcolor\":\"white\",\"linecolor\":\"white\",\"ticks\":\"\"}},\"ternary\":{\"bgcolor\":\"#E5ECF6\",\"aaxis\":{\"gridcolor\":\"white\",\"linecolor\":\"white\",\"ticks\":\"\"},\"baxis\":{\"gridcolor\":\"white\",\"linecolor\":\"white\",\"ticks\":\"\"},\"caxis\":{\"gridcolor\":\"white\",\"linecolor\":\"white\",\"ticks\":\"\"}},\"coloraxis\":{\"colorbar\":{\"outlinewidth\":0,\"ticks\":\"\"}},\"colorscale\":{\"sequential\":[[0.0,\"#0d0887\"],[0.1111111111111111,\"#46039f\"],[0.2222222222222222,\"#7201a8\"],[0.3333333333333333,\"#9c179e\"],[0.4444444444444444,\"#bd3786\"],[0.5555555555555556,\"#d8576b\"],[0.6666666666666666,\"#ed7953\"],[0.7777777777777778,\"#fb9f3a\"],[0.8888888888888888,\"#fdca26\"],[1.0,\"#f0f921\"]],\"sequentialminus\":[[0.0,\"#0d0887\"],[0.1111111111111111,\"#46039f\"],[0.2222222222222222,\"#7201a8\"],[0.3333333333333333,\"#9c179e\"],[0.4444444444444444,\"#bd3786\"],[0.5555555555555556,\"#d8576b\"],[0.6666666666666666,\"#ed7953\"],[0.7777777777777778,\"#fb9f3a\"],[0.8888888888888888,\"#fdca26\"],[1.0,\"#f0f921\"]],\"diverging\":[[0,\"#8e0152\"],[0.1,\"#c51b7d\"],[0.2,\"#de77ae\"],[0.3,\"#f1b6da\"],[0.4,\"#fde0ef\"],[0.5,\"#f7f7f7\"],[0.6,\"#e6f5d0\"],[0.7,\"#b8e186\"],[0.8,\"#7fbc41\"],[0.9,\"#4d9221\"],[1,\"#276419\"]]},\"xaxis\":{\"gridcolor\":\"white\",\"linecolor\":\"white\",\"ticks\":\"\",\"title\":{\"standoff\":15},\"zerolinecolor\":\"white\",\"automargin\":true,\"zerolinewidth\":2},\"yaxis\":{\"gridcolor\":\"white\",\"linecolor\":\"white\",\"ticks\":\"\",\"title\":{\"standoff\":15},\"zerolinecolor\":\"white\",\"automargin\":true,\"zerolinewidth\":2},\"scene\":{\"xaxis\":{\"backgroundcolor\":\"#E5ECF6\",\"gridcolor\":\"white\",\"linecolor\":\"white\",\"showbackground\":true,\"ticks\":\"\",\"zerolinecolor\":\"white\",\"gridwidth\":2},\"yaxis\":{\"backgroundcolor\":\"#E5ECF6\",\"gridcolor\":\"white\",\"linecolor\":\"white\",\"showbackground\":true,\"ticks\":\"\",\"zerolinecolor\":\"white\",\"gridwidth\":2},\"zaxis\":{\"backgroundcolor\":\"#E5ECF6\",\"gridcolor\":\"white\",\"linecolor\":\"white\",\"showbackground\":true,\"ticks\":\"\",\"zerolinecolor\":\"white\",\"gridwidth\":2}},\"shapedefaults\":{\"line\":{\"color\":\"#2a3f5f\"}},\"annotationdefaults\":{\"arrowcolor\":\"#2a3f5f\",\"arrowhead\":0,\"arrowwidth\":1},\"geo\":{\"bgcolor\":\"white\",\"landcolor\":\"#E5ECF6\",\"subunitcolor\":\"white\",\"showland\":true,\"showlakes\":true,\"lakecolor\":\"white\"},\"title\":{\"x\":0.05},\"mapbox\":{\"style\":\"light\"}}},\"xaxis\":{\"anchor\":\"y\",\"domain\":[0.0,1.0],\"title\":{\"text\":\"FPR\"}},\"yaxis\":{\"anchor\":\"x\",\"domain\":[0.0,1.0],\"title\":{\"text\":\"TPR\"}},\"legend\":{\"title\":{\"text\":\"country\"},\"tracegroupgap\":0},\"title\":{\"text\":\"ROC Curve ISRAEL\"}},                        {\"responsive\": true}                    ).then(function(){\n                            \nvar gd = document.getElementById('226d860b-b306-4210-b374-c930b4ec38b4');\nvar x = new MutationObserver(function (mutations, observer) {{\n        var display = window.getComputedStyle(gd).display;\n        if (!display || display === 'none') {{\n            console.log([gd, 'removed!']);\n            Plotly.purge(gd);\n            observer.disconnect();\n        }}\n}});\n\n// Listen for the removal of the full notebook cells\nvar notebookContainer = gd.closest('#notebook-container');\nif (notebookContainer) {{\n    x.observe(notebookContainer, {childList: true});\n}}\n\n// Listen for the clearing of the current output cell\nvar outputEl = gd.closest('.output');\nif (outputEl) {{\n    x.observe(outputEl, {childList: true});\n}}\n\n                        })                };                });            </script>        </div>"
     },
     "metadata": {},
     "output_type": "display_data"
    }
   ],
   "source": [
    "# Load model from file\n",
    "model_path = 'models/example_israel_model.json'\n",
    "config_path = 'models/example_israel_model_configuration.json'\n",
    "with open(config_path) as f:\n",
    "    model_config = json.load(f)\n",
    "xgb_classifier = xgb.XGBClassifier()\n",
    "xgb_classifier.load_model(model_path)\n",
    "model_clusters  = pd.read_csv(model_config[\"CLUSTERS_DATA_PATH\"])\n",
    "X_train, y_train, X_test, y_test = utilities.split_train_test(model_clusters, model_config)\n",
    "\n",
    "pred_fig = graphs_templates.plot_top_prediction_labels(X_test, y_test, xgb_classifier, 0, show=True, title=f'Top Predictions {model_config[\"COUNTRY\"]}')\n",
    "y_prob = xgb_classifier.predict_proba(X_test)\n",
    "fpr, tpr, thresholds = roc_curve(y_test, y_prob[:, 1])\n",
    "# Calculate AUC\n",
    "df = pd.DataFrame({'fpr': fpr, 'tpr': tpr, 'thresholds': thresholds, \"country\": model_config[\"COUNTRY\"]})\n",
    "roc_fig = graphs_templates.plot_roc_curve(df, title=f'ROC Curve {model_config[\"COUNTRY\"]}', color_feature='country', show=True)"
   ],
   "metadata": {
    "collapsed": false,
    "ExecuteTime": {
     "end_time": "2024-05-16T08:57:00.493987900Z",
     "start_time": "2024-05-16T08:56:58.905679900Z"
    }
   },
   "id": "eb2b22132dafdcea"
  }
 ],
 "metadata": {
  "kernelspec": {
   "display_name": "Python 3",
   "language": "python",
   "name": "python3"
  },
  "language_info": {
   "codemirror_mode": {
    "name": "ipython",
    "version": 2
   },
   "file_extension": ".py",
   "mimetype": "text/x-python",
   "name": "python",
   "nbconvert_exporter": "python",
   "pygments_lexer": "ipython2",
   "version": "2.7.6"
  }
 },
 "nbformat": 4,
 "nbformat_minor": 5
}
