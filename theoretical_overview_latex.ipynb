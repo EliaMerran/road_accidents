{
 "cells": [
  {
   "cell_type": "code",
   "execution_count": 70,
   "id": "eeda101e-b740-4700-8bf2-55f9e2017070",
   "metadata": {
    "tags": []
   },
   "outputs": [],
   "source": [
    "import pandas as pd \n",
    "import numpy as np\n",
    "import os\n",
    "import matplotlib.pyplot as plt \n",
    "from scipy.stats import pearsonr"
   ]
  },
  {
   "cell_type": "markdown",
   "id": "7222b2a4",
   "metadata": {},
   "source": [
    "# Sensitivity analysis and parameter selection"
   ]
  },
  {
   "cell_type": "code",
   "execution_count": 2,
   "id": "74ceba68",
   "metadata": {},
   "outputs": [],
   "source": [
    "def get_run_risk_results(train_len, test_len):\n",
    "    file_path = f\"data/theoretical overview/Israel/{train_len}_{test_len}/accident_clusters_statistics_by_city.csv\"\n",
    "    cluster = pd.read_csv(file_path, usecols=[\"city\",  \"num_clusters\", \"Consistent Severity\", \"Improved Safety\", \"Severe Turnaround\", \"Stable Safety\"], index_col=\"city\")\n",
    "    cluster.columns = \"clusters SVR ISF ESV SAFE\".split()\n",
    "    cluster[\"minor\"] = cluster.SAFE + cluster.ESV\n",
    "    cluster[\"severe\"] = cluster.SVR + cluster.ISF\n",
    "    cluster.loc[\"total\"]= cluster.sum()\n",
    "    cluster = cluster[\"clusters minor severe SVR ISF ESV SAFE\".split()]\n",
    "    return (100. * cluster.loc[\"total\", \"ESV\"] / (cluster.loc[\"total\", \"ESV\"] + cluster.loc[\"total\", \"SAFE\"]), 100. * cluster.loc[\"total\", \"SVR\"] / (cluster.loc[\"total\", \"SVR\"] + cluster.loc[\"total\", \"ISF\"]) ) "
   ]
  },
  {
   "cell_type": "code",
   "execution_count": 3,
   "id": "421ff901",
   "metadata": {},
   "outputs": [],
   "source": [
    "results = []\n",
    "for train_len in [2, 3, 4, 5]:\n",
    "        for test_len in [1, 2, 3]:\n",
    "            risk = get_run_risk_results(train_len=train_len, test_len=test_len)\n",
    "            results.append([train_len, test_len] + list(risk))"
   ]
  },
  {
   "cell_type": "code",
   "execution_count": 4,
   "id": "2424036d",
   "metadata": {},
   "outputs": [],
   "source": [
    "results = pd.DataFrame(results, columns=\"train_len test_len rm rs\".split())\n",
    "results[\"ratio\"] = results.rm / results.rs "
   ]
  },
  {
   "cell_type": "code",
   "execution_count": 5,
   "id": "43ceef87",
   "metadata": {},
   "outputs": [
    {
     "data": {
      "text/html": [
       "<div>\n",
       "<style scoped>\n",
       "    .dataframe tbody tr th:only-of-type {\n",
       "        vertical-align: middle;\n",
       "    }\n",
       "\n",
       "    .dataframe tbody tr th {\n",
       "        vertical-align: top;\n",
       "    }\n",
       "\n",
       "    .dataframe thead th {\n",
       "        text-align: right;\n",
       "    }\n",
       "</style>\n",
       "<table border=\"1\" class=\"dataframe\">\n",
       "  <thead>\n",
       "    <tr style=\"text-align: right;\">\n",
       "      <th>test_len</th>\n",
       "      <th>1</th>\n",
       "      <th>2</th>\n",
       "      <th>3</th>\n",
       "    </tr>\n",
       "    <tr>\n",
       "      <th>train_len</th>\n",
       "      <th></th>\n",
       "      <th></th>\n",
       "      <th></th>\n",
       "    </tr>\n",
       "  </thead>\n",
       "  <tbody>\n",
       "    <tr>\n",
       "      <th>2</th>\n",
       "      <td>0.513948</td>\n",
       "      <td>0.553074</td>\n",
       "      <td>0.593923</td>\n",
       "    </tr>\n",
       "    <tr>\n",
       "      <th>3</th>\n",
       "      <td>0.485712</td>\n",
       "      <td>0.530901</td>\n",
       "      <td>0.581286</td>\n",
       "    </tr>\n",
       "    <tr>\n",
       "      <th>4</th>\n",
       "      <td>0.469634</td>\n",
       "      <td>0.525630</td>\n",
       "      <td>0.563520</td>\n",
       "    </tr>\n",
       "    <tr>\n",
       "      <th>5</th>\n",
       "      <td>0.467181</td>\n",
       "      <td>0.499063</td>\n",
       "      <td>0.529963</td>\n",
       "    </tr>\n",
       "  </tbody>\n",
       "</table>\n",
       "</div>"
      ],
      "text/plain": [
       "test_len          1         2         3\n",
       "train_len                              \n",
       "2          0.513948  0.553074  0.593923\n",
       "3          0.485712  0.530901  0.581286\n",
       "4          0.469634  0.525630  0.563520\n",
       "5          0.467181  0.499063  0.529963"
      ]
     },
     "execution_count": 5,
     "metadata": {},
     "output_type": "execute_result"
    }
   ],
   "source": [
    "results.pivot(index=\"train_len\", columns=\"test_len\", values=\"ratio\")"
   ]
  },
  {
   "cell_type": "code",
   "execution_count": 6,
   "id": "4a8df8f0",
   "metadata": {},
   "outputs": [
    {
     "name": "stdout",
     "output_type": "stream",
     "text": [
      "\\begin{tabular}{lrrr}\n",
      "test_len & 1 & 2 & 3 \\\\\n",
      "train_len &  &  &  \\\\\n",
      "2 & 51.39 & 55.31 & 59.39 \\\\\n",
      "3 & 48.57 & 53.09 & 58.13 \\\\\n",
      "4 & 46.96 & 52.56 & 56.35 \\\\\n",
      "5 & 46.72 & 49.91 & 53.00 \\\\\n",
      "\\end{tabular}\n",
      "\n"
     ]
    }
   ],
   "source": [
    "print((results.pivot(index=\"train_len\", columns=\"test_len\", values=\"ratio\")*100).style.format(precision=2).to_latex())"
   ]
  },
  {
   "cell_type": "code",
   "execution_count": 7,
   "id": "b6b38f61",
   "metadata": {},
   "outputs": [
    {
     "data": {
      "text/html": [
       "<div>\n",
       "<style scoped>\n",
       "    .dataframe tbody tr th:only-of-type {\n",
       "        vertical-align: middle;\n",
       "    }\n",
       "\n",
       "    .dataframe tbody tr th {\n",
       "        vertical-align: top;\n",
       "    }\n",
       "\n",
       "    .dataframe thead th {\n",
       "        text-align: right;\n",
       "    }\n",
       "</style>\n",
       "<table border=\"1\" class=\"dataframe\">\n",
       "  <thead>\n",
       "    <tr style=\"text-align: right;\">\n",
       "      <th>test_len</th>\n",
       "      <th>1</th>\n",
       "      <th>2</th>\n",
       "      <th>3</th>\n",
       "    </tr>\n",
       "    <tr>\n",
       "      <th>train_len</th>\n",
       "      <th></th>\n",
       "      <th></th>\n",
       "      <th></th>\n",
       "    </tr>\n",
       "  </thead>\n",
       "  <tbody>\n",
       "    <tr>\n",
       "      <th>2</th>\n",
       "      <td>8.462240</td>\n",
       "      <td>16.006403</td>\n",
       "      <td>21.821366</td>\n",
       "    </tr>\n",
       "    <tr>\n",
       "      <th>3</th>\n",
       "      <td>7.041746</td>\n",
       "      <td>12.856134</td>\n",
       "      <td>17.520094</td>\n",
       "    </tr>\n",
       "    <tr>\n",
       "      <th>4</th>\n",
       "      <td>5.540893</td>\n",
       "      <td>10.159047</td>\n",
       "      <td>13.684647</td>\n",
       "    </tr>\n",
       "    <tr>\n",
       "      <th>5</th>\n",
       "      <td>4.533554</td>\n",
       "      <td>8.095221</td>\n",
       "      <td>10.814842</td>\n",
       "    </tr>\n",
       "  </tbody>\n",
       "</table>\n",
       "</div>"
      ],
      "text/plain": [
       "test_len          1          2          3\n",
       "train_len                                \n",
       "2          8.462240  16.006403  21.821366\n",
       "3          7.041746  12.856134  17.520094\n",
       "4          5.540893  10.159047  13.684647\n",
       "5          4.533554   8.095221  10.814842"
      ]
     },
     "execution_count": 7,
     "metadata": {},
     "output_type": "execute_result"
    }
   ],
   "source": [
    "results.pivot(index=\"train_len\", columns=\"test_len\", values=\"rm\")"
   ]
  },
  {
   "cell_type": "code",
   "execution_count": 8,
   "id": "5f9e2446",
   "metadata": {},
   "outputs": [
    {
     "name": "stdout",
     "output_type": "stream",
     "text": [
      "\\begin{tabular}{lrrr}\n",
      "test_len & 1 & 2 & 3 \\\\\n",
      "train_len &  &  &  \\\\\n",
      "2 & 8.46 & 16.01 & 21.82 \\\\\n",
      "3 & 7.04 & 12.86 & 17.52 \\\\\n",
      "4 & 5.54 & 10.16 & 13.68 \\\\\n",
      "5 & 4.53 & 8.10 & 10.81 \\\\\n",
      "\\end{tabular}\n",
      "\n"
     ]
    }
   ],
   "source": [
    "print(results.pivot(index=\"train_len\", columns=\"test_len\", values=\"rm\").style.format(precision=2).to_latex())"
   ]
  },
  {
   "cell_type": "code",
   "execution_count": 9,
   "id": "6a9d0a22",
   "metadata": {},
   "outputs": [
    {
     "data": {
      "text/html": [
       "<div>\n",
       "<style scoped>\n",
       "    .dataframe tbody tr th:only-of-type {\n",
       "        vertical-align: middle;\n",
       "    }\n",
       "\n",
       "    .dataframe tbody tr th {\n",
       "        vertical-align: top;\n",
       "    }\n",
       "\n",
       "    .dataframe thead th {\n",
       "        text-align: right;\n",
       "    }\n",
       "</style>\n",
       "<table border=\"1\" class=\"dataframe\">\n",
       "  <thead>\n",
       "    <tr style=\"text-align: right;\">\n",
       "      <th>test_len</th>\n",
       "      <th>1</th>\n",
       "      <th>2</th>\n",
       "      <th>3</th>\n",
       "    </tr>\n",
       "    <tr>\n",
       "      <th>train_len</th>\n",
       "      <th></th>\n",
       "      <th></th>\n",
       "      <th></th>\n",
       "    </tr>\n",
       "  </thead>\n",
       "  <tbody>\n",
       "    <tr>\n",
       "      <th>2</th>\n",
       "      <td>16.465152</td>\n",
       "      <td>28.940816</td>\n",
       "      <td>36.741046</td>\n",
       "    </tr>\n",
       "    <tr>\n",
       "      <th>3</th>\n",
       "      <td>14.497779</td>\n",
       "      <td>24.215671</td>\n",
       "      <td>30.140229</td>\n",
       "    </tr>\n",
       "    <tr>\n",
       "      <th>4</th>\n",
       "      <td>11.798331</td>\n",
       "      <td>19.327385</td>\n",
       "      <td>24.284230</td>\n",
       "    </tr>\n",
       "    <tr>\n",
       "      <th>5</th>\n",
       "      <td>9.704061</td>\n",
       "      <td>16.220836</td>\n",
       "      <td>20.406800</td>\n",
       "    </tr>\n",
       "  </tbody>\n",
       "</table>\n",
       "</div>"
      ],
      "text/plain": [
       "test_len           1          2          3\n",
       "train_len                                 \n",
       "2          16.465152  28.940816  36.741046\n",
       "3          14.497779  24.215671  30.140229\n",
       "4          11.798331  19.327385  24.284230\n",
       "5           9.704061  16.220836  20.406800"
      ]
     },
     "execution_count": 9,
     "metadata": {},
     "output_type": "execute_result"
    }
   ],
   "source": [
    "results.pivot(index=\"train_len\", columns=\"test_len\", values=\"rs\")"
   ]
  },
  {
   "cell_type": "code",
   "execution_count": 10,
   "id": "e4571e20",
   "metadata": {},
   "outputs": [
    {
     "name": "stdout",
     "output_type": "stream",
     "text": [
      "\\begin{tabular}{lrrr}\n",
      "test_len & 1 & 2 & 3 \\\\\n",
      "train_len &  &  &  \\\\\n",
      "2 & 16.47 & 28.94 & 36.74 \\\\\n",
      "3 & 14.50 & 24.22 & 30.14 \\\\\n",
      "4 & 11.80 & 19.33 & 24.28 \\\\\n",
      "5 & 9.70 & 16.22 & 20.41 \\\\\n",
      "\\end{tabular}\n",
      "\n"
     ]
    }
   ],
   "source": [
    "print(results.pivot(index=\"train_len\", columns=\"test_len\", values=\"rs\").style.format(precision=2).to_latex())"
   ]
  },
  {
   "cell_type": "markdown",
   "id": "0dc58168",
   "metadata": {},
   "source": [
    "# Main"
   ]
  },
  {
   "cell_type": "code",
   "execution_count": 11,
   "id": "607421f6",
   "metadata": {},
   "outputs": [],
   "source": [
    "# The chosen parameter values are:\n",
    "train_len = test_len = 3 \n",
    "base_dir = \"data/theoretical overview/Israel/\"\n",
    "use_dir = os.path.join(base_dir, f\"{train_len}_{test_len}/\")\n",
    "REMOVE_CITY_NAMES = True"
   ]
  },
  {
   "cell_type": "markdown",
   "id": "6dc6c440-54d5-477a-a637-102c5ca49430",
   "metadata": {},
   "source": [
    "## Taxonomy"
   ]
  },
  {
   "cell_type": "code",
   "execution_count": 12,
   "id": "a12a3153-1d46-41ce-aa03-8ebcc525f310",
   "metadata": {
    "tags": []
   },
   "outputs": [
    {
     "name": "stdout",
     "output_type": "stream",
     "text": [
      "\\begin{tabular}{lll}\n",
      "\\toprule\n",
      " & test severe & test minor \\\\\n",
      "\\midrule\n",
      "train severe & SVR & ISF \\\\\n",
      "train minor & ESV & SAFE \\\\\n",
      "\\bottomrule\n",
      "\\end{tabular}\n",
      "\n"
     ]
    }
   ],
   "source": [
    "table = pd.DataFrame([[\"SVR\", \"ISF\"] ,[\"ESV\", \"SAFE\"]], index=[\"train severe\", \"train minor\"], columns=[\"test severe\", \"test minor\"])\n",
    "print(table.to_latex())"
   ]
  },
  {
   "cell_type": "code",
   "execution_count": 13,
   "id": "caaed3ae-3736-4e63-93d7-8089cdb1015f",
   "metadata": {
    "tags": []
   },
   "outputs": [],
   "source": [
    "# 2019 population (X1000)\n",
    "pop2019 = {'Jerusalem': 936.0,\n",
    " 'Tel Aviv - Yafo': 461.0,\n",
    " 'Haifa': 285.0,\n",
    " 'Rishon LeZiyyon': 254.0,\n",
    " 'Petah Tiqwa': 248.0,\n",
    " 'Ashdod': 226.0,\n",
    " 'Netanya': 221.0,\n",
    " \"Be'er Sheva\": 210.0,\n",
    " 'Bene Beraq': 205.0,\n",
    " 'Holon': 196.0,\n",
    " 'Ramat Gan': 163.0,\n",
    " 'Ashqelon': 144.0,\n",
    " 'Rehovot': 144.0,\n",
    " 'Bat Yam': 129.0,\n",
    " 'Bet Shemesh': 125.0,\n",
    " 'Kefar Sava': 101.0,\n",
    " 'Herzliyya': 97.0,\n",
    " 'Hadera': 97.0,\n",
    " \"Modi'in-Makkabbim-Re'ut\": 93.0,\n",
    " 'Lod': 77.0}"
   ]
  },
  {
   "cell_type": "markdown",
   "id": "760a28f1-61e0-4f59-80b5-7482e9623771",
   "metadata": {},
   "source": [
    "## City table "
   ]
  },
  {
   "cell_type": "code",
   "execution_count": 14,
   "id": "95d02bcf-56b1-4703-91b4-8f1267bd5601",
   "metadata": {
    "tags": []
   },
   "outputs": [],
   "source": [
    "\n",
    "city = pd.read_csv(base_dir+\"accident_statistics_by_city.csv\", index_col=0)\n",
    "city[\"total_minor\"] = city.PDO + city.light \n",
    "city[\"total_severe\"] = city.severe + city.fatality\n",
    "city[\"population\"] = pd.Series(pop2019)\n",
    "city = city[\"population PDO light severe fatality total_minor total_severe total_accidents\".split()]\n",
    "city.sort_values(\"population\", ascending=False, inplace=True)"
   ]
  },
  {
   "cell_type": "code",
   "execution_count": 15,
   "id": "135e5824-f5e1-46eb-a78d-d32c30bc1211",
   "metadata": {
    "tags": []
   },
   "outputs": [],
   "source": [
    "city_codes = pd.Series(city.index, index=[f\"city-{i+1}\" for i in range(city.shape[0])])"
   ]
  },
  {
   "cell_type": "code",
   "execution_count": 16,
   "id": "fa638b77-8708-4806-8ccf-5d79ba7dc7b6",
   "metadata": {
    "tags": []
   },
   "outputs": [
    {
     "data": {
      "text/plain": [
       "\"city-1: Jerusalem; city-2: Tel Aviv - Yafo; city-3: Haifa; city-4: Rishon LeZiyyon; city-5: Petah Tiqwa; city-6: Ashdod; city-7: Netanya; city-8: Be'er Sheva; city-9: Bene Beraq; city-10: Holon; city-11: Ramat Gan; city-12: Ashqelon; city-13: Rehovot; city-14: Bat Yam; city-15: Bet Shemesh; city-16: Kefar Sava; city-17: Herzliyya; city-18: Hadera; city-19: Modi'in-Makkabbim-Re'ut; city-20: Lod\""
      ]
     },
     "execution_count": 16,
     "metadata": {},
     "output_type": "execute_result"
    }
   ],
   "source": [
    "\"; \".join([f\"{c}: {v}\" for c, v in zip(city_codes.index, city_codes.values)])"
   ]
  },
  {
   "cell_type": "code",
   "execution_count": 17,
   "id": "51a4f5a4-aedc-4c3f-b761-0dd0e33d5c05",
   "metadata": {
    "tags": []
   },
   "outputs": [],
   "source": [
    "if REMOVE_CITY_NAMES:\n",
    "    city.index = city_codes.index "
   ]
  },
  {
   "cell_type": "code",
   "execution_count": 18,
   "id": "0877151e-7fae-4859-b878-19b4fccc712c",
   "metadata": {
    "tags": []
   },
   "outputs": [],
   "source": [
    "city.loc[\"total\"]= city.sum()"
   ]
  },
  {
   "cell_type": "code",
   "execution_count": 19,
   "id": "55d9eb3c-765c-4bba-ae8e-8b6fc3fc9b6a",
   "metadata": {
    "tags": []
   },
   "outputs": [
    {
     "data": {
      "text/html": [
       "<div>\n",
       "<style scoped>\n",
       "    .dataframe tbody tr th:only-of-type {\n",
       "        vertical-align: middle;\n",
       "    }\n",
       "\n",
       "    .dataframe tbody tr th {\n",
       "        vertical-align: top;\n",
       "    }\n",
       "\n",
       "    .dataframe thead th {\n",
       "        text-align: right;\n",
       "    }\n",
       "</style>\n",
       "<table border=\"1\" class=\"dataframe\">\n",
       "  <thead>\n",
       "    <tr style=\"text-align: right;\">\n",
       "      <th></th>\n",
       "      <th>population</th>\n",
       "      <th>PDO</th>\n",
       "      <th>light</th>\n",
       "      <th>severe</th>\n",
       "      <th>fatality</th>\n",
       "      <th>total_minor</th>\n",
       "      <th>total_severe</th>\n",
       "      <th>total_accidents</th>\n",
       "    </tr>\n",
       "  </thead>\n",
       "  <tbody>\n",
       "    <tr>\n",
       "      <th>city-1</th>\n",
       "      <td>936.0</td>\n",
       "      <td>291.416667</td>\n",
       "      <td>446.500000</td>\n",
       "      <td>67.166667</td>\n",
       "      <td>4.666667</td>\n",
       "      <td>737.916667</td>\n",
       "      <td>71.833333</td>\n",
       "      <td>809.750000</td>\n",
       "    </tr>\n",
       "    <tr>\n",
       "      <th>city-2</th>\n",
       "      <td>461.0</td>\n",
       "      <td>1034.666667</td>\n",
       "      <td>1061.000000</td>\n",
       "      <td>136.083333</td>\n",
       "      <td>12.916667</td>\n",
       "      <td>2095.666667</td>\n",
       "      <td>149.000000</td>\n",
       "      <td>2244.666667</td>\n",
       "    </tr>\n",
       "    <tr>\n",
       "      <th>city-3</th>\n",
       "      <td>285.0</td>\n",
       "      <td>183.666667</td>\n",
       "      <td>308.333333</td>\n",
       "      <td>44.083333</td>\n",
       "      <td>5.666667</td>\n",
       "      <td>492.000000</td>\n",
       "      <td>49.750000</td>\n",
       "      <td>541.750000</td>\n",
       "    </tr>\n",
       "    <tr>\n",
       "      <th>city-4</th>\n",
       "      <td>254.0</td>\n",
       "      <td>422.750000</td>\n",
       "      <td>186.750000</td>\n",
       "      <td>19.833333</td>\n",
       "      <td>2.500000</td>\n",
       "      <td>609.500000</td>\n",
       "      <td>22.333333</td>\n",
       "      <td>631.833333</td>\n",
       "    </tr>\n",
       "    <tr>\n",
       "      <th>city-5</th>\n",
       "      <td>248.0</td>\n",
       "      <td>245.750000</td>\n",
       "      <td>251.916667</td>\n",
       "      <td>22.500000</td>\n",
       "      <td>4.416667</td>\n",
       "      <td>497.666667</td>\n",
       "      <td>26.916667</td>\n",
       "      <td>524.583333</td>\n",
       "    </tr>\n",
       "    <tr>\n",
       "      <th>city-6</th>\n",
       "      <td>226.0</td>\n",
       "      <td>178.416667</td>\n",
       "      <td>188.833333</td>\n",
       "      <td>16.916667</td>\n",
       "      <td>2.500000</td>\n",
       "      <td>367.250000</td>\n",
       "      <td>19.416667</td>\n",
       "      <td>386.666667</td>\n",
       "    </tr>\n",
       "    <tr>\n",
       "      <th>city-7</th>\n",
       "      <td>221.0</td>\n",
       "      <td>164.166667</td>\n",
       "      <td>157.416667</td>\n",
       "      <td>13.500000</td>\n",
       "      <td>2.583333</td>\n",
       "      <td>321.583333</td>\n",
       "      <td>16.083333</td>\n",
       "      <td>337.666667</td>\n",
       "    </tr>\n",
       "    <tr>\n",
       "      <th>city-8</th>\n",
       "      <td>210.0</td>\n",
       "      <td>138.083333</td>\n",
       "      <td>236.500000</td>\n",
       "      <td>14.666667</td>\n",
       "      <td>2.166667</td>\n",
       "      <td>374.583333</td>\n",
       "      <td>16.833333</td>\n",
       "      <td>391.416667</td>\n",
       "    </tr>\n",
       "    <tr>\n",
       "      <th>city-9</th>\n",
       "      <td>205.0</td>\n",
       "      <td>126.833333</td>\n",
       "      <td>137.583333</td>\n",
       "      <td>18.666667</td>\n",
       "      <td>1.333333</td>\n",
       "      <td>264.416667</td>\n",
       "      <td>20.000000</td>\n",
       "      <td>284.416667</td>\n",
       "    </tr>\n",
       "    <tr>\n",
       "      <th>city-10</th>\n",
       "      <td>196.0</td>\n",
       "      <td>243.833333</td>\n",
       "      <td>248.916667</td>\n",
       "      <td>21.166667</td>\n",
       "      <td>2.166667</td>\n",
       "      <td>492.750000</td>\n",
       "      <td>23.333333</td>\n",
       "      <td>516.083333</td>\n",
       "    </tr>\n",
       "    <tr>\n",
       "      <th>city-11</th>\n",
       "      <td>163.0</td>\n",
       "      <td>185.166667</td>\n",
       "      <td>177.833333</td>\n",
       "      <td>25.000000</td>\n",
       "      <td>2.416667</td>\n",
       "      <td>363.000000</td>\n",
       "      <td>27.416667</td>\n",
       "      <td>390.416667</td>\n",
       "    </tr>\n",
       "    <tr>\n",
       "      <th>city-12</th>\n",
       "      <td>144.0</td>\n",
       "      <td>164.250000</td>\n",
       "      <td>104.250000</td>\n",
       "      <td>10.583333</td>\n",
       "      <td>1.916667</td>\n",
       "      <td>268.500000</td>\n",
       "      <td>12.500000</td>\n",
       "      <td>281.000000</td>\n",
       "    </tr>\n",
       "    <tr>\n",
       "      <th>city-13</th>\n",
       "      <td>144.0</td>\n",
       "      <td>129.250000</td>\n",
       "      <td>113.083333</td>\n",
       "      <td>7.583333</td>\n",
       "      <td>1.916667</td>\n",
       "      <td>242.333333</td>\n",
       "      <td>9.500000</td>\n",
       "      <td>251.833333</td>\n",
       "    </tr>\n",
       "    <tr>\n",
       "      <th>city-14</th>\n",
       "      <td>129.0</td>\n",
       "      <td>151.666667</td>\n",
       "      <td>177.500000</td>\n",
       "      <td>18.333333</td>\n",
       "      <td>2.250000</td>\n",
       "      <td>329.166667</td>\n",
       "      <td>20.583333</td>\n",
       "      <td>349.750000</td>\n",
       "    </tr>\n",
       "    <tr>\n",
       "      <th>city-15</th>\n",
       "      <td>125.0</td>\n",
       "      <td>17.333333</td>\n",
       "      <td>16.916667</td>\n",
       "      <td>3.500000</td>\n",
       "      <td>0.333333</td>\n",
       "      <td>34.250000</td>\n",
       "      <td>3.833333</td>\n",
       "      <td>38.083333</td>\n",
       "    </tr>\n",
       "    <tr>\n",
       "      <th>city-16</th>\n",
       "      <td>101.0</td>\n",
       "      <td>69.416667</td>\n",
       "      <td>83.500000</td>\n",
       "      <td>4.833333</td>\n",
       "      <td>0.750000</td>\n",
       "      <td>152.916667</td>\n",
       "      <td>5.583333</td>\n",
       "      <td>158.500000</td>\n",
       "    </tr>\n",
       "    <tr>\n",
       "      <th>city-17</th>\n",
       "      <td>97.0</td>\n",
       "      <td>90.250000</td>\n",
       "      <td>82.666667</td>\n",
       "      <td>9.333333</td>\n",
       "      <td>1.333333</td>\n",
       "      <td>172.916667</td>\n",
       "      <td>10.666667</td>\n",
       "      <td>183.583333</td>\n",
       "    </tr>\n",
       "    <tr>\n",
       "      <th>city-18</th>\n",
       "      <td>97.0</td>\n",
       "      <td>85.416667</td>\n",
       "      <td>108.666667</td>\n",
       "      <td>10.750000</td>\n",
       "      <td>1.083333</td>\n",
       "      <td>194.083333</td>\n",
       "      <td>11.833333</td>\n",
       "      <td>205.916667</td>\n",
       "    </tr>\n",
       "    <tr>\n",
       "      <th>city-19</th>\n",
       "      <td>93.0</td>\n",
       "      <td>85.750000</td>\n",
       "      <td>40.250000</td>\n",
       "      <td>3.083333</td>\n",
       "      <td>0.250000</td>\n",
       "      <td>126.000000</td>\n",
       "      <td>3.333333</td>\n",
       "      <td>129.333333</td>\n",
       "    </tr>\n",
       "    <tr>\n",
       "      <th>city-20</th>\n",
       "      <td>77.0</td>\n",
       "      <td>62.000000</td>\n",
       "      <td>33.083333</td>\n",
       "      <td>6.000000</td>\n",
       "      <td>0.750000</td>\n",
       "      <td>95.083333</td>\n",
       "      <td>6.750000</td>\n",
       "      <td>101.833333</td>\n",
       "    </tr>\n",
       "    <tr>\n",
       "      <th>total</th>\n",
       "      <td>4412.0</td>\n",
       "      <td>4070.083333</td>\n",
       "      <td>4161.500000</td>\n",
       "      <td>473.583333</td>\n",
       "      <td>53.916667</td>\n",
       "      <td>8231.583333</td>\n",
       "      <td>527.500000</td>\n",
       "      <td>8759.083333</td>\n",
       "    </tr>\n",
       "  </tbody>\n",
       "</table>\n",
       "</div>"
      ],
      "text/plain": [
       "         population          PDO        light      severe   fatality  \\\n",
       "city-1        936.0   291.416667   446.500000   67.166667   4.666667   \n",
       "city-2        461.0  1034.666667  1061.000000  136.083333  12.916667   \n",
       "city-3        285.0   183.666667   308.333333   44.083333   5.666667   \n",
       "city-4        254.0   422.750000   186.750000   19.833333   2.500000   \n",
       "city-5        248.0   245.750000   251.916667   22.500000   4.416667   \n",
       "city-6        226.0   178.416667   188.833333   16.916667   2.500000   \n",
       "city-7        221.0   164.166667   157.416667   13.500000   2.583333   \n",
       "city-8        210.0   138.083333   236.500000   14.666667   2.166667   \n",
       "city-9        205.0   126.833333   137.583333   18.666667   1.333333   \n",
       "city-10       196.0   243.833333   248.916667   21.166667   2.166667   \n",
       "city-11       163.0   185.166667   177.833333   25.000000   2.416667   \n",
       "city-12       144.0   164.250000   104.250000   10.583333   1.916667   \n",
       "city-13       144.0   129.250000   113.083333    7.583333   1.916667   \n",
       "city-14       129.0   151.666667   177.500000   18.333333   2.250000   \n",
       "city-15       125.0    17.333333    16.916667    3.500000   0.333333   \n",
       "city-16       101.0    69.416667    83.500000    4.833333   0.750000   \n",
       "city-17        97.0    90.250000    82.666667    9.333333   1.333333   \n",
       "city-18        97.0    85.416667   108.666667   10.750000   1.083333   \n",
       "city-19        93.0    85.750000    40.250000    3.083333   0.250000   \n",
       "city-20        77.0    62.000000    33.083333    6.000000   0.750000   \n",
       "total        4412.0  4070.083333  4161.500000  473.583333  53.916667   \n",
       "\n",
       "         total_minor  total_severe  total_accidents  \n",
       "city-1    737.916667     71.833333       809.750000  \n",
       "city-2   2095.666667    149.000000      2244.666667  \n",
       "city-3    492.000000     49.750000       541.750000  \n",
       "city-4    609.500000     22.333333       631.833333  \n",
       "city-5    497.666667     26.916667       524.583333  \n",
       "city-6    367.250000     19.416667       386.666667  \n",
       "city-7    321.583333     16.083333       337.666667  \n",
       "city-8    374.583333     16.833333       391.416667  \n",
       "city-9    264.416667     20.000000       284.416667  \n",
       "city-10   492.750000     23.333333       516.083333  \n",
       "city-11   363.000000     27.416667       390.416667  \n",
       "city-12   268.500000     12.500000       281.000000  \n",
       "city-13   242.333333      9.500000       251.833333  \n",
       "city-14   329.166667     20.583333       349.750000  \n",
       "city-15    34.250000      3.833333        38.083333  \n",
       "city-16   152.916667      5.583333       158.500000  \n",
       "city-17   172.916667     10.666667       183.583333  \n",
       "city-18   194.083333     11.833333       205.916667  \n",
       "city-19   126.000000      3.333333       129.333333  \n",
       "city-20    95.083333      6.750000       101.833333  \n",
       "total    8231.583333    527.500000      8759.083333  "
      ]
     },
     "execution_count": 19,
     "metadata": {},
     "output_type": "execute_result"
    }
   ],
   "source": [
    "city"
   ]
  },
  {
   "cell_type": "code",
   "execution_count": 20,
   "id": "2ec884d7-fe36-42fb-91cf-6a4eba60672c",
   "metadata": {
    "tags": []
   },
   "outputs": [
    {
     "name": "stdout",
     "output_type": "stream",
     "text": [
      "\\begin{tabular}{lrrrrrrrr}\n",
      " & population & PDO & light & severe & fatality & total_minor & total_severe & total_accidents \\\\\n",
      "city-1 & 936 & 291 & 446 & 67 & 5 & 738 & 72 & 810 \\\\\n",
      "city-2 & 461 & 1035 & 1061 & 136 & 13 & 2096 & 149 & 2245 \\\\\n",
      "city-3 & 285 & 184 & 308 & 44 & 6 & 492 & 50 & 542 \\\\\n",
      "city-4 & 254 & 423 & 187 & 20 & 2 & 610 & 22 & 632 \\\\\n",
      "city-5 & 248 & 246 & 252 & 22 & 4 & 498 & 27 & 525 \\\\\n",
      "city-6 & 226 & 178 & 189 & 17 & 2 & 367 & 19 & 387 \\\\\n",
      "city-7 & 221 & 164 & 157 & 14 & 3 & 322 & 16 & 338 \\\\\n",
      "city-8 & 210 & 138 & 236 & 15 & 2 & 375 & 17 & 391 \\\\\n",
      "city-9 & 205 & 127 & 138 & 19 & 1 & 264 & 20 & 284 \\\\\n",
      "city-10 & 196 & 244 & 249 & 21 & 2 & 493 & 23 & 516 \\\\\n",
      "city-11 & 163 & 185 & 178 & 25 & 2 & 363 & 27 & 390 \\\\\n",
      "city-12 & 144 & 164 & 104 & 11 & 2 & 268 & 12 & 281 \\\\\n",
      "city-13 & 144 & 129 & 113 & 8 & 2 & 242 & 10 & 252 \\\\\n",
      "city-14 & 129 & 152 & 178 & 18 & 2 & 329 & 21 & 350 \\\\\n",
      "city-15 & 125 & 17 & 17 & 4 & 0 & 34 & 4 & 38 \\\\\n",
      "city-16 & 101 & 69 & 84 & 5 & 1 & 153 & 6 & 158 \\\\\n",
      "city-17 & 97 & 90 & 83 & 9 & 1 & 173 & 11 & 184 \\\\\n",
      "city-18 & 97 & 85 & 109 & 11 & 1 & 194 & 12 & 206 \\\\\n",
      "city-19 & 93 & 86 & 40 & 3 & 0 & 126 & 3 & 129 \\\\\n",
      "city-20 & 77 & 62 & 33 & 6 & 1 & 95 & 7 & 102 \\\\\n",
      "total & 4412 & 4070 & 4161 & 474 & 54 & 8232 & 528 & 8759 \\\\\n",
      "\\end{tabular}\n",
      "\n"
     ]
    }
   ],
   "source": [
    "print(city.style.format(precision=0).to_latex())"
   ]
  },
  {
   "cell_type": "code",
   "execution_count": 34,
   "id": "50c14f57",
   "metadata": {},
   "outputs": [
    {
     "data": {
      "text/plain": [
       "105108"
      ]
     },
     "execution_count": 34,
     "metadata": {},
     "output_type": "execute_result"
    }
   ],
   "source": [
    "8759*12"
   ]
  },
  {
   "cell_type": "markdown",
   "id": "d65c1cc0-c935-44a4-8697-afdcb654d847",
   "metadata": {},
   "source": [
    "## Accdients and exact locations"
   ]
  },
  {
   "cell_type": "code",
   "execution_count": 21,
   "id": "f7306ab3-8f5d-4bb8-bb91-d69b18c0eb55",
   "metadata": {
    "tags": []
   },
   "outputs": [
    {
     "data": {
      "text/plain": [
       "353726"
      ]
     },
     "execution_count": 21,
     "metadata": {},
     "output_type": "execute_result"
    }
   ],
   "source": [
    "locs = pd.read_csv(base_dir+\"location_accuracy.csv\", index_col=0).reset_index()\n",
    "locs = locs[\"STATUS_IGUN HUMRAT_TEUNA count\".split()]\n",
    "locs = locs.pivot(index=\"HUMRAT_TEUNA\", columns=\"STATUS_IGUN\", values=\"count\")\n",
    "locs.columns = [\"Exact\", \"City\", \"Road\"]\n",
    "locs.index = \"property_damage light severe fatality\".split()[::-1]\n",
    "locs.sum().sum()"
   ]
  },
  {
   "cell_type": "code",
   "execution_count": 22,
   "id": "9be7bcec-e388-4c7a-880b-7f212e558dc4",
   "metadata": {
    "tags": []
   },
   "outputs": [
    {
     "data": {
      "text/html": [
       "<div>\n",
       "<style scoped>\n",
       "    .dataframe tbody tr th:only-of-type {\n",
       "        vertical-align: middle;\n",
       "    }\n",
       "\n",
       "    .dataframe tbody tr th {\n",
       "        vertical-align: top;\n",
       "    }\n",
       "\n",
       "    .dataframe thead th {\n",
       "        text-align: right;\n",
       "    }\n",
       "</style>\n",
       "<table border=\"1\" class=\"dataframe\">\n",
       "  <thead>\n",
       "    <tr style=\"text-align: right;\">\n",
       "      <th></th>\n",
       "      <th>Exact</th>\n",
       "      <th>City</th>\n",
       "      <th>Road</th>\n",
       "    </tr>\n",
       "  </thead>\n",
       "  <tbody>\n",
       "    <tr>\n",
       "      <th>fatality</th>\n",
       "      <td>647</td>\n",
       "      <td>21</td>\n",
       "      <td>277</td>\n",
       "    </tr>\n",
       "    <tr>\n",
       "      <th>severe</th>\n",
       "      <td>5683</td>\n",
       "      <td>471</td>\n",
       "      <td>2715</td>\n",
       "    </tr>\n",
       "    <tr>\n",
       "      <th>light</th>\n",
       "      <td>49938</td>\n",
       "      <td>2294</td>\n",
       "      <td>20709</td>\n",
       "    </tr>\n",
       "    <tr>\n",
       "      <th>property_damage</th>\n",
       "      <td>48841</td>\n",
       "      <td>47531</td>\n",
       "      <td>174599</td>\n",
       "    </tr>\n",
       "  </tbody>\n",
       "</table>\n",
       "</div>"
      ],
      "text/plain": [
       "                 Exact   City    Road\n",
       "fatality           647     21     277\n",
       "severe            5683    471    2715\n",
       "light            49938   2294   20709\n",
       "property_damage  48841  47531  174599"
      ]
     },
     "execution_count": 22,
     "metadata": {},
     "output_type": "execute_result"
    }
   ],
   "source": [
    "locs"
   ]
  },
  {
   "cell_type": "code",
   "execution_count": 23,
   "id": "70acfa9f",
   "metadata": {},
   "outputs": [
    {
     "name": "stdout",
     "output_type": "stream",
     "text": [
      "Total crashes [20 cities]: 353726\n",
      "Of them by severity:\n",
      "------------------------------\n",
      "fatality              945\n",
      "severe               8869\n",
      "light               72941\n",
      "property_damage    270971\n",
      "dtype: int64\n",
      "------------------------------\n",
      "With exact location: 105109\n",
      "By severity\n",
      "------------------------------\n",
      "fatality             647\n",
      "severe              5683\n",
      "light              49938\n",
      "property_damage    48841\n",
      "Name: Exact, dtype: int64\n",
      "------------------------------\n"
     ]
    }
   ],
   "source": [
    "print(f\"Total crashes [20 cities]: {locs.sum().sum()}\")\n",
    "print(\"Of them by severity:\")\n",
    "print(\"-\"*30)\n",
    "print(locs.T.sum())\n",
    "print(\"-\"*30)\n",
    "print(f\"With exact location: {locs.sum()['Exact']}\")\n",
    "print(\"By severity\")\n",
    "print(\"-\"*30)\n",
    "print(locs[\"Exact\"])\n",
    "print(\"-\"*30)\n"
   ]
  },
  {
   "cell_type": "code",
   "execution_count": 47,
   "id": "bd921cbf",
   "metadata": {},
   "outputs": [
    {
     "data": {
      "text/plain": [
       "29.714807506374992"
      ]
     },
     "execution_count": 47,
     "metadata": {},
     "output_type": "execute_result"
    }
   ],
   "source": [
    "105109 / 353726 * 100 "
   ]
  },
  {
   "cell_type": "code",
   "execution_count": 24,
   "id": "657c921c",
   "metadata": {},
   "outputs": [
    {
     "data": {
      "text/plain": [
       "(8759.083333333334, 8759.083333333334)"
      ]
     },
     "execution_count": 24,
     "metadata": {},
     "output_type": "execute_result"
    }
   ],
   "source": [
    "city.loc['total', 'total_accidents'], locs.sum()[\"Exact\"] / 12"
   ]
  },
  {
   "cell_type": "code",
   "execution_count": 25,
   "id": "e032e560-eaf1-4e37-a323-87ac8f90d56f",
   "metadata": {
    "tags": []
   },
   "outputs": [
    {
     "name": "stderr",
     "output_type": "stream",
     "text": [
      "/var/folders/7_/f6wkwgnn5cj_vwzpbz33k18w0000gn/T/ipykernel_97214/1749245313.py:1: FutureWarning: Setting an item of incompatible dtype is deprecated and will raise in a future error of pandas. Value '68.46560846560847' has dtype incompatible with int64, please explicitly cast to a compatible dtype first.\n",
      "  locs.loc[\"fatality\"] = locs.loc[\"fatality\"] / locs.loc[\"fatality\"].sum() * 100\n",
      "/var/folders/7_/f6wkwgnn5cj_vwzpbz33k18w0000gn/T/ipykernel_97214/1749245313.py:1: FutureWarning: Setting an item of incompatible dtype is deprecated and will raise in a future error of pandas. Value '2.2222222222222223' has dtype incompatible with int64, please explicitly cast to a compatible dtype first.\n",
      "  locs.loc[\"fatality\"] = locs.loc[\"fatality\"] / locs.loc[\"fatality\"].sum() * 100\n",
      "/var/folders/7_/f6wkwgnn5cj_vwzpbz33k18w0000gn/T/ipykernel_97214/1749245313.py:1: FutureWarning: Setting an item of incompatible dtype is deprecated and will raise in a future error of pandas. Value '29.31216931216931' has dtype incompatible with int64, please explicitly cast to a compatible dtype first.\n",
      "  locs.loc[\"fatality\"] = locs.loc[\"fatality\"] / locs.loc[\"fatality\"].sum() * 100\n"
     ]
    },
    {
     "data": {
      "text/html": [
       "<div>\n",
       "<style scoped>\n",
       "    .dataframe tbody tr th:only-of-type {\n",
       "        vertical-align: middle;\n",
       "    }\n",
       "\n",
       "    .dataframe tbody tr th {\n",
       "        vertical-align: top;\n",
       "    }\n",
       "\n",
       "    .dataframe thead th {\n",
       "        text-align: right;\n",
       "    }\n",
       "</style>\n",
       "<table border=\"1\" class=\"dataframe\">\n",
       "  <thead>\n",
       "    <tr style=\"text-align: right;\">\n",
       "      <th></th>\n",
       "      <th>Exact</th>\n",
       "      <th>Road</th>\n",
       "      <th>City</th>\n",
       "    </tr>\n",
       "  </thead>\n",
       "  <tbody>\n",
       "    <tr>\n",
       "      <th>fatality</th>\n",
       "      <td>68.465608</td>\n",
       "      <td>29.312169</td>\n",
       "      <td>2.222222</td>\n",
       "    </tr>\n",
       "    <tr>\n",
       "      <th>severe</th>\n",
       "      <td>64.077123</td>\n",
       "      <td>30.612245</td>\n",
       "      <td>5.310633</td>\n",
       "    </tr>\n",
       "    <tr>\n",
       "      <th>light</th>\n",
       "      <td>68.463553</td>\n",
       "      <td>28.391440</td>\n",
       "      <td>3.145008</td>\n",
       "    </tr>\n",
       "    <tr>\n",
       "      <th>property_damage</th>\n",
       "      <td>18.024438</td>\n",
       "      <td>64.434570</td>\n",
       "      <td>17.540991</td>\n",
       "    </tr>\n",
       "  </tbody>\n",
       "</table>\n",
       "</div>"
      ],
      "text/plain": [
       "                     Exact       Road       City\n",
       "fatality         68.465608  29.312169   2.222222\n",
       "severe           64.077123  30.612245   5.310633\n",
       "light            68.463553  28.391440   3.145008\n",
       "property_damage  18.024438  64.434570  17.540991"
      ]
     },
     "execution_count": 25,
     "metadata": {},
     "output_type": "execute_result"
    }
   ],
   "source": [
    "locs.loc[\"fatality\"] = locs.loc[\"fatality\"] / locs.loc[\"fatality\"].sum() * 100 \n",
    "locs.loc[\"severe\"] = locs.loc[\"severe\"] / locs.loc[\"severe\"].sum() * 100 \n",
    "locs.loc[\"light\"] = locs.loc[\"light\"] / locs.loc[\"light\"].sum() * 100 \n",
    "locs.loc[\"property_damage\"] = locs.loc[\"property_damage\"] / locs.loc[\"property_damage\"].sum() * 100 \n",
    "\n",
    "locs = locs[\"Exact Road City\".split()]\n",
    "\n",
    "locs"
   ]
  },
  {
   "cell_type": "code",
   "execution_count": 26,
   "id": "4adc4298-34d5-4f82-b040-8e0dd91920db",
   "metadata": {
    "tags": []
   },
   "outputs": [
    {
     "name": "stdout",
     "output_type": "stream",
     "text": [
      "\\begin{tabular}{lrrr}\n",
      " & Exact & Road & City \\\\\n",
      "fatality & 68 & 29 & 2 \\\\\n",
      "severe & 64 & 31 & 5 \\\\\n",
      "light & 68 & 28 & 3 \\\\\n",
      "property_damage & 18 & 64 & 18 \\\\\n",
      "\\end{tabular}\n",
      "\n"
     ]
    }
   ],
   "source": [
    "print(locs.style.format(precision=0).to_latex())"
   ]
  },
  {
   "cell_type": "markdown",
   "id": "c38c9393-cf3a-4062-8c65-182ef0203d9e",
   "metadata": {},
   "source": [
    "## Clusters"
   ]
  },
  {
   "cell_type": "code",
   "execution_count": 80,
   "id": "1a907dd8-2e85-4149-9c65-74c4033b6a04",
   "metadata": {},
   "outputs": [
    {
     "data": {
      "text/html": [
       "<div>\n",
       "<style scoped>\n",
       "    .dataframe tbody tr th:only-of-type {\n",
       "        vertical-align: middle;\n",
       "    }\n",
       "\n",
       "    .dataframe tbody tr th {\n",
       "        vertical-align: top;\n",
       "    }\n",
       "\n",
       "    .dataframe thead th {\n",
       "        text-align: right;\n",
       "    }\n",
       "</style>\n",
       "<table border=\"1\" class=\"dataframe\">\n",
       "  <thead>\n",
       "    <tr style=\"text-align: right;\">\n",
       "      <th></th>\n",
       "      <th>clusters</th>\n",
       "      <th>minor</th>\n",
       "      <th>severe</th>\n",
       "      <th>SVR</th>\n",
       "      <th>ISF</th>\n",
       "      <th>ESV</th>\n",
       "      <th>SAFE</th>\n",
       "    </tr>\n",
       "    <tr>\n",
       "      <th>index</th>\n",
       "      <th></th>\n",
       "      <th></th>\n",
       "      <th></th>\n",
       "      <th></th>\n",
       "      <th></th>\n",
       "      <th></th>\n",
       "      <th></th>\n",
       "    </tr>\n",
       "  </thead>\n",
       "  <tbody>\n",
       "    <tr>\n",
       "      <th>city-1</th>\n",
       "      <td>227.22</td>\n",
       "      <td>147.67</td>\n",
       "      <td>79.56</td>\n",
       "      <td>11.83</td>\n",
       "      <td>23.18</td>\n",
       "      <td>14.47</td>\n",
       "      <td>50.51</td>\n",
       "    </tr>\n",
       "    <tr>\n",
       "      <th>city-2</th>\n",
       "      <td>740.22</td>\n",
       "      <td>506.56</td>\n",
       "      <td>233.67</td>\n",
       "      <td>11.18</td>\n",
       "      <td>20.38</td>\n",
       "      <td>15.13</td>\n",
       "      <td>53.30</td>\n",
       "    </tr>\n",
       "    <tr>\n",
       "      <th>city-3</th>\n",
       "      <td>146.78</td>\n",
       "      <td>105.89</td>\n",
       "      <td>40.89</td>\n",
       "      <td>4.92</td>\n",
       "      <td>22.94</td>\n",
       "      <td>12.19</td>\n",
       "      <td>59.95</td>\n",
       "    </tr>\n",
       "    <tr>\n",
       "      <th>city-4</th>\n",
       "      <td>197.00</td>\n",
       "      <td>163.56</td>\n",
       "      <td>33.44</td>\n",
       "      <td>5.19</td>\n",
       "      <td>11.79</td>\n",
       "      <td>12.18</td>\n",
       "      <td>70.84</td>\n",
       "    </tr>\n",
       "    <tr>\n",
       "      <th>city-5</th>\n",
       "      <td>170.44</td>\n",
       "      <td>133.56</td>\n",
       "      <td>36.89</td>\n",
       "      <td>6.98</td>\n",
       "      <td>14.67</td>\n",
       "      <td>9.91</td>\n",
       "      <td>68.45</td>\n",
       "    </tr>\n",
       "    <tr>\n",
       "      <th>city-6</th>\n",
       "      <td>117.56</td>\n",
       "      <td>83.56</td>\n",
       "      <td>34.00</td>\n",
       "      <td>8.98</td>\n",
       "      <td>19.94</td>\n",
       "      <td>13.52</td>\n",
       "      <td>57.56</td>\n",
       "    </tr>\n",
       "    <tr>\n",
       "      <th>city-7</th>\n",
       "      <td>110.56</td>\n",
       "      <td>89.56</td>\n",
       "      <td>21.00</td>\n",
       "      <td>4.52</td>\n",
       "      <td>14.47</td>\n",
       "      <td>11.76</td>\n",
       "      <td>69.25</td>\n",
       "    </tr>\n",
       "    <tr>\n",
       "      <th>city-8</th>\n",
       "      <td>121.56</td>\n",
       "      <td>98.45</td>\n",
       "      <td>23.11</td>\n",
       "      <td>4.38</td>\n",
       "      <td>14.63</td>\n",
       "      <td>13.80</td>\n",
       "      <td>67.18</td>\n",
       "    </tr>\n",
       "    <tr>\n",
       "      <th>city-9</th>\n",
       "      <td>96.44</td>\n",
       "      <td>69.67</td>\n",
       "      <td>26.78</td>\n",
       "      <td>8.18</td>\n",
       "      <td>19.59</td>\n",
       "      <td>13.02</td>\n",
       "      <td>59.22</td>\n",
       "    </tr>\n",
       "    <tr>\n",
       "      <th>city-10</th>\n",
       "      <td>177.44</td>\n",
       "      <td>140.56</td>\n",
       "      <td>36.88</td>\n",
       "      <td>3.63</td>\n",
       "      <td>17.16</td>\n",
       "      <td>10.52</td>\n",
       "      <td>68.69</td>\n",
       "    </tr>\n",
       "    <tr>\n",
       "      <th>city-11</th>\n",
       "      <td>135.44</td>\n",
       "      <td>96.89</td>\n",
       "      <td>38.55</td>\n",
       "      <td>8.45</td>\n",
       "      <td>20.02</td>\n",
       "      <td>15.34</td>\n",
       "      <td>56.19</td>\n",
       "    </tr>\n",
       "    <tr>\n",
       "      <th>city-12</th>\n",
       "      <td>76.22</td>\n",
       "      <td>58.33</td>\n",
       "      <td>17.89</td>\n",
       "      <td>8.16</td>\n",
       "      <td>15.31</td>\n",
       "      <td>12.98</td>\n",
       "      <td>63.55</td>\n",
       "    </tr>\n",
       "    <tr>\n",
       "      <th>city-13</th>\n",
       "      <td>85.11</td>\n",
       "      <td>72.22</td>\n",
       "      <td>12.89</td>\n",
       "      <td>3.40</td>\n",
       "      <td>11.75</td>\n",
       "      <td>9.79</td>\n",
       "      <td>75.07</td>\n",
       "    </tr>\n",
       "    <tr>\n",
       "      <th>city-14</th>\n",
       "      <td>122.67</td>\n",
       "      <td>86.55</td>\n",
       "      <td>36.11</td>\n",
       "      <td>9.96</td>\n",
       "      <td>19.48</td>\n",
       "      <td>12.41</td>\n",
       "      <td>58.15</td>\n",
       "    </tr>\n",
       "    <tr>\n",
       "      <th>city-15</th>\n",
       "      <td>4.33</td>\n",
       "      <td>2.55</td>\n",
       "      <td>1.78</td>\n",
       "      <td>0.00</td>\n",
       "      <td>41.11</td>\n",
       "      <td>2.54</td>\n",
       "      <td>56.35</td>\n",
       "    </tr>\n",
       "    <tr>\n",
       "      <th>city-16</th>\n",
       "      <td>48.67</td>\n",
       "      <td>41.11</td>\n",
       "      <td>7.56</td>\n",
       "      <td>2.05</td>\n",
       "      <td>13.48</td>\n",
       "      <td>6.84</td>\n",
       "      <td>77.62</td>\n",
       "    </tr>\n",
       "    <tr>\n",
       "      <th>city-17</th>\n",
       "      <td>57.78</td>\n",
       "      <td>45.00</td>\n",
       "      <td>12.78</td>\n",
       "      <td>6.16</td>\n",
       "      <td>15.96</td>\n",
       "      <td>10.00</td>\n",
       "      <td>67.88</td>\n",
       "    </tr>\n",
       "    <tr>\n",
       "      <th>city-18</th>\n",
       "      <td>55.89</td>\n",
       "      <td>42.44</td>\n",
       "      <td>13.44</td>\n",
       "      <td>5.96</td>\n",
       "      <td>18.09</td>\n",
       "      <td>15.10</td>\n",
       "      <td>60.83</td>\n",
       "    </tr>\n",
       "    <tr>\n",
       "      <th>city-19</th>\n",
       "      <td>44.56</td>\n",
       "      <td>41.33</td>\n",
       "      <td>3.22</td>\n",
       "      <td>1.75</td>\n",
       "      <td>5.48</td>\n",
       "      <td>4.98</td>\n",
       "      <td>87.77</td>\n",
       "    </tr>\n",
       "    <tr>\n",
       "      <th>city-20</th>\n",
       "      <td>35.11</td>\n",
       "      <td>27.44</td>\n",
       "      <td>7.67</td>\n",
       "      <td>2.22</td>\n",
       "      <td>19.62</td>\n",
       "      <td>14.24</td>\n",
       "      <td>63.91</td>\n",
       "    </tr>\n",
       "    <tr>\n",
       "      <th>total</th>\n",
       "      <td>2771.00</td>\n",
       "      <td>2052.90</td>\n",
       "      <td>718.11</td>\n",
       "      <td>7.81</td>\n",
       "      <td>18.10</td>\n",
       "      <td>12.98</td>\n",
       "      <td>61.11</td>\n",
       "    </tr>\n",
       "  </tbody>\n",
       "</table>\n",
       "</div>"
      ],
      "text/plain": [
       "         clusters    minor  severe    SVR    ISF    ESV   SAFE\n",
       "index                                                         \n",
       "city-1     227.22   147.67   79.56  11.83  23.18  14.47  50.51\n",
       "city-2     740.22   506.56  233.67  11.18  20.38  15.13  53.30\n",
       "city-3     146.78   105.89   40.89   4.92  22.94  12.19  59.95\n",
       "city-4     197.00   163.56   33.44   5.19  11.79  12.18  70.84\n",
       "city-5     170.44   133.56   36.89   6.98  14.67   9.91  68.45\n",
       "city-6     117.56    83.56   34.00   8.98  19.94  13.52  57.56\n",
       "city-7     110.56    89.56   21.00   4.52  14.47  11.76  69.25\n",
       "city-8     121.56    98.45   23.11   4.38  14.63  13.80  67.18\n",
       "city-9      96.44    69.67   26.78   8.18  19.59  13.02  59.22\n",
       "city-10    177.44   140.56   36.88   3.63  17.16  10.52  68.69\n",
       "city-11    135.44    96.89   38.55   8.45  20.02  15.34  56.19\n",
       "city-12     76.22    58.33   17.89   8.16  15.31  12.98  63.55\n",
       "city-13     85.11    72.22   12.89   3.40  11.75   9.79  75.07\n",
       "city-14    122.67    86.55   36.11   9.96  19.48  12.41  58.15\n",
       "city-15      4.33     2.55    1.78   0.00  41.11   2.54  56.35\n",
       "city-16     48.67    41.11    7.56   2.05  13.48   6.84  77.62\n",
       "city-17     57.78    45.00   12.78   6.16  15.96  10.00  67.88\n",
       "city-18     55.89    42.44   13.44   5.96  18.09  15.10  60.83\n",
       "city-19     44.56    41.33    3.22   1.75   5.48   4.98  87.77\n",
       "city-20     35.11    27.44    7.67   2.22  19.62  14.24  63.91\n",
       "total     2771.00  2052.90  718.11   7.81  18.10  12.98  61.11"
      ]
     },
     "execution_count": 80,
     "metadata": {},
     "output_type": "execute_result"
    }
   ],
   "source": [
    "# place-holder for clsuters table\n",
    "# cluster = pd.DataFrame(index=[f\"city-{i}\" for i in range(20)], columns=\"clusters SVR ISF ESV SAFE\".split()).fillna(\"XXX\")\n",
    "# cluster.index.name = \"city\"\n",
    "# cluster.head()\n",
    "cluster = pd.read_csv(use_dir+\"accident_clusters_statistics_by_city.csv\", usecols=[\"city\",  \"num_clusters\", \"Consistent Severity\", \"Improved Safety\", \"Severe Turnaround\", \"Stable Safety\"], index_col=\"city\")\n",
    "cluster.columns = \"clusters SVR ISF ESV SAFE\".split()\n",
    "cluster[\"minor\"] = cluster.SAFE + cluster.ESV\n",
    "cluster[\"severe\"] = cluster.SVR + cluster.ISF\n",
    "\n",
    "if REMOVE_CITY_NAMES:\n",
    "    cluster = cluster.join(city_codes.reset_index().set_index(\"city\")).set_index(\"index\")\n",
    "\n",
    "    def sort_f(index):\n",
    "        return [int(v.split(\"-\")[1]) for v in index]\n",
    "    \n",
    "    cluster.sort_index(inplace=True, ascending=True, key=sort_f)\n",
    "    \n",
    "cluster.loc[\"total\"]= cluster.sum()\n",
    "cluster = cluster[\"clusters minor severe SVR ISF ESV SAFE\".split()]\n",
    "\n",
    "# percentages \n",
    "cluster.SVR = (cluster.SVR / cluster.clusters * 100).round(2)\n",
    "cluster.ISF = (cluster.ISF / cluster.clusters * 100).round(2) \n",
    "cluster.ESV = (cluster.ESV / cluster.clusters * 100).round(2) \n",
    "cluster.SAFE = (cluster.SAFE / cluster.clusters * 100).round(2) \n",
    "cluster \n"
   ]
  },
  {
   "cell_type": "code",
   "execution_count": 81,
   "id": "008a7b2c-cc9e-4d33-b04f-07335bed88b9",
   "metadata": {
    "tags": []
   },
   "outputs": [
    {
     "name": "stdout",
     "output_type": "stream",
     "text": [
      "\\begin{tabular}{lrrrrrrr}\n",
      " & clusters & minor & severe & SVR & ISF & ESV & SAFE \\\\\n",
      "index &  &  &  &  &  &  &  \\\\\n",
      "city-1 & 227.22 & 147.67 & 79.56 & 11.83 & 23.18 & 14.47 & 50.51 \\\\\n",
      "city-2 & 740.22 & 506.56 & 233.67 & 11.18 & 20.38 & 15.13 & 53.30 \\\\\n",
      "city-3 & 146.78 & 105.89 & 40.89 & 4.92 & 22.94 & 12.19 & 59.95 \\\\\n",
      "city-4 & 197.00 & 163.56 & 33.44 & 5.19 & 11.79 & 12.18 & 70.84 \\\\\n",
      "city-5 & 170.44 & 133.56 & 36.89 & 6.98 & 14.67 & 9.91 & 68.45 \\\\\n",
      "city-6 & 117.56 & 83.56 & 34.00 & 8.98 & 19.94 & 13.52 & 57.56 \\\\\n",
      "city-7 & 110.56 & 89.56 & 21.00 & 4.52 & 14.47 & 11.76 & 69.25 \\\\\n",
      "city-8 & 121.56 & 98.45 & 23.11 & 4.38 & 14.63 & 13.80 & 67.18 \\\\\n",
      "city-9 & 96.44 & 69.67 & 26.78 & 8.18 & 19.59 & 13.02 & 59.22 \\\\\n",
      "city-10 & 177.44 & 140.56 & 36.88 & 3.63 & 17.16 & 10.52 & 68.69 \\\\\n",
      "city-11 & 135.44 & 96.89 & 38.55 & 8.45 & 20.02 & 15.34 & 56.19 \\\\\n",
      "city-12 & 76.22 & 58.33 & 17.89 & 8.16 & 15.31 & 12.98 & 63.55 \\\\\n",
      "city-13 & 85.11 & 72.22 & 12.89 & 3.40 & 11.75 & 9.79 & 75.07 \\\\\n",
      "city-14 & 122.67 & 86.55 & 36.11 & 9.96 & 19.48 & 12.41 & 58.15 \\\\\n",
      "city-15 & 4.33 & 2.55 & 1.78 & 0.00 & 41.11 & 2.54 & 56.35 \\\\\n",
      "city-16 & 48.67 & 41.11 & 7.56 & 2.05 & 13.48 & 6.84 & 77.62 \\\\\n",
      "city-17 & 57.78 & 45.00 & 12.78 & 6.16 & 15.96 & 10.00 & 67.88 \\\\\n",
      "city-18 & 55.89 & 42.44 & 13.44 & 5.96 & 18.09 & 15.10 & 60.83 \\\\\n",
      "city-19 & 44.56 & 41.33 & 3.22 & 1.75 & 5.48 & 4.98 & 87.77 \\\\\n",
      "city-20 & 35.11 & 27.44 & 7.67 & 2.22 & 19.62 & 14.24 & 63.91 \\\\\n",
      "total & 2771.00 & 2052.90 & 718.11 & 7.81 & 18.10 & 12.98 & 61.11 \\\\\n",
      "\\end{tabular}\n",
      "\n"
     ]
    }
   ],
   "source": [
    "print(cluster.style.format(precision=2).to_latex())"
   ]
  },
  {
   "cell_type": "markdown",
   "id": "e816cf34-90a9-4305-b84c-221094414f49",
   "metadata": {},
   "source": [
    "## Risk table"
   ]
  },
  {
   "cell_type": "code",
   "execution_count": 78,
   "id": "e1b37f6c-99d7-4083-873b-c1914cbf1274",
   "metadata": {
    "tags": []
   },
   "outputs": [
    {
     "data": {
      "text/html": [
       "<div>\n",
       "<style scoped>\n",
       "    .dataframe tbody tr th:only-of-type {\n",
       "        vertical-align: middle;\n",
       "    }\n",
       "\n",
       "    .dataframe tbody tr th {\n",
       "        vertical-align: top;\n",
       "    }\n",
       "\n",
       "    .dataframe thead th {\n",
       "        text-align: right;\n",
       "    }\n",
       "</style>\n",
       "<table border=\"1\" class=\"dataframe\">\n",
       "  <thead>\n",
       "    <tr style=\"text-align: right;\">\n",
       "      <th></th>\n",
       "      <th>minor</th>\n",
       "      <th>severe</th>\n",
       "      <th>ratio</th>\n",
       "    </tr>\n",
       "    <tr>\n",
       "      <th>index</th>\n",
       "      <th></th>\n",
       "      <th></th>\n",
       "      <th></th>\n",
       "    </tr>\n",
       "  </thead>\n",
       "  <tbody>\n",
       "    <tr>\n",
       "      <th>city-1</th>\n",
       "      <td>22.270000</td>\n",
       "      <td>33.800000</td>\n",
       "      <td>65.887574</td>\n",
       "    </tr>\n",
       "    <tr>\n",
       "      <th>city-2</th>\n",
       "      <td>22.110000</td>\n",
       "      <td>35.430000</td>\n",
       "      <td>62.404742</td>\n",
       "    </tr>\n",
       "    <tr>\n",
       "      <th>city-3</th>\n",
       "      <td>16.890000</td>\n",
       "      <td>17.660000</td>\n",
       "      <td>95.639864</td>\n",
       "    </tr>\n",
       "    <tr>\n",
       "      <th>city-4</th>\n",
       "      <td>14.670000</td>\n",
       "      <td>30.560000</td>\n",
       "      <td>48.003927</td>\n",
       "    </tr>\n",
       "    <tr>\n",
       "      <th>city-5</th>\n",
       "      <td>12.650000</td>\n",
       "      <td>32.230000</td>\n",
       "      <td>39.249147</td>\n",
       "    </tr>\n",
       "    <tr>\n",
       "      <th>city-6</th>\n",
       "      <td>19.020000</td>\n",
       "      <td>31.050000</td>\n",
       "      <td>61.256039</td>\n",
       "    </tr>\n",
       "    <tr>\n",
       "      <th>city-7</th>\n",
       "      <td>14.520000</td>\n",
       "      <td>23.810000</td>\n",
       "      <td>60.982780</td>\n",
       "    </tr>\n",
       "    <tr>\n",
       "      <th>city-8</th>\n",
       "      <td>17.040000</td>\n",
       "      <td>23.080000</td>\n",
       "      <td>73.830156</td>\n",
       "    </tr>\n",
       "    <tr>\n",
       "      <th>city-9</th>\n",
       "      <td>18.020000</td>\n",
       "      <td>29.460000</td>\n",
       "      <td>61.167685</td>\n",
       "    </tr>\n",
       "    <tr>\n",
       "      <th>city-10</th>\n",
       "      <td>13.280000</td>\n",
       "      <td>17.470000</td>\n",
       "      <td>76.016027</td>\n",
       "    </tr>\n",
       "    <tr>\n",
       "      <th>city-11</th>\n",
       "      <td>21.440000</td>\n",
       "      <td>29.680000</td>\n",
       "      <td>72.237197</td>\n",
       "    </tr>\n",
       "    <tr>\n",
       "      <th>city-12</th>\n",
       "      <td>16.950000</td>\n",
       "      <td>34.780000</td>\n",
       "      <td>48.734905</td>\n",
       "    </tr>\n",
       "    <tr>\n",
       "      <th>city-13</th>\n",
       "      <td>11.540000</td>\n",
       "      <td>22.410000</td>\n",
       "      <td>51.494868</td>\n",
       "    </tr>\n",
       "    <tr>\n",
       "      <th>city-14</th>\n",
       "      <td>17.590000</td>\n",
       "      <td>33.850000</td>\n",
       "      <td>51.964549</td>\n",
       "    </tr>\n",
       "    <tr>\n",
       "      <th>city-15</th>\n",
       "      <td>4.350000</td>\n",
       "      <td>0.000000</td>\n",
       "      <td>inf</td>\n",
       "    </tr>\n",
       "    <tr>\n",
       "      <th>city-16</th>\n",
       "      <td>8.110000</td>\n",
       "      <td>13.240000</td>\n",
       "      <td>61.253776</td>\n",
       "    </tr>\n",
       "    <tr>\n",
       "      <th>city-17</th>\n",
       "      <td>12.840000</td>\n",
       "      <td>27.830000</td>\n",
       "      <td>46.137262</td>\n",
       "    </tr>\n",
       "    <tr>\n",
       "      <th>city-18</th>\n",
       "      <td>19.900000</td>\n",
       "      <td>24.790000</td>\n",
       "      <td>80.274304</td>\n",
       "    </tr>\n",
       "    <tr>\n",
       "      <th>city-19</th>\n",
       "      <td>5.380000</td>\n",
       "      <td>24.140000</td>\n",
       "      <td>22.286661</td>\n",
       "    </tr>\n",
       "    <tr>\n",
       "      <th>city-20</th>\n",
       "      <td>18.220000</td>\n",
       "      <td>10.140000</td>\n",
       "      <td>179.684418</td>\n",
       "    </tr>\n",
       "    <tr>\n",
       "      <th>city mean</th>\n",
       "      <td>15.339500</td>\n",
       "      <td>24.770500</td>\n",
       "      <td>61.926485</td>\n",
       "    </tr>\n",
       "    <tr>\n",
       "      <th>weighted mean</th>\n",
       "      <td>17.519233</td>\n",
       "      <td>30.142802</td>\n",
       "      <td>58.120786</td>\n",
       "    </tr>\n",
       "  </tbody>\n",
       "</table>\n",
       "</div>"
      ],
      "text/plain": [
       "                   minor     severe       ratio\n",
       "index                                          \n",
       "city-1         22.270000  33.800000   65.887574\n",
       "city-2         22.110000  35.430000   62.404742\n",
       "city-3         16.890000  17.660000   95.639864\n",
       "city-4         14.670000  30.560000   48.003927\n",
       "city-5         12.650000  32.230000   39.249147\n",
       "city-6         19.020000  31.050000   61.256039\n",
       "city-7         14.520000  23.810000   60.982780\n",
       "city-8         17.040000  23.080000   73.830156\n",
       "city-9         18.020000  29.460000   61.167685\n",
       "city-10        13.280000  17.470000   76.016027\n",
       "city-11        21.440000  29.680000   72.237197\n",
       "city-12        16.950000  34.780000   48.734905\n",
       "city-13        11.540000  22.410000   51.494868\n",
       "city-14        17.590000  33.850000   51.964549\n",
       "city-15         4.350000   0.000000         inf\n",
       "city-16         8.110000  13.240000   61.253776\n",
       "city-17        12.840000  27.830000   46.137262\n",
       "city-18        19.900000  24.790000   80.274304\n",
       "city-19         5.380000  24.140000   22.286661\n",
       "city-20        18.220000  10.140000  179.684418\n",
       "city mean      15.339500  24.770500   61.926485\n",
       "weighted mean  17.519233  30.142802   58.120786"
      ]
     },
     "execution_count": 78,
     "metadata": {},
     "output_type": "execute_result"
    }
   ],
   "source": [
    "risk = pd.read_csv(use_dir+\"accident_clusters_statistics_by_city.csv\", index_col=\"city\", usecols=\"city severe_turnaround_probability consistent_severe_probability\".split())\n",
    "risk.columns = [\"minor\", \"severe\"]\n",
    "\n",
    "\n",
    "if REMOVE_CITY_NAMES:\n",
    "    risk = risk.join(city_codes.reset_index().set_index(\"city\")).set_index(\"index\")\n",
    "    risk.sort_index(inplace=True, ascending=True, key=sort_f)\n",
    "\n",
    "risk.loc[\"city mean\"]= risk.mean()\n",
    "risk.loc[\"weighted mean\"] = (100. * cluster.loc[\"total\", \"ESV\"] / (cluster.loc[\"total\", \"ESV\"] + cluster.loc[\"total\", \"SAFE\"]), 100. * cluster.loc[\"total\", \"SVR\"] / (cluster.loc[\"total\", \"SVR\"] + cluster.loc[\"total\", \"ISF\"]) )\n",
    "\n",
    "risk[\"ratio\"] = 100. * risk.minor / risk.severe \n",
    "\n",
    "risk.fillna(0, inplace=True)\n",
    "\n",
    "risk"
   ]
  },
  {
   "cell_type": "code",
   "execution_count": 79,
   "id": "46dc1c69-4d78-48e7-b545-7feb51b7c83c",
   "metadata": {
    "tags": []
   },
   "outputs": [
    {
     "name": "stdout",
     "output_type": "stream",
     "text": [
      "\\begin{tabular}{lrrr}\n",
      " & minor & severe & ratio \\\\\n",
      "index &  &  &  \\\\\n",
      "city-1 & 22.27 & 33.80 & 65.89 \\\\\n",
      "city-2 & 22.11 & 35.43 & 62.40 \\\\\n",
      "city-3 & 16.89 & 17.66 & 95.64 \\\\\n",
      "city-4 & 14.67 & 30.56 & 48.00 \\\\\n",
      "city-5 & 12.65 & 32.23 & 39.25 \\\\\n",
      "city-6 & 19.02 & 31.05 & 61.26 \\\\\n",
      "city-7 & 14.52 & 23.81 & 60.98 \\\\\n",
      "city-8 & 17.04 & 23.08 & 73.83 \\\\\n",
      "city-9 & 18.02 & 29.46 & 61.17 \\\\\n",
      "city-10 & 13.28 & 17.47 & 76.02 \\\\\n",
      "city-11 & 21.44 & 29.68 & 72.24 \\\\\n",
      "city-12 & 16.95 & 34.78 & 48.73 \\\\\n",
      "city-13 & 11.54 & 22.41 & 51.49 \\\\\n",
      "city-14 & 17.59 & 33.85 & 51.96 \\\\\n",
      "city-15 & 4.35 & 0.00 & inf \\\\\n",
      "city-16 & 8.11 & 13.24 & 61.25 \\\\\n",
      "city-17 & 12.84 & 27.83 & 46.14 \\\\\n",
      "city-18 & 19.90 & 24.79 & 80.27 \\\\\n",
      "city-19 & 5.38 & 24.14 & 22.29 \\\\\n",
      "city-20 & 18.22 & 10.14 & 179.68 \\\\\n",
      "city mean & 15.34 & 24.77 & 61.93 \\\\\n",
      "weighted mean & 17.52 & 30.14 & 58.12 \\\\\n",
      "\\end{tabular}\n",
      "\n"
     ]
    }
   ],
   "source": [
    "print(risk.style.format(precision=2).to_latex())"
   ]
  },
  {
   "cell_type": "code",
   "execution_count": 77,
   "id": "b8635e11",
   "metadata": {},
   "outputs": [
    {
     "data": {
      "text/html": [
       "<div>\n",
       "<style scoped>\n",
       "    .dataframe tbody tr th:only-of-type {\n",
       "        vertical-align: middle;\n",
       "    }\n",
       "\n",
       "    .dataframe tbody tr th {\n",
       "        vertical-align: top;\n",
       "    }\n",
       "\n",
       "    .dataframe thead th {\n",
       "        text-align: right;\n",
       "    }\n",
       "</style>\n",
       "<table border=\"1\" class=\"dataframe\">\n",
       "  <thead>\n",
       "    <tr style=\"text-align: right;\">\n",
       "      <th></th>\n",
       "      <th>minor</th>\n",
       "      <th>severe</th>\n",
       "      <th>ratio</th>\n",
       "    </tr>\n",
       "  </thead>\n",
       "  <tbody>\n",
       "    <tr>\n",
       "      <th>count</th>\n",
       "      <td>22.000000</td>\n",
       "      <td>21.000000</td>\n",
       "      <td>21.000000</td>\n",
       "    </tr>\n",
       "    <tr>\n",
       "      <th>mean</th>\n",
       "      <td>15.438579</td>\n",
       "      <td>26.205872</td>\n",
       "      <td>65.645388</td>\n",
       "    </tr>\n",
       "    <tr>\n",
       "      <th>std</th>\n",
       "      <td>4.898535</td>\n",
       "      <td>7.099437</td>\n",
       "      <td>30.364301</td>\n",
       "    </tr>\n",
       "    <tr>\n",
       "      <th>min</th>\n",
       "      <td>4.350000</td>\n",
       "      <td>10.140000</td>\n",
       "      <td>22.286661</td>\n",
       "    </tr>\n",
       "    <tr>\n",
       "      <th>25%</th>\n",
       "      <td>12.950000</td>\n",
       "      <td>23.080000</td>\n",
       "      <td>51.494868</td>\n",
       "    </tr>\n",
       "    <tr>\n",
       "      <th>50%</th>\n",
       "      <td>16.920000</td>\n",
       "      <td>27.830000</td>\n",
       "      <td>61.253776</td>\n",
       "    </tr>\n",
       "    <tr>\n",
       "      <th>75%</th>\n",
       "      <td>18.170000</td>\n",
       "      <td>31.050000</td>\n",
       "      <td>72.237197</td>\n",
       "    </tr>\n",
       "    <tr>\n",
       "      <th>max</th>\n",
       "      <td>22.270000</td>\n",
       "      <td>35.430000</td>\n",
       "      <td>179.684418</td>\n",
       "    </tr>\n",
       "  </tbody>\n",
       "</table>\n",
       "</div>"
      ],
      "text/plain": [
       "           minor     severe       ratio\n",
       "count  22.000000  21.000000   21.000000\n",
       "mean   15.438579  26.205872   65.645388\n",
       "std     4.898535   7.099437   30.364301\n",
       "min     4.350000  10.140000   22.286661\n",
       "25%    12.950000  23.080000   51.494868\n",
       "50%    16.920000  27.830000   61.253776\n",
       "75%    18.170000  31.050000   72.237197\n",
       "max    22.270000  35.430000  179.684418"
      ]
     },
     "execution_count": 77,
     "metadata": {},
     "output_type": "execute_result"
    }
   ],
   "source": [
    "risk.replace(0, np.nan).replace(np.inf, np.nan).describe()"
   ]
  },
  {
   "cell_type": "code",
   "execution_count": 31,
   "id": "9d7768aa-b85d-410b-94cf-a06835746a39",
   "metadata": {
    "tags": []
   },
   "outputs": [
    {
     "data": {
      "text/html": [
       "<div>\n",
       "<style scoped>\n",
       "    .dataframe tbody tr th:only-of-type {\n",
       "        vertical-align: middle;\n",
       "    }\n",
       "\n",
       "    .dataframe tbody tr th {\n",
       "        vertical-align: top;\n",
       "    }\n",
       "\n",
       "    .dataframe thead th {\n",
       "        text-align: right;\n",
       "    }\n",
       "</style>\n",
       "<table border=\"1\" class=\"dataframe\">\n",
       "  <thead>\n",
       "    <tr style=\"text-align: right;\">\n",
       "      <th></th>\n",
       "      <th>minor</th>\n",
       "      <th>severe</th>\n",
       "      <th>ratio</th>\n",
       "    </tr>\n",
       "  </thead>\n",
       "  <tbody>\n",
       "    <tr>\n",
       "      <th>minor</th>\n",
       "      <td>1.000000</td>\n",
       "      <td>0.597675</td>\n",
       "      <td>0.381895</td>\n",
       "    </tr>\n",
       "    <tr>\n",
       "      <th>severe</th>\n",
       "      <td>0.597675</td>\n",
       "      <td>1.000000</td>\n",
       "      <td>-0.602199</td>\n",
       "    </tr>\n",
       "    <tr>\n",
       "      <th>ratio</th>\n",
       "      <td>0.381895</td>\n",
       "      <td>-0.602199</td>\n",
       "      <td>1.000000</td>\n",
       "    </tr>\n",
       "  </tbody>\n",
       "</table>\n",
       "</div>"
      ],
      "text/plain": [
       "           minor    severe     ratio\n",
       "minor   1.000000  0.597675  0.381895\n",
       "severe  0.597675  1.000000 -0.602199\n",
       "ratio   0.381895 -0.602199  1.000000"
      ]
     },
     "execution_count": 31,
     "metadata": {},
     "output_type": "execute_result"
    }
   ],
   "source": [
    "risk.corr()"
   ]
  },
  {
   "cell_type": "code",
   "execution_count": 32,
   "id": "2d8adb4b-697e-417a-b454-c795d062db6f",
   "metadata": {
    "tags": []
   },
   "outputs": [
    {
     "data": {
      "text/plain": [
       "<Axes: xlabel='minor', ylabel='severe'>"
      ]
     },
     "execution_count": 32,
     "metadata": {},
     "output_type": "execute_result"
    },
    {
     "data": {
      "image/png": "[encoded data removed]",
      "text/plain": [
       "<Figure size 640x480 with 1 Axes>"
      ]
     },
     "metadata": {},
     "output_type": "display_data"
    }
   ],
   "source": [
    "risk.drop(\"city-15\", axis=0).plot(kind=\"scatter\", x=\"minor\", y=\"severe\")"
   ]
  },
  {
   "cell_type": "code",
   "execution_count": 33,
   "id": "83f1a01f-db2c-4f1d-ad7c-486c18e39e9b",
   "metadata": {
    "tags": []
   },
   "outputs": [
    {
     "data": {
      "text/plain": [
       "PearsonRResult(statistic=0.5976747334008538, pvalue=0.0033087790739161106)"
      ]
     },
     "execution_count": 33,
     "metadata": {},
     "output_type": "execute_result"
    }
   ],
   "source": [
    "pearsonr(risk.minor, risk.severe)"
   ]
  },
  {
   "cell_type": "code",
   "execution_count": 45,
   "id": "93b0ef92",
   "metadata": {},
   "outputs": [
    {
     "data": {
      "text/plain": [
       "62.433862433862444"
      ]
     },
     "execution_count": 45,
     "metadata": {},
     "output_type": "execute_result"
    }
   ],
   "source": [
    "12.98/(12.98+7.81) * 100 "
   ]
  },
  {
   "cell_type": "markdown",
   "id": "ed8aff34",
   "metadata": {},
   "source": [
    "# Outliers"
   ]
  },
  {
   "cell_type": "code",
   "execution_count": 50,
   "id": "fb33aa2f",
   "metadata": {},
   "outputs": [
    {
     "data": {
      "text/html": [
       "<div>\n",
       "<style scoped>\n",
       "    .dataframe tbody tr th:only-of-type {\n",
       "        vertical-align: middle;\n",
       "    }\n",
       "\n",
       "    .dataframe tbody tr th {\n",
       "        vertical-align: top;\n",
       "    }\n",
       "\n",
       "    .dataframe thead th {\n",
       "        text-align: right;\n",
       "    }\n",
       "</style>\n",
       "<table border=\"1\" class=\"dataframe\">\n",
       "  <thead>\n",
       "    <tr style=\"text-align: right;\">\n",
       "      <th></th>\n",
       "      <th>HUMRAT_TEUNA</th>\n",
       "      <th>total_count_train</th>\n",
       "      <th>outliers_count_train</th>\n",
       "      <th>percentage_outliers_train</th>\n",
       "      <th>total_count_test</th>\n",
       "      <th>outliers_count_test</th>\n",
       "      <th>percentage_outliers_test</th>\n",
       "      <th>inn</th>\n",
       "      <th>is-minor</th>\n",
       "    </tr>\n",
       "  </thead>\n",
       "  <tbody>\n",
       "    <tr>\n",
       "      <th>0</th>\n",
       "      <td>1</td>\n",
       "      <td>149.285714</td>\n",
       "      <td>58.571429</td>\n",
       "      <td>39.218439</td>\n",
       "      <td>162.714286</td>\n",
       "      <td>82.285714</td>\n",
       "      <td>50.560829</td>\n",
       "      <td>90.714286</td>\n",
       "      <td>False</td>\n",
       "    </tr>\n",
       "    <tr>\n",
       "      <th>1</th>\n",
       "      <td>2</td>\n",
       "      <td>1227.000000</td>\n",
       "      <td>479.857143</td>\n",
       "      <td>39.418225</td>\n",
       "      <td>1541.571429</td>\n",
       "      <td>805.000000</td>\n",
       "      <td>52.301668</td>\n",
       "      <td>747.142857</td>\n",
       "      <td>False</td>\n",
       "    </tr>\n",
       "    <tr>\n",
       "      <th>2</th>\n",
       "      <td>3</td>\n",
       "      <td>12196.857143</td>\n",
       "      <td>3841.285714</td>\n",
       "      <td>31.493028</td>\n",
       "      <td>11709.285714</td>\n",
       "      <td>5332.428571</td>\n",
       "      <td>45.516517</td>\n",
       "      <td>8355.571429</td>\n",
       "      <td>True</td>\n",
       "    </tr>\n",
       "    <tr>\n",
       "      <th>3</th>\n",
       "      <td>4</td>\n",
       "      <td>12814.285714</td>\n",
       "      <td>5178.857143</td>\n",
       "      <td>40.312254</td>\n",
       "      <td>15637.285714</td>\n",
       "      <td>8611.857143</td>\n",
       "      <td>55.212342</td>\n",
       "      <td>7635.428571</td>\n",
       "      <td>True</td>\n",
       "    </tr>\n",
       "  </tbody>\n",
       "</table>\n",
       "</div>"
      ],
      "text/plain": [
       "   HUMRAT_TEUNA  total_count_train  outliers_count_train  \\\n",
       "0             1         149.285714             58.571429   \n",
       "1             2        1227.000000            479.857143   \n",
       "2             3       12196.857143           3841.285714   \n",
       "3             4       12814.285714           5178.857143   \n",
       "\n",
       "   percentage_outliers_train  total_count_test  outliers_count_test  \\\n",
       "0                  39.218439        162.714286            82.285714   \n",
       "1                  39.418225       1541.571429           805.000000   \n",
       "2                  31.493028      11709.285714          5332.428571   \n",
       "3                  40.312254      15637.285714          8611.857143   \n",
       "\n",
       "   percentage_outliers_test          inn  is-minor  \n",
       "0                 50.560829    90.714286     False  \n",
       "1                 52.301668   747.142857     False  \n",
       "2                 45.516517  8355.571429      True  \n",
       "3                 55.212342  7635.428571      True  "
      ]
     },
     "execution_count": 50,
     "metadata": {},
     "output_type": "execute_result"
    }
   ],
   "source": [
    "out = pd.read_csv(use_dir+\"outliers_percentage.csv\")\n",
    "out[\"inn\"] = out.total_count_train - out.outliers_count_train\n",
    "out[\"is-minor\"] = out.HUMRAT_TEUNA > 2 \n",
    "out"
   ]
  },
  {
   "cell_type": "code",
   "execution_count": 52,
   "id": "b571fa21",
   "metadata": {},
   "outputs": [
    {
     "data": {
      "text/plain": [
       "63.776040538784706"
      ]
     },
     "execution_count": 52,
     "metadata": {},
     "output_type": "execute_result"
    }
   ],
   "source": [
    "out.inn.sum() / out.total_count_train.sum() * 100 "
   ]
  },
  {
   "cell_type": "code",
   "execution_count": 53,
   "id": "9956d9e9",
   "metadata": {},
   "outputs": [
    {
     "data": {
      "text/plain": [
       "63.935503032933894"
      ]
     },
     "execution_count": 53,
     "metadata": {},
     "output_type": "execute_result"
    }
   ],
   "source": [
    "out[out[\"is-minor\"]].inn.sum() / out[out[\"is-minor\"]].total_count_train.sum() * 100"
   ]
  },
  {
   "cell_type": "code",
   "execution_count": 54,
   "id": "220acd60",
   "metadata": {},
   "outputs": [
    {
     "data": {
      "text/plain": [
       "60.87813992111273"
      ]
     },
     "execution_count": 54,
     "metadata": {},
     "output_type": "execute_result"
    }
   ],
   "source": [
    "out[~out[\"is-minor\"]].inn.sum() / out[~out[\"is-minor\"]].total_count_train.sum() * 100\n"
   ]
  },
  {
   "cell_type": "code",
   "execution_count": null,
   "id": "44ebb527",
   "metadata": {},
   "outputs": [],
   "source": []
  }
 ],
 "metadata": {
  "kernelspec": {
   "display_name": "Python 3 (ipykernel)",
   "language": "python",
   "name": "python3"
  },
  "language_info": {
   "codemirror_mode": {
    "name": "ipython",
    "version": 3
   },
   "file_extension": ".py",
   "mimetype": "text/x-python",
   "name": "python",
   "nbconvert_exporter": "python",
   "pygments_lexer": "ipython3",
   "version": "3.11.4"
  }
 },
 "nbformat": 4,
 "nbformat_minor": 5
}
